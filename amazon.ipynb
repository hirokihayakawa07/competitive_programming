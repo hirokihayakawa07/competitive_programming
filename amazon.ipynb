{
 "cells": [
  {
   "cell_type": "code",
   "execution_count": 44,
   "metadata": {},
   "outputs": [],
   "source": [
    "# 1710. Maximum Units on a Truck\n",
    "# You are assigned to put some amount of boxes onto one truck. \n",
    "# You are given a 2D array boxTypes, where boxTypes[i] = [numberOfBoxesi, numberOfUnitsPerBoxi]:\n",
    "\n",
    "# numberOfBoxesi is the number of boxes of type i.\n",
    "# numberOfUnitsPerBoxi is the number of units in each box of the type i.\n",
    "# You are also given an integer truckSize, which is the maximum number of boxes \n",
    "# that can be put on the truck. \n",
    "# You can choose any boxes to put on the truck as long as the number of boxes does not exceed truckSize.\n",
    "\n",
    "# Return the maximum total number of units that can be put on the truck.\n",
    "\n",
    "boxTypes = [[1,3],[2,2],[3,1]]\n",
    "truckSize = 4"
   ]
  },
  {
   "cell_type": "code",
   "execution_count": 45,
   "metadata": {},
   "outputs": [
    {
     "name": "stdout",
     "output_type": "stream",
     "text": [
      "[[-3, 1], [-2, 2], [-1, 3]]\n",
      "-3 1\n",
      "3 3\n",
      "-2 2\n",
      "7 1\n",
      "-1 3\n"
     ]
    }
   ],
   "source": [
    "import heapq\n",
    "boxTypes = [[-num_unit, num_box] for num_box, num_unit in boxTypes]\n",
    "heapq.heapify(boxTypes)\n",
    "# print(boxTypes)\n",
    "total_unit = 0\n",
    "while truckSize > 0 and boxTypes:\n",
    "    u, b = heapq.heappop(boxTypes)\n",
    "#     print(u, b)\n",
    "    if truckSize >= b:\n",
    "        total_unit += -u * b\n",
    "        truckSize -= b\n",
    "#         print(total_unit, truckSize)\n",
    "    else:\n",
    "        total_unit += -u * truckSize\n",
    "        truckSize = 0"
   ]
  },
  {
   "cell_type": "code",
   "execution_count": 44,
   "metadata": {},
   "outputs": [],
   "source": [
    "# 907. Sum of Subarray Minimums\n",
    "# Given an array of integers arr, find the sum of min(b), \n",
    "# where b ranges over every (contiguous) subarray of arr. \n",
    "# Since the answer may be large, return the answer modulo 109 + 7.\n",
    "\n",
    "A=[3,1,2,5,4]"
   ]
  },
  {
   "cell_type": "code",
   "execution_count": 45,
   "metadata": {},
   "outputs": [],
   "source": [
    "# 3\n",
    "# 1 + 1\n",
    "# 1 + 1 + 2\n",
    "# 1 + 1 + 2 + 5\n",
    "# 1 + 1 + 2 + 4 + 4\n",
    "# result = [3,2,4,9,12]"
   ]
  },
  {
   "cell_type": "code",
   "execution_count": 48,
   "metadata": {},
   "outputs": [
    {
     "data": {
      "text/plain": [
       "30"
      ]
     },
     "execution_count": 48,
     "metadata": {},
     "output_type": "execute_result"
    }
   ],
   "source": [
    "# time limit exceeded\n",
    "res = 0\n",
    "n = len(A)\n",
    "for i in range(n):\n",
    "    for j in range(i, n):\n",
    "        res += min(A[i:j+1])\n",
    "res"
   ]
  },
  {
   "cell_type": "code",
   "execution_count": 51,
   "metadata": {},
   "outputs": [
    {
     "data": {
      "text/plain": [
       "30"
      ]
     },
     "execution_count": 51,
     "metadata": {},
     "output_type": "execute_result"
    }
   ],
   "source": [
    "A = [3,1,2,5,4]\n",
    "A = [0] + A\n",
    "n = len(A)\n",
    "stack = [0]\n",
    "res = [0] * n\n",
    "for i in range(n):\n",
    "    while A[stack[-1]] > A[i]:\n",
    "        stack.pop()\n",
    "    j = stack[-1]\n",
    "    res[i] = res[j] + (i - j) * A[i]\n",
    "    stack.append(i)\n",
    "sum(res) % (10**9 + 7)"
   ]
  },
  {
   "cell_type": "code",
   "execution_count": 52,
   "metadata": {},
   "outputs": [],
   "source": [
    "# 2104. Sum of Subarray Ranges\n",
    "# You are given an integer array nums. \n",
    "# The range of a subarray of nums is the difference \n",
    "# between the largest and smallest element in the subarray.\n",
    "\n",
    "# Return the sum of all subarray ranges of nums.\n",
    "\n",
    "# A subarray is a contiguous non-empty sequence of elements within an array.\n"
   ]
  },
  {
   "cell_type": "code",
   "execution_count": null,
   "metadata": {},
   "outputs": [],
   "source": [
    "A=[3,1,2,5,4]\n",
    "3\n",
    "1,1\n",
    "1,1,2\n",
    "1,1,2,5\n",
    "1,1,2,4,4\n",
    "\n",
    "3\n",
    "3,1\n",
    "3,2,2\n",
    "5,5,5,5\n",
    "5,5,5,5,4\n"
   ]
  },
  {
   "cell_type": "code",
   "execution_count": 58,
   "metadata": {},
   "outputs": [
    {
     "data": {
      "text/plain": [
       "28"
      ]
     },
     "execution_count": 58,
     "metadata": {},
     "output_type": "execute_result"
    }
   ],
   "source": [
    "# min\n",
    "A=[3,1,2,5,4]\n",
    "A = [0] + A\n",
    "n = len(A)\n",
    "res_min = [0] * n\n",
    "stack = [0]\n",
    "\n",
    "for i in range(n):\n",
    "    while A[stack[-1]] > A[i]:\n",
    "        stack.pop()\n",
    "    j = stack[-1]\n",
    "    res_min[i] = res_min[j] + (i - j) * A[i]\n",
    "    stack.append(i)\n",
    "\n",
    "# max\n",
    "A=[3,1,2,5,4]\n",
    "A = [100] + A\n",
    "n = len(A)\n",
    "res_max = [0] * n\n",
    "stack = [0]\n",
    "\n",
    "for i in range(n):\n",
    "    while A[stack[-1]] < A[i]:\n",
    "        stack.pop()\n",
    "    j = stack[-1]\n",
    "    res_max[i] = res_max[j] + (i - j) * A[i]\n",
    "    stack.append(i)\n",
    "sum(res_max) - sum(res_min)"
   ]
  },
  {
   "cell_type": "code",
   "execution_count": 57,
   "metadata": {},
   "outputs": [
    {
     "data": {
      "text/plain": [
       "[0, 3, 4, 7, 20, 24]"
      ]
     },
     "execution_count": 57,
     "metadata": {},
     "output_type": "execute_result"
    }
   ],
   "source": [
    "res_max"
   ]
  },
  {
   "cell_type": "code",
   "execution_count": null,
   "metadata": {},
   "outputs": [],
   "source": [
    "# 1152. Analyze User Website Visit Pattern\n",
    "# You are given two string arrays username and website and an integer array timestamp. \n",
    "# All the given arrays are of the same length and the tuple [username[i], website[i], timestamp[i]] indicates that \n",
    "# the user username[i] visited the website website[i] at time timestamp[i].\n",
    "\n",
    "# A pattern is a list of three websites (not necessarily distinct).\n",
    "\n",
    "# For example, [\"home\", \"away\", \"love\"], [\"leetcode\", \"love\", \"leetcode\"], \n",
    "# and [\"luffy\", \"luffy\", \"luffy\"] are all patterns.\n",
    "# The score of a pattern is the number of users that visited all the websites \n",
    "# in the pattern in the same order they appeared in the pattern.\n",
    "\n",
    "# For example, if the pattern is [\"home\", \"away\", \"love\"], \n",
    "# the score is the number of users x such that x visited \"home\" then visited \"away\" and visited \"love\" after that.\n",
    "# Similarly, if the pattern is [\"leetcode\", \"love\", \"leetcode\"], \n",
    "# the score is the number of users x such that x visited \"leetcode\" then visited \"love\" \n",
    "# and visited \"leetcode\" one more time after that.\n",
    "# Also, if the pattern is [\"luffy\", \"luffy\", \"luffy\"], \n",
    "# the score is the number of users x such that x visited \"luffy\" three different times at different timestamps.\n",
    "# Return the pattern with the largest score. \n",
    "# If there is more than one pattern with the same largest score, \n",
    "# return the lexicographically smallest such pattern."
   ]
  },
  {
   "cell_type": "code",
   "execution_count": 59,
   "metadata": {},
   "outputs": [],
   "source": [
    "username = [\"joe\",\"joe\",\"joe\",\"james\",\"james\",\"james\",\"james\",\"mary\",\"mary\",\"mary\"]\n",
    "timestamp = [1,2,3,4,5,6,7,8,9,10]\n",
    "website = [\"home\",\"about\",\"career\",\"home\",\"cart\",\"maps\",\"home\",\"home\",\"about\",\"career\"]"
   ]
  },
  {
   "cell_type": "code",
   "execution_count": 74,
   "metadata": {},
   "outputs": [],
   "source": [
    "username = [\"ymqpvfqhi\",\"sqnpvdmno\",\"olpllr\",\"ymqpvfqhi\",\"tj\",\"sqnpvdmno\",\"tj\",\"tj\",\"ymqpvfqhi\",\"tj\",\"ymqpvfqhi\",\"tj\",\"sqnpvdmno\",\"tj\",\"tj\"]\n",
    "timestamp = [565593884,944607249,481648274,995590377,901983941,783952464,494156156,213230844,744301991,627448444,536721674,488319538,873860629,956719435,996148791]\n",
    "website = [\"rbzwec\",\"ykgxrnzje\",\"rbzwec\",\"rbzwec\",\"rbzwec\",\"zegibua\",\"ykgxrnzje\",\"qqqzbvj\",\"rbzwec\",\"qqqzbvj\",\"qqqzbvj\",\"qqqzbvj\",\"ttiwc\",\"rbzwec\",\"ttiwc\"]"
   ]
  },
  {
   "cell_type": "code",
   "execution_count": 80,
   "metadata": {},
   "outputs": [
    {
     "data": {
      "text/plain": [
       "('qqqzbvj', 'rbzwec', 'rbzwec')"
      ]
     },
     "execution_count": 80,
     "metadata": {},
     "output_type": "execute_result"
    }
   ],
   "source": [
    "from collections import defaultdict\n",
    "from itertools import combinations\n",
    "mapU = defaultdict(list)\n",
    "utw = sorted(zip(username, timestamp, website), key= lambda x: x[1])\n",
    "for u, t, w in utw:\n",
    "    mapU[u].append(w)\n",
    "count = defaultdict(int)\n",
    "for value in mapU.values():\n",
    "    patterns = combinations(value, 3)\n",
    "    for pattern in set(patterns):\n",
    "        count[pattern] += 1\n",
    "res = list(count.keys())[0]\n",
    "freq = list(count.values())[0]\n",
    "for key, val in count.items():\n",
    "    if val > freq:\n",
    "        res = key\n",
    "        freq = val\n",
    "    elif val == freq:\n",
    "        if key < res:\n",
    "            res = key\n",
    "res"
   ]
  },
  {
   "cell_type": "code",
   "execution_count": 133,
   "metadata": {},
   "outputs": [],
   "source": [
    "# 1268. Search Suggestions System\n",
    "# You are given an array of strings products and a string searchWord.\n",
    "\n",
    "# Design a system that suggests at most three product names from products after each character of searchWord is typed. \n",
    "# Suggested products should have common prefix with searchWord. \n",
    "# If there are more than three products with a common prefix return the three lexicographically minimums products.\n",
    "\n",
    "# Return a list of lists of the suggested products after each character of searchWord is typed.\n",
    "products = [\"mobile\",\"mouse\",\"moneypot\",\"monitor\",\"mousepad\"]\n",
    "searchWord = \"mouse\""
   ]
  },
  {
   "cell_type": "code",
   "execution_count": 122,
   "metadata": {},
   "outputs": [],
   "source": [
    "class TrieNode:\n",
    "    def __init__(self):\n",
    "        self.children = {}\n",
    "        self.end = False\n",
    "class suggestion:\n",
    "    def __init__(self, products):\n",
    "        self.root = TrieNode()\n",
    "        for product in products:\n",
    "            cur = self.root\n",
    "            for c in product:\n",
    "                if c not in cur.children:\n",
    "                    cur.children[c] = TrieNode()\n",
    "                cur = cur.children[c]\n",
    "            cur.end = True\n",
    "    def searchWord(self, searchWord):\n",
    "        def dfs(node, word):\n",
    "            if node.end:\n",
    "                stack.append(word)\n",
    "            keys = sorted(list(node.children.keys()))\n",
    "            for k in keys:\n",
    "                dfs(node.children[k], word+k)\n",
    "        \n",
    "        res = []\n",
    "        for i in range(len(searchWord)):\n",
    "            cur = self.root\n",
    "            stack = []\n",
    "            prefix = searchWord[:i + 1]\n",
    "            for c in prefix:\n",
    "                if c not in cur.children:\n",
    "                    cur = None\n",
    "                    break\n",
    "                cur = cur.children[c]\n",
    "            if cur:\n",
    "                dfs(cur, prefix)\n",
    "            if len(stack) > 3:\n",
    "                res.append(stack[:3].copy())\n",
    "            else:\n",
    "                res.append(stack.copy())\n",
    "        return res\n",
    "                "
   ]
  },
  {
   "cell_type": "code",
   "execution_count": 139,
   "metadata": {},
   "outputs": [
    {
     "data": {
      "text/plain": [
       "[['mobile', 'moneypot', 'monitor'],\n",
       " ['mobile', 'moneypot', 'monitor'],\n",
       " ['mouse', 'mousepad'],\n",
       " ['mouse', 'mousepad'],\n",
       " ['mouse', 'mousepad']]"
      ]
     },
     "execution_count": 139,
     "metadata": {},
     "output_type": "execute_result"
    }
   ],
   "source": [
    "def binary_search(array, target):\n",
    "    l, r = 0, len(array)-1\n",
    "    while l < r:\n",
    "        m = (l + r) // 2\n",
    "        if array[m] < target:\n",
    "            l = m + 1\n",
    "        else:\n",
    "            r = m\n",
    "    return l\n",
    "def suggest(products, searchWord):\n",
    "    products.sort()\n",
    "    n = len(products)\n",
    "    res = []\n",
    "    for i in range(len(searchWord)):\n",
    "        idx = binary_search(products, searchWord[:i+1])\n",
    "        j = 0\n",
    "        temp = []\n",
    "        while idx < n and j < 3:\n",
    "            if products[idx].startswith(searchWord[:i+1]):\n",
    "                temp.append(products[idx])\n",
    "                j += 1\n",
    "            idx += 1\n",
    "        res.append(temp)\n",
    "    return res\n",
    "suggest(products, searchWord)"
   ]
  },
  {
   "cell_type": "code",
   "execution_count": null,
   "metadata": {},
   "outputs": [],
   "source": [
    "class Solution:\n",
    "    def suggestedProducts(self, products, searchWord):\n",
    "        products.sort() # time O(nlogn)\n",
    "        array_len = len(products)\n",
    "        ans = []\n",
    "        input_char = \"\"\n",
    "\n",
    "        for chr in searchWord:\n",
    "            tmp = []\n",
    "            input_char += chr\n",
    "            insertion_index = self.binary_search(products, input_char) # find where input_char can be inserted in-order in the products array\n",
    "            for word_ind in range(insertion_index, min(array_len, insertion_index+3)): # check the following 3 words, if valid\n",
    "                if products[word_ind].startswith(input_char):\n",
    "                    tmp.append(products[word_ind])\n",
    "            ans.append(tmp)\n",
    "        return ans\n",
    "\n",
    "    def binary_search(self, array, target): # bisect.bisect_left implementation\n",
    "        lo = 0\n",
    "        hi = len(array)\n",
    "\n",
    "        while lo < hi:\n",
    "            mid = (lo + hi) //2\n",
    "            if array[mid] < target: lo = mid + 1\n",
    "            else: hi = mid\n",
    "        return lo"
   ]
  },
  {
   "cell_type": "code",
   "execution_count": 140,
   "metadata": {},
   "outputs": [],
   "source": [
    "# 937. Reorder Data in Log Files\n",
    "# You are given an array of logs. Each log is a space-delimited string of words, where the first word is the identifier.\n",
    "\n",
    "# There are two types of logs:\n",
    "\n",
    "# Letter-logs: All words (except the identifier) consist of lowercase English letters.\n",
    "# Digit-logs: All words (except the identifier) consist of digits.\n",
    "# Reorder these logs so that:\n",
    "\n",
    "# The letter-logs come before all digit-logs.\n",
    "# The letter-logs are sorted lexicographically by their contents. If their contents are the same, then sort them lexicographically by their identifiers.\n",
    "# The digit-logs maintain their relative ordering.\n",
    "# Return the final order of the logs.\n",
    "\n",
    "logs = [\"dig1 8 1 5 1\",\"let1 art can\",\"dig2 3 6\",\"let2 own kit dig\",\"let3 art zero\"]"
   ]
  },
  {
   "cell_type": "code",
   "execution_count": 148,
   "metadata": {
    "collapsed": true,
    "jupyter": {
     "outputs_hidden": true
    }
   },
   "outputs": [
    {
     "data": {
      "text/plain": [
       "['let1 art can',\n",
       " 'let3 art zero',\n",
       " 'let2 own kit dig',\n",
       " 'dig1 8 1 5 1',\n",
       " 'dig2 3 6']"
      ]
     },
     "execution_count": 148,
     "metadata": {},
     "output_type": "execute_result"
    }
   ],
   "source": [
    "letters = []\n",
    "digits = []\n",
    "for l in logs:\n",
    "    if l.split(' ')[1].isdigit():\n",
    "        digits.append(l)\n",
    "    else:\n",
    "        letters.append(l)\n",
    "letters.sort(key = lambda x: (x.split(' ')[1:], x.split(' ')[0]))\n",
    "letters + digits"
   ]
  },
  {
   "cell_type": "code",
   "execution_count": 149,
   "metadata": {},
   "outputs": [],
   "source": [
    "# 767. Reorganize String\n",
    "# Given a string s, rearrange the characters of s so that any two adjacent characters are not the same.\n",
    "# Return any possible rearrangement of s or return \"\" if not possible."
   ]
  },
  {
   "cell_type": "code",
   "execution_count": 150,
   "metadata": {},
   "outputs": [],
   "source": [
    "s = \"abcdefg\""
   ]
  },
  {
   "cell_type": "code",
   "execution_count": 158,
   "metadata": {},
   "outputs": [
    {
     "data": {
      "text/plain": [
       "'aebfcgd'"
      ]
     },
     "execution_count": 158,
     "metadata": {},
     "output_type": "execute_result"
    }
   ],
   "source": [
    "from collections import Counter\n",
    "n = len(s)\n",
    "count = Counter(s)\n",
    "count = sorted(list(count.items()), key = lambda x: x[1], reverse = True)\n",
    "# if count[0][1] > (n + 1) // 2:\n",
    "#     return False\n",
    "ref = ''\n",
    "for key, value in count:\n",
    "    ref += key*value\n",
    "j = 0\n",
    "res = ['a'] * n\n",
    "for i in range(0, n, 2):\n",
    "    res[i] = ref[j]\n",
    "    j += 1\n",
    "for i in range(1, n , 2):\n",
    "    res[i] = ref[j]\n",
    "    j += 1\n",
    "''.join(res)"
   ]
  },
  {
   "cell_type": "code",
   "execution_count": null,
   "metadata": {},
   "outputs": [],
   "source": [
    "# 545. Boundary of Binary Tree\n",
    "# The boundary of a binary tree is the concatenation of the root, the left boundary, the leaves ordered from left-to-right, \n",
    "# and the reverse order of the right boundary.\n",
    "\n",
    "# The left boundary is the set of nodes defined by the following:\n",
    "\n",
    "# The root node's left child is in the left boundary. \n",
    "# If the root does not have a left child, then the left boundary is empty.\n",
    "# If a node in the left boundary and has a left child, then the left child is in the left boundary.\n",
    "# If a node is in the left boundary, has no left child, \n",
    "# but has a right child, then the right child is in the left boundary.\n",
    "# The leftmost leaf is not in the left boundary.\n",
    "# The right boundary is similar to the left boundary, \n",
    "# except it is the right side of the root's right subtree. \n",
    "# Again, the leaf is not part of the right boundary, \n",
    "# and the right boundary is empty if the root does not have a right child.\n",
    "\n",
    "# The leaves are nodes that do not have any children. For this problem, the root is not a leaf.\n",
    "\n",
    "# Given the root of a binary tree, return the values of its boundary.\n"
   ]
  },
  {
   "cell_type": "code",
   "execution_count": null,
   "metadata": {},
   "outputs": [],
   "source": [
    "cur = root.left\n",
    "left = []\n",
    "while cur:\n",
    "    left.append(cur.val)\n",
    "    if cur.left:\n",
    "        cur = cur.left\n",
    "    elif cur.right:\n",
    "        cur = cur.right\n",
    "    else:\n",
    "        break\n",
    "if left:\n",
    "    left.pop()\n",
    "\n",
    "cur = root.right\n",
    "right = []\n",
    "while cur:\n",
    "    right.append(cur.val)\n",
    "    if cur.right:\n",
    "        cur = cur.right\n",
    "    elif cur.left:\n",
    "        cur = cur.left\n",
    "    else:\n",
    "        break\n",
    "if right:\n",
    "    right.pop()\n",
    "right.reverse()\n",
    "\n",
    "leaf = []\n",
    "def dfs(node):\n",
    "    if not node:\n",
    "        return\n",
    "    if node != root and not node.left and not node.right:\n",
    "        leaf.append(node.val)\n",
    "[root.val] + left + leaf + right"
   ]
  },
  {
   "cell_type": "code",
   "execution_count": 164,
   "metadata": {},
   "outputs": [],
   "source": [
    "# 2214. Minimum Health to Beat Game\n",
    "# You are playing a game that has n levels numbered from 0 to n - 1. \n",
    "# You are given a 0-indexed integer array damage where damage[i] is the amount of health \n",
    "# you will lose to complete the ith level.\n",
    "\n",
    "# You are also given an integer armor. You may use your armor ability \n",
    "# at most once during the game on any level \n",
    "# which will protect you from at most armor damage.\n",
    "\n",
    "# You must complete the levels in order and your health must be greater than 0 at all times to beat the game.\n",
    "\n",
    "# Return the minimum health you need to start with to beat the game.\n",
    "damage = [2,7,4,3]\n",
    "armor = 4"
   ]
  },
  {
   "cell_type": "code",
   "execution_count": 165,
   "metadata": {},
   "outputs": [
    {
     "data": {
      "text/plain": [
       "13"
      ]
     },
     "execution_count": 165,
     "metadata": {},
     "output_type": "execute_result"
    }
   ],
   "source": [
    "sum(damage) + 1 - min(armor, max(damage))"
   ]
  },
  {
   "cell_type": "code",
   "execution_count": 60,
   "metadata": {},
   "outputs": [],
   "source": [
    "# 348. Design Tic-Tac-Toe\n",
    "# Assume the following rules are for the tic-tac-toe game on an n x n board between two players:\n",
    "\n",
    "# A move is guaranteed to be valid and is placed on an empty block.\n",
    "# Once a winning condition is reached, no more moves are allowed.\n",
    "# A player who succeeds in placing n of their marks in a horizontal, vertical, or diagonal row wins the game.\n",
    "# Implement the TicTacToe class:\n",
    "\n",
    "# TicTacToe(int n) Initializes the object the size of the board n.\n",
    "# int move(int row, int col, int player) Indicates that the player \n",
    "# with id player plays at the cell (row, col) of the board. \n",
    "# The move is guaranteed to be a valid move.\n"
   ]
  },
  {
   "cell_type": "code",
   "execution_count": null,
   "metadata": {},
   "outputs": [],
   "source": [
    "class TicTacToe:\n",
    "    def __init__(self, n):\n",
    "        self.n = n\n",
    "        self.rows = [0] * n\n",
    "        self.cols = [0] * n\n",
    "        self.diags = [0] * 2\n",
    "        self.mapP = {1: 1, 2: -1}\n",
    "        \n",
    "    def move(self, row, col, player):\n",
    "        self.rows[row] += self.mapP[player]\n",
    "        self.cols[col] += self.mapP[player]\n",
    "        if row == col:\n",
    "            self.diags[0] += self.mapP[player]\n",
    "        if row == self.n - col- 1:\n",
    "            self.diags[1] += self.mapP[player]\n",
    "        if (max(self.rows[row], self.cols[col], max(self.diags)) == self.n or\n",
    "            min(self.rows[row], self.cols[col], min(self.diags)) == -self.n):\n",
    "            return player\n",
    "        return 0"
   ]
  },
  {
   "cell_type": "code",
   "execution_count": 172,
   "metadata": {},
   "outputs": [],
   "source": [
    "# 1567. Maximum Length of Subarray With Positive Product\n",
    "# Given an array of integers nums, find the maximum length of a subarray where the product of all its elements is positive.\n",
    "\n",
    "# A subarray of an array is a consecutive sequence of zero or more values taken out of that array.\n",
    "\n",
    "# Return the maximum length of a subarray with positive product.\n",
    "\n",
    "nums = [-1,-2, -3,0,1]\n",
    "nums = [0,1,-2,-3,-4]"
   ]
  },
  {
   "cell_type": "code",
   "execution_count": 174,
   "metadata": {},
   "outputs": [
    {
     "name": "stdout",
     "output_type": "stream",
     "text": [
      "[0, 1, 0, 3, 2]\n",
      "[0, 0, 2, 1, 4]\n"
     ]
    }
   ],
   "source": [
    "n = len(nums)\n",
    "dp_p = [0] * n\n",
    "dp_n = [0] * n\n",
    "if nums[0] > 0:\n",
    "    dp_p[0] = 1\n",
    "if nums[0] < 0:\n",
    "    dp_n[0] = 1\n",
    "    \n",
    "for i in range(1, n):\n",
    "    if nums[i] == 0:\n",
    "        continue\n",
    "    elif nums[i] > 0:\n",
    "        dp_p[i] = dp_p[i - 1] + 1\n",
    "        dp_n[i] = dp_n[i - 1] + 1 if dp_n[i-1] > 0 else 0\n",
    "    else:\n",
    "        dp_n[i] = dp_p[i - 1] + 1\n",
    "        dp_p[i] = dp_n[i - 1] + 1 if dp_n[i-1] > 0 else 0\n",
    "print(dp_p)\n",
    "print(dp_n)"
   ]
  },
  {
   "cell_type": "code",
   "execution_count": 177,
   "metadata": {},
   "outputs": [
    {
     "name": "stdout",
     "output_type": "stream",
     "text": [
      "1 0\n",
      "0 2\n",
      "3 1\n"
     ]
    }
   ],
   "source": [
    "nums = [1,-2,-3,4]\n",
    "n = len(nums)\n",
    "po, ne = 0, 0\n",
    "if nums[0] > 0:\n",
    "    po = 1\n",
    "if nums[0] < 0:\n",
    "    ne = 1\n",
    "res = po\n",
    "for i in range(1, n):\n",
    "    print(po, ne)\n",
    "    if nums[i] == 0:\n",
    "        po = ne = 0\n",
    "        continue\n",
    "    elif nums[i] > 0:\n",
    "        po, ne = po + 1, (ne + 1 if ne > 0 else 0)\n",
    "    else:\n",
    "        ne, po = po + 1, (ne + 1 if ne > 0 else 0)\n",
    "    res = max(po, res)\n",
    "    "
   ]
  },
  {
   "cell_type": "code",
   "execution_count": 169,
   "metadata": {},
   "outputs": [],
   "source": [
    "n = len(nums)\n",
    "pos, neg = [0] * n, [0] * n\n",
    "if nums[0] > 0: pos[0] = 1\n",
    "if nums[0] < 0: neg[0] = 1\n",
    "ans = pos[0]\n",
    "for i in range(1, n):\n",
    "    if nums[i] > 0:\n",
    "        pos[i] = 1 + pos[i - 1]\n",
    "        neg[i] = 1 + neg[i - 1] if neg[i - 1] > 0 else 0\n",
    "    elif nums[i] < 0:\n",
    "        pos[i] = 1 + neg[i - 1] if neg[i - 1] > 0 else 0\n",
    "        neg[i] = 1 + pos[i - 1]\n",
    "    ans = max(ans, pos[i])\n",
    "    "
   ]
  },
  {
   "cell_type": "code",
   "execution_count": 178,
   "metadata": {},
   "outputs": [],
   "source": [
    "# 1730. Shortest Path to Get Food\n",
    "# You are starving and you want to eat food as quickly as possible. You want to find the shortest path to arrive at any food cell.\n",
    "\n",
    "# You are given an m x n character matrix, grid, of these different types of cells:\n",
    "\n",
    "# '*' is your location. There is exactly one '*' cell.\n",
    "# '#' is a food cell. There may be multiple food cells.\n",
    "# 'O' is free space, and you can travel through these cells.\n",
    "# 'X' is an obstacle, and you cannot travel through these cells.\n",
    "# You can travel to any adjacent cell north, east, south, or west of your current location if there is not an obstacle.\n",
    "\n",
    "# Return the length of the shortest path for you to reach any food cell. If there is no path for you to reach food, return -1.\n",
    "\n",
    "grid = [[\"X\",\"X\",\"X\",\"X\",\"X\",\"X\",\"X\",\"X\"],\n",
    "        [\"X\",\"*\",\"O\",\"X\",\"O\",\"#\",\"O\",\"X\"],\n",
    "        [\"X\",\"O\",\"O\",\"X\",\"O\",\"O\",\"X\",\"X\"],\n",
    "        [\"X\",\"O\",\"O\",\"O\",\"O\",\"#\",\"O\",\"X\"],\n",
    "        [\"X\",\"X\",\"X\",\"X\",\"X\",\"X\",\"X\",\"X\"]]"
   ]
  },
  {
   "cell_type": "code",
   "execution_count": 86,
   "metadata": {},
   "outputs": [],
   "source": [
    "grid = [[\"O\",\"*\"],\n",
    "        [\"#\",\"O\"]]"
   ]
  },
  {
   "cell_type": "code",
   "execution_count": 90,
   "metadata": {},
   "outputs": [],
   "source": [
    "from typing import List\n",
    "class Solution:\n",
    "    def getFood(self, grid: List[List[str]]) -> int:\n",
    "        from collections import deque\n",
    "        rows = len(grid)\n",
    "        cols = len(grid[0])\n",
    "        q = deque()\n",
    "        free_spaces = 0\n",
    "        time = 0\n",
    "        for r in range(rows):\n",
    "            for c in range(cols):\n",
    "                if grid[r][c] == '*':\n",
    "                    q.append((r, c))\n",
    "                if grid[r][c] == 'O':\n",
    "                    free_spaces += 1\n",
    "        directions = [[1, 0], [-1, 0], [0, 1], [0, -1]]\n",
    "        while q and free_spaces >= 0:\n",
    "            time += 1\n",
    "            length = len(q)\n",
    "            for i in range(length):\n",
    "                r, c = q.popleft()\n",
    "                for dr, dc in directions:\n",
    "                    row = r + dr\n",
    "                    col = c + dc\n",
    "                    if (row in range(rows) and\n",
    "                        col in range(cols) and\n",
    "                        grid[row][col] == '#'\n",
    "                    ):\n",
    "                        return time\n",
    "                    if (row in range(rows) and\n",
    "                        col in range(cols) and\n",
    "                        grid[row][col] == 'O'\n",
    "                    ):\n",
    "                        grid[row][col] = '*'\n",
    "                        free_spaces -= 1\n",
    "                        q.append((row, col))\n",
    "        return -1"
   ]
  },
  {
   "cell_type": "code",
   "execution_count": 179,
   "metadata": {},
   "outputs": [],
   "source": [
    "# 2055. Plates Between Candles\n",
    "# There is a long table with a line of plates and candles arranged on top of it. \n",
    "# You are given a 0-indexed string s consisting of characters '*' and '|' only, \n",
    "# where a '*' represents a plate and a '|' represents a candle.\n",
    "\n",
    "# You are also given a 0-indexed 2D integer array queries where queries[i] = [lefti, righti] \n",
    "# denotes the substring s[lefti...righti] (inclusive). \n",
    "# For each query, you need to find the number of plates between candles that are in the substring. \n",
    "# A plate is considered between candles if there is at least one candle to its left and at least one candle to its right in the substring.\n",
    "\n",
    "# For example, s = \"||**||**|*\", and a query [3, 8] denotes the substring \"*||**|\". \n",
    "# The number of plates between candles in this substring is 2, \n",
    "# as each of the two plates has at least one candle in the substring to its left and right.\n",
    "# Return an integer array answer where answer[i] is the answer to the ith query."
   ]
  },
  {
   "cell_type": "code",
   "execution_count": 191,
   "metadata": {},
   "outputs": [],
   "source": [
    "s = \"***|**|*****|**||**|*\"\n",
    "queries = [[1,17],[4,5],[14,17],[5,11],[15,16]]\n",
    "# s = \"**|**|***|\"\n",
    "# queries = [[2,5],[5,9]]"
   ]
  },
  {
   "cell_type": "code",
   "execution_count": 234,
   "metadata": {},
   "outputs": [
    {
     "data": {
      "text/plain": [
       "6"
      ]
     },
     "execution_count": 234,
     "metadata": {},
     "output_type": "execute_result"
    }
   ],
   "source": [
    "s.count('|')"
   ]
  },
  {
   "cell_type": "code",
   "execution_count": 118,
   "metadata": {},
   "outputs": [
    {
     "data": {
      "text/plain": [
       "[9, 0, 0, 0, 0]"
      ]
     },
     "execution_count": 118,
     "metadata": {},
     "output_type": "execute_result"
    }
   ],
   "source": [
    "idx = []\n",
    "for i, c in enumerate(s):\n",
    "    if c == '|':\n",
    "        idx.append(i)\n",
    "mapR = {}\n",
    "mapL = {}\n",
    "mapC = {}\n",
    "j = 0\n",
    "for i in range(len(s)):\n",
    "    mapR[i] = idx[j]\n",
    "    if idx[j] == i:\n",
    "        j += 1\n",
    "    mapC[i] = j\n",
    "    if j == len(idx):\n",
    "        break\n",
    "\n",
    "j = len(idx) - 1\n",
    "for i in range(len(s) - 1, -1, -1):\n",
    "    mapL[i] = idx[j]\n",
    "    if idx[j] == i:\n",
    "        j -= 1\n",
    "        if j < 0:\n",
    "            break\n",
    "\n",
    "res = []\n",
    "for q in queries:\n",
    "    l, r = q\n",
    "    l, r = mapR.get(l, -1), mapL.get(r, -1)\n",
    "    if l < 0 or r < 0 or l >= r:\n",
    "        res.append(0)\n",
    "    else:\n",
    "        res.append((r - l) - (mapC[r] - mapC[l]))\n",
    "res"
   ]
  },
  {
   "cell_type": "code",
   "execution_count": 235,
   "metadata": {},
   "outputs": [],
   "source": [
    "# 2130. Maximum Twin Sum of a Linked List\n",
    "# In a linked list of size n, where n is even, \n",
    "# the ith node (0-indexed) of the linked list is known as the twin of the (n-1-i)th node, \n",
    "# if 0 <= i <= (n / 2) - 1.\n",
    "\n",
    "# For example, if n = 4, then node 0 is the twin of node 3, and node 1 is the twin of node 2. \n",
    "# These are the only nodes with twins for n = 4.\n",
    "# The twin sum is defined as the sum of a node and its twin.\n",
    "\n",
    "# Given the head of a linked list with even length, \n",
    "# return the maximum twin sum of the linked list.\n",
    "\n",
    "# 0,1,2,3,4,5\n",
    "#   i     i\n",
    "# 0         n-1"
   ]
  },
  {
   "cell_type": "code",
   "execution_count": null,
   "metadata": {},
   "outputs": [],
   "source": []
  },
  {
   "cell_type": "code",
   "execution_count": null,
   "metadata": {},
   "outputs": [],
   "source": [
    "# fine middle\n",
    "def find_middle(self, node):\n",
    "    slow, fast = slow, fast.next\n",
    "    while fast and fast.next:\n",
    "        slow = slow.next\n",
    "        fast = fast.next.next\n",
    "    out = slow.next\n",
    "    slow.next = None\n",
    "    return out\n",
    "# reverse 2nd half\n",
    "def reverse(self, node):\n",
    "    prev, cur = None, node\n",
    "    while cur:\n",
    "        temp = cur.next\n",
    "        cur.next = prev\n",
    "        prev = cur\n",
    "        cur = temp\n",
    "    return prev\n",
    "\n",
    "# calc twin sum and find max\n",
    "def twin_sum_max(self, node):\n",
    "    node2 = self.find_middle(node)\n",
    "    node2 = self.reverse(node2)\n",
    "    n1, n2 = node, node2\n",
    "    res = n1.val + n2.val\n",
    "    while n1 and n2:\n",
    "        res = max(res, n1.val + n2.val)\n",
    "        n1 = n1.next\n",
    "        n2 = n2.next\n",
    "    return res\n",
    "return self.twin_sum_max(root)\n",
    "\n",
    "    "
   ]
  },
  {
   "cell_type": "code",
   "execution_count": 236,
   "metadata": {},
   "outputs": [],
   "source": [
    "# 2221. Find Triangular Sum of an Array\n",
    "# You are given a 0-indexed integer array nums, \n",
    "# where nums[i] is a digit between 0 and 9 (inclusive).\n",
    "\n",
    "# The triangular sum of nums is the value of the only element present \n",
    "# in nums after the following process terminates:\n",
    "\n",
    "# Let nums comprise of n elements. If n == 1, end the process. \n",
    "# Otherwise, create a new 0-indexed integer array newNums of length n - 1.\n",
    "# For each index i, where 0 <= i < n - 1, assign the value of newNums[i] \n",
    "# as (nums[i] + nums[i+1]) % 10, where % denotes modulo operator.\n",
    "# Replace the array nums with newNums.\n",
    "# Repeat the entire process starting from step 1.\n",
    "# Return the triangular sum of nums."
   ]
  },
  {
   "cell_type": "code",
   "execution_count": 253,
   "metadata": {},
   "outputs": [],
   "source": [
    "nums = [1,2,3,4,5]\n",
    "# [1+2, 2+3, 3+4, 4+5]\n",
    "# [1+2+2+3, 2+3+3+4, 3+4+4+5]\n",
    "# [1+2+2+2+3+3+3+4, 2+3+3+3+4+4+4+5]\n",
    "# [1+2*4+3*6+4*4+5]"
   ]
  },
  {
   "cell_type": "code",
   "execution_count": 259,
   "metadata": {},
   "outputs": [],
   "source": [
    "result = 0\n",
    "m = len(nums) - 1\n",
    "mCk = 1\n",
    "for k, num in enumerate(nums):\n",
    "    result = (result + mCk * num) % 10\n",
    "    mCk *= m - k\n",
    "    mCk //= k + 1"
   ]
  },
  {
   "cell_type": "code",
   "execution_count": 133,
   "metadata": {},
   "outputs": [
    {
     "data": {
      "text/plain": [
       "8"
      ]
     },
     "execution_count": 133,
     "metadata": {},
     "output_type": "execute_result"
    }
   ],
   "source": [
    "while len(nums) > 1:\n",
    "    next_nums = []\n",
    "    for i in range(len(nums) - 1):\n",
    "        next_nums.append(sum(nums[i:i+2]) % 10)\n",
    "    nums = next_nums\n",
    "nums[0]"
   ]
  },
  {
   "cell_type": "code",
   "execution_count": 260,
   "metadata": {},
   "outputs": [],
   "source": [
    "# 1864. Minimum Number of Swaps to Make the Binary String Alternating\n",
    "# Given a binary string s, return the minimum number of character swaps \n",
    "# to make it alternating, or -1 if it is impossible.\n",
    "\n",
    "# The string is called alternating if no two adjacent characters are equal. \n",
    "# For example, the strings \"010\" and \"1010\" are alternating, while the string \"0100\" is not.\n",
    "\n",
    "# Any two characters may be swapped, even if they are not adjacent.\n",
    "\n",
    "s = \"111000\"\n",
    "# s = \"1110000000100001010100101010000101010101001000001110101000010111101100000111110001000111010111101100001100001001100101011110100011111100000000100011111011110111111011110111010100111101011111111101101100101010110000011110110100101111000100000001100000\""
   ]
  },
  {
   "cell_type": "code",
   "execution_count": null,
   "metadata": {},
   "outputs": [],
   "source": [
    "# even 1 e1\n",
    "# even 0 e0\n",
    "# odd 1 o1\n",
    "# odd 0 o0\n",
    "n = len(s)\n",
    "count_1 = 0\n",
    "count_even_1 = 0\n",
    "for i, c in enumerate(s):\n",
    "    if c== '1':\n",
    "        count_1 += 1\n",
    "        if i % 2 == 0:\n",
    "            count_even_1 += 1\n",
    "count_0 = n - count_1\n",
    "count_even_0 = (n + 1) // 2 - count_even1\n",
    "\n",
    "if n % 2 == 0:\n",
    "    if count_1 != count_0:\n",
    "        return -1\n",
    "    else:\n",
    "        return min(abs(count_even_1 - n // 2), abs(count_even_0 - n // 2))\n",
    "\n",
    "if n % 2 == 1:\n",
    "    if abs(count_1 - count_0) > 1:\n",
    "        return -1\n",
    "    else:\n",
    "        if count_1 > count_0:\n",
    "            return (n + 1) // 2 - count_even_1\n",
    "        else:\n",
    "            return (n + 1) // 2 - count_even_0\n"
   ]
  },
  {
   "cell_type": "code",
   "execution_count": 261,
   "metadata": {},
   "outputs": [],
   "source": [
    "# 1628. Design an Expression Tree With Evaluate Function\n",
    "# Given the postfix tokens of an arithmetic expression, \n",
    "# build and return the binary expression tree that represents this expression.\n",
    "\n",
    "# Postfix notation is a notation for writing arithmetic expressions in which the operands (numbers) appear before their operators. \n",
    "# For example, the postfix tokens of the expression 4*(5-(7+2)) are represented in the array postfix = [\"4\",\"5\",\"7\",\"2\",\"+\",\"-\",\"*\"].\n",
    "\n",
    "# The class Node is an interface you should use to implement the binary expression tree. \n",
    "# The returned tree will be tested using the evaluate function, \n",
    "# which is supposed to evaluate the tree's value. \n",
    "# You should not remove the Node class; however, you can modify it as you wish, \n",
    "# and you can define other classes to implement it if needed.\n",
    "\n",
    "# A binary expression tree is a kind of binary tree used to represent arithmetic expressions. \n",
    "# Each node of a binary expression tree has either zero or two children. Leaf nodes (nodes with 0 children) correspond to operands (numbers), \n",
    "# and internal nodes (nodes with two children) correspond to the operators '+' (addition), '-' (subtraction), '*' (multiplication), and '/' (division).\n",
    "\n",
    "# It's guaranteed that no subtree will yield a value that exceeds 109 in absolute value, \n",
    "# and all the operations are valid (i.e., no division by zero).\n",
    "\n",
    "# Follow up: Could you design the expression tree such that it is more modular? \n",
    "# For example, is your design able to support additional operators \n",
    "# without making changes to your existing evaluate implementation?\n",
    "\n",
    "postfix = [\"4\",\"5\",\"7\",\"2\",\"+\",\"-\",\"*\"]"
   ]
  },
  {
   "cell_type": "code",
   "execution_count": 179,
   "metadata": {},
   "outputs": [
    {
     "data": {
      "text/plain": [
       "'\\nYour TreeBuilder object will be instantiated and called as such:\\nobj = TreeBuilder();\\nexpTree = obj.buildTree(postfix);\\nans = expTree.evaluate();\\n'"
      ]
     },
     "execution_count": 179,
     "metadata": {},
     "output_type": "execute_result"
    }
   ],
   "source": [
    "# Polymorphism concept taken from https://stackoverflow.com/questions/12516/expression-evaluation-and-tree-walking-using-polymorphism-ala-steve-yegge\n",
    "import abc \n",
    "from abc import ABC, abstractmethod \n",
    "\"\"\"\n",
    "This is the interface for the expression tree Node.\n",
    "You should not remove it, and you can define some classes to implement it.\n",
    "\"\"\"\n",
    "\n",
    "class Node(ABC):\n",
    "    @abstractmethod\n",
    "    # define your fields here\n",
    "    def evaluate(self) -> int:\n",
    "        pass\n",
    "\n",
    "class BinaryNode(Node):\n",
    "    \"\"\"base class for binary nodes\"\"\"\n",
    "    def __init__(self, _left, _right):\n",
    "        self.left = _left\n",
    "        self.right = _right\n",
    "    def evaluate(self) -> int:\n",
    "        pass\n",
    "\n",
    "\n",
    "class Plus(BinaryNode):\n",
    "    def evaluate(self) -> int:\n",
    "        return self.left.evaluate() + self.right.evaluate()\n",
    "\n",
    "class Minus(BinaryNode):\n",
    "    def evaluate(self) -> int:\n",
    "        return self.left.evaluate() - self.right.evaluate()\n",
    "\n",
    "class Mul(BinaryNode):\n",
    "    def evaluate(self) -> int:\n",
    "        return self.left.evaluate() * self.right.evaluate()\n",
    "\n",
    "class Div(BinaryNode):\n",
    "    def evaluate(self) -> int:\n",
    "        return self.left.evaluate() // self.right.evaluate()\n",
    "\n",
    "class Num(Node):\n",
    "    def __init__(self, _value):\n",
    "        self.value = _value\n",
    "    def evaluate(self) -> int:\n",
    "        return self.value\n",
    "\n",
    "\"\"\"    \n",
    "This is the TreeBuilder class.\n",
    "You can treat it as the driver code that takes the postinfix input\n",
    "and returns the expression tree represnting it as a Node.\n",
    "\"\"\"\n",
    "\n",
    "class TreeBuilder(object):\n",
    "    def buildTree(self, postfix: List[str]) -> 'Node':\n",
    "        operators = {'+': Plus, '-': Minus, '*': Mul, '/': Div}\n",
    "        stk = []\n",
    "        for token in postfix:\n",
    "            if token in operators:\n",
    "                R = stk.pop()\n",
    "                L = stk.pop()\n",
    "                stk.append(operators[token](L, R))\n",
    "            else:\n",
    "                stk.append(Num(int(token)))\n",
    "        return stk[0]\n",
    "\t\t\n",
    "\"\"\"\n",
    "Your TreeBuilder object will be instantiated and called as such:\n",
    "obj = TreeBuilder();\n",
    "expTree = obj.buildTree(postfix);\n",
    "ans = expTree.evaluate();\n",
    "\"\"\"\n",
    "       "
   ]
  },
  {
   "cell_type": "code",
   "execution_count": 262,
   "metadata": {},
   "outputs": [],
   "source": [
    "# 2222. Number of Ways to Select Buildings\n",
    "# You are given a 0-indexed binary string s which represents the types of buildings along a street where:\n",
    "\n",
    "# s[i] = '0' denotes that the ith building is an office and\n",
    "# s[i] = '1' denotes that the ith building is a restaurant.\n",
    "# As a city official, you would like to select 3 buildings for random inspection. \n",
    "# However, to ensure variety, no two consecutive buildings out of the selected buildings can be of the same type.\n",
    "\n",
    "# For example, given s = \"001101\", we cannot select the 1st, 3rd, and 5th buildings as that would form \"011\" \n",
    "# which is not allowed due to having two consecutive buildings of the same type.\n",
    "# Return the number of valid ways to select 3 buildings."
   ]
  },
  {
   "cell_type": "code",
   "execution_count": 263,
   "metadata": {},
   "outputs": [],
   "source": [
    "s = \"001101\""
   ]
  },
  {
   "cell_type": "code",
   "execution_count": 3,
   "metadata": {},
   "outputs": [
    {
     "data": {
      "text/plain": [
       "6"
      ]
     },
     "execution_count": 3,
     "metadata": {},
     "output_type": "execute_result"
    }
   ],
   "source": [
    "dp = {'0':0, '01':0, '010':0, '1':0, '10':0, '101':0}\n",
    "for c in s:\n",
    "    if c == '0':\n",
    "        dp['0'] += 1\n",
    "        dp['10'] += dp['1']\n",
    "        dp['010'] += dp['01']\n",
    "    if c == '1':\n",
    "        dp['1'] += 1\n",
    "        dp['01'] += dp['0']\n",
    "        dp['101'] += dp['10']\n",
    "dp['101'] + dp['010']"
   ]
  },
  {
   "cell_type": "code",
   "execution_count": 4,
   "metadata": {},
   "outputs": [],
   "source": [
    "# 2268. Minimum Number of Keypresses\n",
    "# You have a keypad with 9 buttons, numbered from 1 to 9, \n",
    "# each mapped to lowercase English letters. \n",
    "# You can choose which characters each button is matched to as long as:\n",
    "\n",
    "# All 26 lowercase English letters are mapped to.\n",
    "# Each character is mapped to by exactly 1 button.\n",
    "# Each button maps to at most 3 characters.\n",
    "# To type the first character matched to a button, \n",
    "# you press the button once. \n",
    "# To type the second character, you press the button twice, and so on.\n",
    "\n",
    "# Given a string s, return the minimum number of keypresses needed to type s using your keypad.\n",
    "\n",
    "# Note that the characters mapped to by each button, \n",
    "# and the order they are mapped in cannot be changed."
   ]
  },
  {
   "cell_type": "code",
   "execution_count": 13,
   "metadata": {},
   "outputs": [],
   "source": [
    "s = \"abcdefghijkl\"\n",
    "s = \"aaaaaaaabcdefgggghijkllllllllllmmmnoppponono\""
   ]
  },
  {
   "cell_type": "code",
   "execution_count": 16,
   "metadata": {},
   "outputs": [
    {
     "data": {
      "text/plain": [
       "51"
      ]
     },
     "execution_count": 16,
     "metadata": {},
     "output_type": "execute_result"
    }
   ],
   "source": [
    "from collections import Counter\n",
    "count = Counter(s)\n",
    "count = sorted(list(count.items()), key= lambda x: x[1], reverse = True)\n",
    "res = 0\n",
    "for i, item in enumerate(count):\n",
    "    if i//9 == 0:\n",
    "        res += item[1]\n",
    "    elif i//9 == 1:\n",
    "        res += 2*item[1]\n",
    "    else: # i//9 == 2\n",
    "        res += 3*item[1]\n",
    "res"
   ]
  },
  {
   "cell_type": "code",
   "execution_count": 416,
   "metadata": {},
   "outputs": [
    {
     "data": {
      "text/plain": [
       "deque([])"
      ]
     },
     "execution_count": 416,
     "metadata": {},
     "output_type": "execute_result"
    }
   ],
   "source": [
    "import collections\n",
    "collections.deque()"
   ]
  },
  {
   "cell_type": "code",
   "execution_count": 264,
   "metadata": {},
   "outputs": [],
   "source": [
    "# 909. Snakes and Ladders\n",
    "# You are given an n x n integer matrix board where the cells are labeled from 1 to n2 in a Boustrophedon style starting from the bottom left of the board (i.e. board[n - 1][0]) and alternating direction each row.\n",
    "\n",
    "# You start on square 1 of the board. In each move, starting from square curr, do the following:\n",
    "\n",
    "# Choose a destination square next with a label in the range [curr + 1, min(curr + 6, n2)].\n",
    "# This choice simulates the result of a standard 6-sided die roll: i.e., there are always at most 6 destinations, regardless of the size of the board.\n",
    "# If next has a snake or ladder, you must move to the destination of that snake or ladder. Otherwise, you move to next.\n",
    "# The game ends when you reach the square n2.\n",
    "# A board square on row r and column c has a snake or ladder if board[r][c] != -1. The destination of that snake or ladder is board[r][c]. Squares 1 and n2 do not have a snake or ladder.\n",
    "\n",
    "# Note that you only take a snake or ladder at most once per move. If the destination to a snake or ladder is the start of another snake or ladder, you do not follow the subsequent snake or ladder.\n",
    "\n",
    "# For example, suppose the board is [[-1,4],[-1,3]], and on the first move, your destination square is 2. You follow the ladder to square 3, but do not follow the subsequent ladder to 4.\n",
    "# Return the least number of moves required to reach the square n2. If it is not possible to reach the square, return -1."
   ]
  },
  {
   "cell_type": "code",
   "execution_count": 407,
   "metadata": {},
   "outputs": [],
   "source": [
    "board = [[-1,-1,-1,-1,-1,-1],[-1,-1,-1,-1,-1,-1],[-1,-1,-1,-1,-1,-1],[-1,35,-1,-1,13,-1],[-1,-1,-1,-1,-1,-1],[-1,15,-1,-1,-1,-1]]\n",
    "# board = [[-1,-1,-1],[-1,9,8],[-1,8,9]]\n",
    "board = [[-1,7,-1],[-1,6,9],[-1,-1,2]]\n",
    "board = [[1,1,-1],[1,1,1],[-1,1,1]]\n",
    "board = [[-1,-1,19,10,-1],[2,-1,-1,6,-1],[-1,17,-1,19,-1],[25,-1,20,-1,-1],[-1,-1,-1,-1,15]]\n",
    "board = [[-1,-1,-1,63,-1,-1,-1,62,-1],[53,52,13,32,-1,-1,-1,-1,-1],[-1,-1,26,-1,73,-1,-1,-1,55],[-1,-1,-1,-1,74,-1,-1,-1,-1],[-1,-1,35,42,-1,45,-1,-1,-1],[81,-1,3,46,-1,-1,-1,-1,59],[74,-1,66,16,-1,-1,-1,-1,-1],[-1,-1,-1,28,-1,-1,81,-1,22],[-1,-1,-1,-1,61,17,39,21,-1]]"
   ]
  },
  {
   "cell_type": "code",
   "execution_count": null,
   "metadata": {},
   "outputs": [],
   "source": [
    "16,15,14,13\n",
    " 9,10,11,12\n",
    " 8, 7, 6, 5\n",
    " 1, 2, 3, 4"
   ]
  },
  {
   "cell_type": "code",
   "execution_count": null,
   "metadata": {},
   "outputs": [],
   "source": [
    "def snakesAndLadders(self, board: List[List[int]]) -> int:\n",
    "    n = len(board)\n",
    "    def label_to_position(label):\n",
    "        r, c = divmod(label-1, n)\n",
    "        if r % 2 == 0:\n",
    "            return n-1-r, c\n",
    "        else:\n",
    "            return n-1-r, n-1-c\n",
    "\n",
    "    seen = set()\n",
    "    queue = collections.deque()\n",
    "    queue.append((1, 0))\n",
    "    while queue:\n",
    "        label, step = queue.popleft()\n",
    "        r, c = label_to_position(label)\n",
    "        if board[r][c] != -1:\n",
    "            label = board[r][c]\n",
    "        if label == n*n:\n",
    "            return step\n",
    "        for x in range(1, 7):\n",
    "            new_label = label + x\n",
    "            if new_label <= n*n and new_label not in seen:\n",
    "                seen.add(new_label)\n",
    "                queue.append((new_label, step+1))\n",
    "    return -1"
   ]
  },
  {
   "cell_type": "code",
   "execution_count": 418,
   "metadata": {},
   "outputs": [],
   "source": [
    "# 735. Asteroid Collision\n",
    "# We are given an array asteroids of integers representing asteroids in a row.\n",
    "# For each asteroid, the absolute value represents its size, \n",
    "# and the sign represents its direction (positive meaning right, negative meaning left). \n",
    "# Each asteroid moves at the same speed.\n",
    "# Find out the state of the asteroids after all collisions. \n",
    "# If two asteroids meet, the smaller one will explode. \n",
    "# If both are the same size, both will explode. \n",
    "# Two asteroids moving in the same direction will never meet.\n",
    "asteroids = [5,10,-5]"
   ]
  },
  {
   "cell_type": "code",
   "execution_count": 422,
   "metadata": {},
   "outputs": [
    {
     "data": {
      "text/plain": [
       "[5, 10]"
      ]
     },
     "execution_count": 422,
     "metadata": {},
     "output_type": "execute_result"
    }
   ],
   "source": [
    "stack = []\n",
    "for asteroid in asteroids:\n",
    "    while stack and stack[-1] > 0 and asteroid < 0:\n",
    "        temp = stack.pop()\n",
    "        if temp > asteroid:\n",
    "            asteroid = temp\n",
    "        elif temp == asteroid:\n",
    "            asteroid = 0\n",
    "    if asteroid != 0:\n",
    "        stack.append(asteroid)\n",
    "stack"
   ]
  },
  {
   "cell_type": "code",
   "execution_count": 423,
   "metadata": {},
   "outputs": [],
   "source": [
    "# 12. Integer to Roman\n",
    "# Roman numerals are represented by seven different symbols: I, V, X, L, C, D and M.\n",
    "\n",
    "# Symbol       Value\n",
    "# I             1\n",
    "# V             5\n",
    "# X             10\n",
    "# L             50\n",
    "# C             100\n",
    "# D             500\n",
    "# M             1000\n",
    "# For example, 2 is written as II in Roman numeral, just two one's added together. \n",
    "# 12 is written as XII, which is simply X + II. The number 27 is written as XXVII, which is XX + V + II.\n",
    "\n",
    "# Roman numerals are usually written largest to smallest from left to right. \n",
    "# However, the numeral for four is not IIII. Instead, the number four is written as IV. \n",
    "# Because the one is before the five we subtract it making four. \n",
    "# The same principle applies to the number nine, which is written as IX. \n",
    "# There are six instances where subtraction is used:\n",
    "\n",
    "# I can be placed before V (5) and X (10) to make 4 and 9. \n",
    "# X can be placed before L (50) and C (100) to make 40 and 90. \n",
    "# C can be placed before D (500) and M (1000) to make 400 and 900.\n",
    "# Given an integer, convert it to a roman numeral."
   ]
  },
  {
   "cell_type": "code",
   "execution_count": 437,
   "metadata": {},
   "outputs": [],
   "source": [
    "num = 1994\n",
    "# \"MCMXCIV\""
   ]
  },
  {
   "cell_type": "code",
   "execution_count": 438,
   "metadata": {},
   "outputs": [],
   "source": [
    "digits = [(1000, \"M\"), (900, \"CM\"), (500, \"D\"), (400, \"CD\"), (100, \"C\"), \n",
    "          (90, \"XC\"), (50, \"L\"), (40, \"XL\"), (10, \"X\"), (9, \"IX\"), \n",
    "          (5, \"V\"), (4, \"IV\"), (1, \"I\")]\n"
   ]
  },
  {
   "cell_type": "code",
   "execution_count": null,
   "metadata": {},
   "outputs": [],
   "source": [
    "\n",
    "roman_digits = ''\n",
    "# Loop through each symbol.\n",
    "for value, symbol in digits:\n",
    "    # We don't want to continue looping if we're done.\n",
    "    if num == 0: break\n",
    "    count, num = divmod(num, value)\n",
    "    # Append \"count\" copies of \"symbol\" to roman_digits.\n",
    "    roman_digits += symbol * count\n",
    "roman_digits"
   ]
  },
  {
   "cell_type": "code",
   "execution_count": 432,
   "metadata": {
    "jupyter": {
     "source_hidden": true
    }
   },
   "outputs": [
    {
     "data": {
      "text/plain": [
       "'MCMXCIV'"
      ]
     },
     "execution_count": 432,
     "metadata": {},
     "output_type": "execute_result"
    }
   ],
   "source": [
    "mapRoman = {1000: 'M', 900: 'CM', 500: 'D', 400: 'CD', 100: 'C', 90: 'XC', 50: 'L', 40: 'XL', 10: 'X', 9: 'IX', 5: 'V', 4: 'IV', 1: 'I'}\n",
    "res = ''\n",
    "n = len(str(num))\n",
    "i = n - 2\n",
    "for i in range(n - 1, -1, -1):\n",
    "    a = num // (10**i)\n",
    "    if a * (10**i) in mapRoman:\n",
    "        res += mapRoman[a * (10**i)]\n",
    "    elif a >= 5:\n",
    "        res += mapRoman[5 * (10**i)] + mapRoman[(10**i)] * (a - 5)\n",
    "    else:\n",
    "        res += mapRoman[(10**i)] * (a)\n",
    "    num = num % (10**i)\n",
    "res"
   ]
  },
  {
   "cell_type": "code",
   "execution_count": 441,
   "metadata": {},
   "outputs": [],
   "source": [
    "# 1291. Sequential Digits\n",
    "# An integer has sequential digits if and only if each digit in the number is one more than the previous digit.\n",
    "# Return a sorted list of all the integers in the range [low, high] inclusive that have sequential digits.\n",
    "\n",
    "low = 1000\n",
    "high = 13000\n",
    "# Output: [1234,2345,3456,4567,5678,6789,12345]"
   ]
  },
  {
   "cell_type": "code",
   "execution_count": 448,
   "metadata": {},
   "outputs": [
    {
     "data": {
      "text/plain": [
       "[1234, 2345, 3456, 4567, 5678, 6789, 12345]"
      ]
     },
     "execution_count": 448,
     "metadata": {},
     "output_type": "execute_result"
    }
   ],
   "source": [
    "n_min = len(str(low))\n",
    "n_max = len(str(high))\n",
    "window = '123456789'\n",
    "res = []\n",
    "for n in range(n_min, n_max + 1):\n",
    "    for i in range(10 - n):\n",
    "        if low <= int(window[i:i+n]) <= high:\n",
    "            res.append(int(window[i:i+n]))\n",
    "res"
   ]
  },
  {
   "cell_type": "code",
   "execution_count": 446,
   "metadata": {},
   "outputs": [],
   "source": [
    "n_min = len(str(low))\n",
    "n_max = len(str(high))\n",
    "res = []\n",
    "for n in range(n_min, n_max + 1):\n",
    "    base = ''\n",
    "    start = ''\n",
    "    for i in range(n):\n",
    "        start += str(i + 1)\n",
    "        base += str(1)\n",
    "    start = int(start)\n",
    "    base = int(base)\n",
    "    for i in range(9 - n + 1):\n",
    "        if low <= start <= high:\n",
    "            res.append(start)\n",
    "        start += base"
   ]
  },
  {
   "cell_type": "code",
   "execution_count": 447,
   "metadata": {},
   "outputs": [
    {
     "data": {
      "text/plain": [
       "[1234, 2345, 3456, 4567, 5678, 6789, 12345]"
      ]
     },
     "execution_count": 447,
     "metadata": {},
     "output_type": "execute_result"
    }
   ],
   "source": [
    "res"
   ]
  },
  {
   "cell_type": "code",
   "execution_count": 449,
   "metadata": {},
   "outputs": [],
   "source": [
    "# 99. Recover Binary Search Tree\n",
    "# You are given the root of a binary search tree (BST), \n",
    "# where the values of exactly two nodes of the tree were swapped by mistake. \n",
    "# Recover the tree without changing its structure.\n"
   ]
  },
  {
   "cell_type": "code",
   "execution_count": null,
   "metadata": {},
   "outputs": [],
   "source": [
    "class Solution:\n",
    "    def recoverTree(self, root: TreeNode):\n",
    "        \"\"\"\n",
    "        :rtype: void Do not return anything, modify root in-place instead.\n",
    "        \"\"\"\n",
    "        stack = []\n",
    "        x = y = pred = None\n",
    "        \n",
    "        while stack or root:\n",
    "            while root:\n",
    "                stack.append(root)\n",
    "                root = root.left\n",
    "            root = stack.pop()\n",
    "            if pred and root.val < pred.val:\n",
    "                y = root\n",
    "                if x is None:\n",
    "                    x = pred \n",
    "                else:\n",
    "                    break\n",
    "            pred = root\n",
    "            root = root.right\n",
    "\n",
    "        x.val, y.val = y.val, x.val"
   ]
  },
  {
   "cell_type": "code",
   "execution_count": null,
   "metadata": {},
   "outputs": [],
   "source": [
    "# 2100. Find Good Days to Rob the Bank\n",
    "# You and a gang of thieves are planning on robbing a bank. \n",
    "# You are given a 0-indexed integer array security, \n",
    "# where security[i] is the number of guards on duty on the ith day. \n",
    "# The days are numbered starting from 0. You are also given an integer time.\n",
    "\n",
    "# The ith day is a good day to rob the bank if:\n",
    "\n",
    "# There are at least time days before and after the ith day,\n",
    "# The number of guards at the bank for the time days before i are non-increasing, and\n",
    "# The number of guards at the bank for the time days after i are non-decreasing.\n",
    "# More formally, this means day i is a good day to rob the bank \n",
    "# if and only if security[i - time] >= security[i - time + 1] >= ... >= security[i] <= ... <= security[i + time - 1] <= security[i + time].\n",
    "\n",
    "# Return a list of all days (0-indexed) that are good days to rob the bank. \n",
    "# The order that the days are returned in does not matter.\n"
   ]
  },
  {
   "cell_type": "code",
   "execution_count": 450,
   "metadata": {},
   "outputs": [],
   "source": [
    "security = [5,3,3,3,5,6,2]\n",
    "time = 2"
   ]
  },
  {
   "cell_type": "code",
   "execution_count": 473,
   "metadata": {},
   "outputs": [],
   "source": [
    "n = len(security)\n",
    "res = []\n",
    "dp_dec = [0] * n\n",
    "dp_inc = [0] * n\n",
    "for i in range(1, n):\n",
    "    if security[i - 1] >= security[i]:\n",
    "        dp_dec[i] = dp_dec[i - 1] + 1\n",
    "    if security[n - i - 1] <= security[n - i]:\n",
    "        dp_inc[n - i - 1] = dp_inc[n - i] + 1\n",
    "for i in range(n):\n",
    "    if dp_dec[i] >= time and dp_inc[i] >= time:\n",
    "        res.append(i)"
   ]
  },
  {
   "cell_type": "code",
   "execution_count": 477,
   "metadata": {},
   "outputs": [],
   "source": [
    "# 399. Evaluate Division\n",
    "# You are given an array of variable pairs equations and an array of real numbers values, where equations[i] = [Ai, Bi] and values[i] represent the equation Ai / Bi = values[i]. Each Ai or Bi is a string that represents a single variable.\n",
    "\n",
    "# You are also given some queries, where queries[j] = [Cj, Dj] represents the jth query where you must find the answer for Cj / Dj = ?.\n",
    "\n",
    "# Return the answers to all queries. If a single answer cannot be determined, return -1.0.\n",
    "\n",
    "# Note: The input is always valid. You may assume that evaluating the queries will not result in division by zero and that there is no contradiction.\n"
   ]
  },
  {
   "cell_type": "code",
   "execution_count": 478,
   "metadata": {},
   "outputs": [],
   "source": [
    "equations = [[\"a\",\"b\"],[\"b\",\"c\"]]\n",
    "values = [2.0,3.0]\n",
    "queries = [[\"a\",\"c\"],[\"b\",\"a\"],[\"a\",\"e\"],[\"a\",\"a\"],[\"x\",\"x\"]]"
   ]
  },
  {
   "cell_type": "code",
   "execution_count": 483,
   "metadata": {},
   "outputs": [
    {
     "data": {
      "text/plain": [
       "[6.0, 0.5, -1.0, 1.0, -1.0]"
      ]
     },
     "execution_count": 483,
     "metadata": {},
     "output_type": "execute_result"
    }
   ],
   "source": [
    "adj = defaultdict(dict)\n",
    "for (num, den), val in zip(equations, values):\n",
    "    adj[num][num] = adj[den][den] = 1.0\n",
    "    adj[num][den] = val\n",
    "    adj[den][num] = 1 / val\n",
    "\n",
    "def dfs(num, den, val):\n",
    "    path.add(num)\n",
    "    ret = -1\n",
    "    if den in adj[num]:\n",
    "        ret =  val * adj[num][den]\n",
    "    else:\n",
    "        for key in adj[num].keys():\n",
    "            if key in path:\n",
    "                continue\n",
    "            ret = dfs(key, den, val * adj[num][key])\n",
    "            if ret != -1.0:\n",
    "                break\n",
    "    return ret\n",
    "\n",
    "res = []\n",
    "for num, den in queries:\n",
    "    if num not in adj or den not in adj:\n",
    "        ret = -1.0\n",
    "    else:\n",
    "        path = set()\n",
    "        ret = dfs(num, den, 1)\n",
    "    res.append(ret)\n",
    "res"
   ]
  },
  {
   "cell_type": "code",
   "execution_count": 530,
   "metadata": {},
   "outputs": [],
   "source": [
    "# 227. Basic Calculator II\n",
    "# Given a string s which represents an expression, evaluate this expression and return its value. \n",
    "\n",
    "# The integer division should truncate toward zero.\n",
    "\n",
    "# You may assume that the given expression is always valid. All intermediate results will be in the range of [-231, 231 - 1].\n",
    "\n",
    "# Note: You are not allowed to use any built-in function which evaluates strings as mathematical expressions, such as eval().\n",
    "\n",
    "s = \"43+ 2 * 2\"\n",
    "# s = '0'\n",
    "s = \"1*2-3/4+5*6-7*8+9/10\""
   ]
  },
  {
   "cell_type": "code",
   "execution_count": 542,
   "metadata": {},
   "outputs": [],
   "source": [
    "class Solution:\n",
    "    def calculate(self, s):\n",
    "        def update(op, v):\n",
    "            if op == \"+\": stack.append(v)\n",
    "            if op == \"-\": stack.append(-v)\n",
    "            if op == \"*\": stack.append(stack.pop() * v)           #for BC II and BC III\n",
    "            if op == \"/\": stack.append(int(stack.pop() / v))      #for BC II and BC III\n",
    "    \n",
    "        it, num, stack, sign = 0, 0, [], \"+\"\n",
    "        \n",
    "        while it < len(s):\n",
    "            if s[it].isdigit():\n",
    "                num = num * 10 + int(s[it])\n",
    "            elif s[it] in \"+-*/\":\n",
    "                update(sign, num)\n",
    "                num, sign = 0, s[it]\n",
    "            elif s[it] == \"(\":                                        # For BC I and BC III\n",
    "                num, j = self.calculate(s[it + 1:])\n",
    "                it = it + j\n",
    "            elif s[it] == \")\":                                        # For BC I and BC III\n",
    "                update(sign, num)\n",
    "                return sum(stack), it + 1\n",
    "            it += 1\n",
    "        update(sign, num)\n",
    "        return sum(stack)"
   ]
  },
  {
   "cell_type": "code",
   "execution_count": 543,
   "metadata": {},
   "outputs": [
    {
     "data": {
      "text/plain": [
       "-24"
      ]
     },
     "execution_count": 543,
     "metadata": {},
     "output_type": "execute_result"
    }
   ],
   "source": [
    "Solution().calculate(s)"
   ]
  },
  {
   "cell_type": "code",
   "execution_count": 545,
   "metadata": {},
   "outputs": [],
   "source": [
    "# 103. Binary Tree Zigzag Level Order Traversal\n",
    "# Given the root of a binary tree, return the zigzag level order traversal of its nodes' values. \n",
    "# (i.e., from left to right, then right to left for the next level and alternate between)."
   ]
  },
  {
   "cell_type": "code",
   "execution_count": 546,
   "metadata": {},
   "outputs": [],
   "source": [
    "# 1856. Maximum Subarray Min-Product\n",
    "# The min-product of an array is equal to the minimum value in the array multiplied by the array's sum.\n",
    "\n",
    "# For example, the array [3,2,5] (minimum value is 2) has a min-product of 2 * (3+2+5) = 2 * 10 = 20.\n",
    "# Given an array of integers nums, return the maximum min-product of any non-empty subarray of nums. \n",
    "# Since the answer may be large, return it modulo 109 + 7.\n",
    "\n",
    "# Note that the min-product should be maximized before performing the modulo operation. \n",
    "# Testcases are generated such that the maximum min-product without modulo will fit in a 64-bit signed integer.\n",
    "\n",
    "# A subarray is a contiguous part of an array."
   ]
  },
  {
   "cell_type": "code",
   "execution_count": 562,
   "metadata": {},
   "outputs": [],
   "source": [
    "nums = [3,1,5,6,4,2]\n",
    "# Output: 60"
   ]
  },
  {
   "cell_type": "code",
   "execution_count": 566,
   "metadata": {},
   "outputs": [],
   "source": [
    "from typing import List\n",
    "class Solution:\n",
    "    def maxSumMinProduct(self, nums: List[int]) -> int:\n",
    "        n = len(nums)\n",
    "        left_bound, right_bound = [0] * n, [0] * n\n",
    "        st = []\n",
    "        for i in range(0, n):\n",
    "            while st and nums[st[-1]] >= nums[i]: st.pop()\n",
    "            if len(st) > 0:\n",
    "                left_bound[i] = st[-1] + 1\n",
    "            else:\n",
    "                left_bound[i] = 0\n",
    "            st.append(i)\n",
    "\n",
    "        st = []\n",
    "        for i in range(n - 1, -1, -1):\n",
    "            while st and nums[st[-1]] >= nums[i]: st.pop()\n",
    "            if len(st) > 0:\n",
    "                right_bound[i] = st[-1] - 1\n",
    "            else:\n",
    "                right_bound[i] = n - 1\n",
    "            st.append(i)\n",
    "\n",
    "        preSum = [0] * (n + 1)\n",
    "        for i in range(n):\n",
    "            preSum[i + 1] = preSum[i] + nums[i]\n",
    "\n",
    "        def getSum(left, right):  # left, right inclusive\n",
    "            return preSum[right + 1] - preSum[left]\n",
    "        print(left_bound, right_bound, preSum)\n",
    "        maxProduct = 0\n",
    "        for i in range(n):\n",
    "            maxProduct = max(maxProduct, nums[i] * getSum(left_bound[i], right_bound[i]))\n",
    "        return maxProduct % 1000_000_007"
   ]
  },
  {
   "cell_type": "code",
   "execution_count": 572,
   "metadata": {},
   "outputs": [],
   "source": [
    "# 1438. Longest Continuous Subarray With Absolute Diff Less Than or Equal to Limit\n",
    "# Given an array of integers nums and an integer limit, \n",
    "# return the size of the longest non-empty subarray \n",
    "# such that the absolute difference between any two elements of this subarray is \n",
    "# less than or equal to limit."
   ]
  },
  {
   "cell_type": "code",
   "execution_count": 582,
   "metadata": {},
   "outputs": [],
   "source": [
    "nums = [8,2,4,7]\n",
    "limit = 4\n",
    "# Output: 2\n"
   ]
  },
  {
   "cell_type": "code",
   "execution_count": 580,
   "metadata": {
    "jupyter": {
     "source_hidden": true
    }
   },
   "outputs": [
    {
     "data": {
      "text/plain": [
       "2"
      ]
     },
     "execution_count": 580,
     "metadata": {},
     "output_type": "execute_result"
    }
   ],
   "source": [
    "class Solution:\n",
    "    def longestSubarray(self, nums: List[int], limit: int) -> int:\n",
    "        min_deque, max_deque = deque(), deque()\n",
    "        l = r = 0\n",
    "        ans = 0\n",
    "        while r < len(nums):\n",
    "            while min_deque and nums[r] <= nums[min_deque[-1]]:\n",
    "                min_deque.pop()\n",
    "            while max_deque and nums[r] >= nums[max_deque[-1]]:\n",
    "                max_deque.pop()\n",
    "            min_deque.append(r)\n",
    "            max_deque.append(r)\n",
    "            \n",
    "            while nums[max_deque[0]] - nums[min_deque[0]] > limit:\n",
    "                l += 1\n",
    "                if l > min_deque[0]:\n",
    "                    min_deque.popleft()\n",
    "                if l > max_deque[0]:\n",
    "                    max_deque.popleft()\n",
    "            \n",
    "            ans = max(ans, r - l + 1)\n",
    "            r += 1\n",
    "                \n",
    "        return ans\n",
    "Solution().longestSubarray(nums, limit)"
   ]
  },
  {
   "cell_type": "code",
   "execution_count": 585,
   "metadata": {},
   "outputs": [],
   "source": [
    "# 2281. Sum of Total Strength of Wizards\n",
    "# As the ruler of a kingdom, you have an army of wizards at your command.\n",
    "\n",
    "# You are given a 0-indexed integer array strength, where strength[i] denotes the strength of the ith wizard. \n",
    "# For a contiguous group of wizards (i.e. the wizards' strengths form a subarray of strength), \n",
    "# the total strength is defined as the product of the following two values:\n",
    "\n",
    "# The strength of the weakest wizard in the group.\n",
    "# The total of all the individual strengths of the wizards in the group.\n",
    "# Return the sum of the total strengths of all contiguous groups of wizards. \n",
    "# Since the answer may be very large, return it modulo 109 + 7.\n",
    "\n",
    "# A subarray is a contiguous non-empty sequence of elements within an array.\n"
   ]
  },
  {
   "cell_type": "code",
   "execution_count": 586,
   "metadata": {},
   "outputs": [],
   "source": [
    "strength = [1,3,1,2]\n",
    "# out=44"
   ]
  },
  {
   "cell_type": "code",
   "execution_count": 600,
   "metadata": {},
   "outputs": [],
   "source": [
    "# 1705. Maximum Number of Eaten Apples\n",
    "# There is a special kind of apple tree that grows apples every day for n days. \n",
    "# On the ith day, the tree grows apples[i] apples that will rot after days[i] days, \n",
    "# that is on day i + days[i] the apples will be rotten and cannot be eaten. On some days, \n",
    "# the apple tree does not grow any apples, which are denoted by apples[i] == 0 and days[i] == 0.\n",
    "\n",
    "# You decided to eat at most one apple a day (to keep the doctors away). Note that you can keep eating after the first n days.\n",
    "\n",
    "# Given two integer arrays days and apples of length n, return the maximum number of apples you can eat.\n",
    "apples = [1,2,3,5,2]\n",
    "days = [3,2,1,4,2]\n",
    "# Output: 7\n"
   ]
  },
  {
   "cell_type": "code",
   "execution_count": 605,
   "metadata": {},
   "outputs": [],
   "source": [
    "minH = []\n",
    "n = len(apples)\n",
    "eaten = 0\n",
    "i = 0\n",
    "while i < n or minH:\n",
    "    while minH and (minH[0][0] <= i or minH[0][1] == 0):\n",
    "        heapq.heappop(minH)\n",
    "    if i < n and apples[i] > 0:\n",
    "        heapq.heappush(minH, [i + days[i], apples[i]])\n",
    "#     print(minH)\n",
    "    if minH:\n",
    "        minH[0][1] -= 1\n",
    "        eaten += 1\n",
    "#     print(i, minH, eaten)\n",
    "    i += 1\n"
   ]
  },
  {
   "cell_type": "code",
   "execution_count": 606,
   "metadata": {},
   "outputs": [],
   "source": [
    "# 926. Flip String to Monotone Increasing\n",
    "# A binary string is monotone increasing if it consists of some number of 0's (possibly none), \n",
    "# followed by some number of 1's (also possibly none).\n",
    "\n",
    "# You are given a binary string s. You can flip s[i] changing it from 0 to 1 or from 1 to 0.\n",
    "\n",
    "# Return the minimum number of flips to make s monotone increasing. "
   ]
  },
  {
   "cell_type": "code",
   "execution_count": 607,
   "metadata": {},
   "outputs": [],
   "source": [
    "s = \"00011000\"\n",
    "# out = 2"
   ]
  },
  {
   "cell_type": "code",
   "execution_count": null,
   "metadata": {},
   "outputs": [],
   "source": [
    "class Solution(object):\n",
    "    def minFlipsMonoIncr(self, s):\n",
    "        n = len(s)\n",
    "        cnt0 = s.count('0')\n",
    "        cnt1 = 0\n",
    "        res = n - cnt0\n",
    "        for i in range(n):\n",
    "            if s[i] == '0': \n",
    "                cnt0 -= 1\n",
    "            elif s[i] == '1':\n",
    "                res = min(res, cnt1+cnt0)\n",
    "                cnt1 += 1\n",
    "        return res"
   ]
  },
  {
   "cell_type": "code",
   "execution_count": 610,
   "metadata": {},
   "outputs": [],
   "source": [
    "# 380. Insert Delete GetRandom O(1)\n",
    "# Implement the RandomizedSet class:\n",
    "\n",
    "# RandomizedSet() Initializes the RandomizedSet object.\n",
    "# bool insert(int val) Inserts an item val into the set if not present. \n",
    "# Returns true if the item was not present, false otherwise.\n",
    "# bool remove(int val) Removes an item val from the set if present. \n",
    "# Returns true if the item was present, false otherwise.\n",
    "# int getRandom() Returns a random element from the current set of elements \n",
    "# (it's guaranteed that at least one element exists when this method is called). \n",
    "#  Each element must have the same probability of being returned.\n",
    "# You must implement the functions of the class such that each function works in average O(1) time complexity."
   ]
  },
  {
   "cell_type": "code",
   "execution_count": 611,
   "metadata": {},
   "outputs": [
    {
     "data": {
      "text/plain": [
       "0.9465533057966098"
      ]
     },
     "execution_count": 611,
     "metadata": {},
     "output_type": "execute_result"
    }
   ],
   "source": [
    "import random\n",
    "random.random()"
   ]
  },
  {
   "cell_type": "code",
   "execution_count": 616,
   "metadata": {},
   "outputs": [
    {
     "data": {
      "text/plain": [
       "0"
      ]
     },
     "execution_count": 616,
     "metadata": {},
     "output_type": "execute_result"
    }
   ],
   "source": [
    "random.randint(0, 2)"
   ]
  },
  {
   "cell_type": "code",
   "execution_count": null,
   "metadata": {},
   "outputs": [],
   "source": [
    "class RandomizedSet:\n",
    "    def __init__(self):\n",
    "        self.nums = []\n",
    "        self.idx = {}\n",
    "        \n",
    "    def insert(self, val: int) -> bool:\n",
    "        if val in self.idx:\n",
    "            return False\n",
    "        else:\n",
    "            self.idx[val] = len(self.nums)\n",
    "            self.nums.append(val)\n",
    "            return True\n",
    "        \n",
    "    def remove(self, val):\n",
    "        if val in self.idx:\n",
    "            idx, idx_last = self.idx[val], self.idx[self.nums[-1]]\n",
    "            self.idx[val], self.idx[self.nums[-1]] = idx_last, idx\n",
    "            del self.idx[val] # self.idx.pop(val, 0)\n",
    "            nums[idx], nums[-1] = nums[-1], nums[idx]\n",
    "            nums.pop()\n",
    "            return True\n",
    "        else:\n",
    "            return False\n",
    "    \n",
    "    def getRandom(self):\n",
    "        n = random.randint(0, len(self.nums)-1)\n",
    "        return self.nums[n]"
   ]
  },
  {
   "cell_type": "code",
   "execution_count": 617,
   "metadata": {},
   "outputs": [],
   "source": [
    "# 2340. Minimum Adjacent Swaps to Make a Valid Array\n",
    "# You are given a 0-indexed integer array nums.\n",
    "\n",
    "# Swaps of adjacent elements are able to be performed on nums.\n",
    "\n",
    "# A valid array meets the following conditions:\n",
    "\n",
    "# The largest element (any of the largest elements if there are multiple) \n",
    "# is at the rightmost position in the array.\n",
    "# The smallest element (any of the smallest elements if there are multiple) \n",
    "# is at the leftmost position in the array.\n",
    "# Return the minimum swaps required to make nums a valid array."
   ]
  },
  {
   "cell_type": "code",
   "execution_count": 618,
   "metadata": {},
   "outputs": [],
   "source": [
    "nums = [3,4,5,5,3,1]\n",
    "# Output: 6"
   ]
  },
  {
   "cell_type": "code",
   "execution_count": 624,
   "metadata": {},
   "outputs": [
    {
     "name": "stdout",
     "output_type": "stream",
     "text": [
      "6\n"
     ]
    }
   ],
   "source": [
    "min_idx = max_idx = 0\n",
    "min_val = max_val = nums[0]\n",
    "n = len(nums)\n",
    "for i in range(n):\n",
    "    if nums[i] < min_val:\n",
    "        min_idx = i\n",
    "        min_val = nums[i]\n",
    "    if nums[i] >= max_val:\n",
    "        max_idx = i\n",
    "        max_val = nums[i]\n",
    "if min_idx > max_idx:\n",
    "    print(n - 1 - max_idx + min_idx - 1)\n",
    "elif min_idx < max_idx:\n",
    "    print(n - 1 - max_idx + min_idx)\n",
    "else:\n",
    "    print(0)"
   ]
  },
  {
   "cell_type": "code",
   "execution_count": 625,
   "metadata": {},
   "outputs": [],
   "source": [
    "# 1642. Furthest Building You Can Reach\n",
    "# You are given an integer array heights representing the heights of buildings, some bricks, and some ladders.\n",
    "\n",
    "# You start your journey from building 0 and move to the next building by possibly using bricks or ladders.\n",
    "\n",
    "# While moving from building i to building i+1 (0-indexed),\n",
    "\n",
    "# If the current building's height is greater than or equal to the next building's height, you do not need a ladder or bricks.\n",
    "# If the current building's height is less than the next building's height, you can either use one ladder or (h[i+1] - h[i]) bricks.\n",
    "# Return the furthest building index (0-indexed) you can reach if you use the given ladders and bricks optimally."
   ]
  },
  {
   "cell_type": "code",
   "execution_count": 631,
   "metadata": {},
   "outputs": [],
   "source": [
    "heights = [4,2,7,6,9,14,12]\n",
    "bricks = 5\n",
    "ladders = 1\n",
    "# out = 4"
   ]
  },
  {
   "cell_type": "code",
   "execution_count": null,
   "metadata": {},
   "outputs": [],
   "source": [
    "\n",
    "def furthestBuilding(self, A, bricks, ladders):\n",
    "    heap = []\n",
    "    for i in range(len(A) - 1):\n",
    "        d = A[i + 1] - A[i]\n",
    "        if d > 0:\n",
    "            heapq.heappush(heap, d)\n",
    "        if len(heap) > ladders:\n",
    "            bricks -= heapq.heappop(heap)\n",
    "        if bricks < 0:\n",
    "            return i\n",
    "    return len(A) - 1"
   ]
  },
  {
   "cell_type": "code",
   "execution_count": 634,
   "metadata": {
    "collapsed": true,
    "jupyter": {
     "outputs_hidden": true,
     "source_hidden": true
    }
   },
   "outputs": [
    {
     "name": "stdout",
     "output_type": "stream",
     "text": [
      "0 5 1\n",
      "1 5 1\n",
      "2 0 1\n",
      "3 0 1\n",
      "4 0 0\n",
      "2 5 0\n",
      "3 5 0\n",
      "4 2 0\n"
     ]
    },
    {
     "data": {
      "text/plain": [
       "4"
      ]
     },
     "execution_count": 634,
     "metadata": {},
     "output_type": "execute_result"
    }
   ],
   "source": [
    "# TLE\n",
    "n = len(heights)\n",
    "def dfs(i, bricks, ladders):\n",
    "    if i == n - 1:\n",
    "        return i\n",
    "    hdiff = (heights[i + 1] - heights[i])\n",
    "    if hdiff <= 0:\n",
    "        return dfs(i + 1, bricks, ladders)\n",
    "    if bricks < hdiff:\n",
    "        if ladders == 0:\n",
    "            return i\n",
    "        else:\n",
    "            return dfs(i + 1, bricks, ladders - 1)\n",
    "    else:\n",
    "        if ladders == 0:\n",
    "            return dfs(i + 1, bricks - hdiff, ladders)\n",
    "        else:\n",
    "            return max(dfs(i + 1, bricks - hdiff, ladders), dfs(i + 1, bricks, ladders - 1))\n",
    "        \n",
    "dfs(0, bricks, ladders)"
   ]
  },
  {
   "cell_type": "code",
   "execution_count": 640,
   "metadata": {},
   "outputs": [],
   "source": [
    "# 1166. Design File System\n",
    "# You are asked to design a file system that allows you to create new paths and associate them with different values.\n",
    "\n",
    "# The format of a path is one or more concatenated strings of the form: / followed by one or more lowercase English letters. \n",
    "# For example, \"/leetcode\" and \"/leetcode/problems\" are valid paths while an empty string \"\" and \"/\" are not.\n",
    "\n",
    "# Implement the FileSystem class:\n",
    "\n",
    "# bool createPath(string path, int value) Creates a new path and associates a value to it if possible and returns true. \n",
    "# Returns false if the path already exists or its parent path doesn't exist.\n",
    "# int get(string path) Returns the value associated with path or returns -1 if the path doesn't exist."
   ]
  },
  {
   "cell_type": "code",
   "execution_count": null,
   "metadata": {},
   "outputs": [],
   "source": [
    "class FileSystem:\n",
    "    def __init__(self):\n",
    "        self.d = {\"\" : -1}\n",
    "\n",
    "    def createPath(self, path: str, value: int) -> bool:\n",
    "        parent = path[:path.rfind('/')]\n",
    "        if parent in self.d and path not in self.d:\n",
    "            self.d[path] = value\n",
    "            return True\n",
    "        return False\n",
    "\n",
    "    def get(self, path: str) -> int:\n",
    "        return self.d.get(path, -1)"
   ]
  },
  {
   "cell_type": "code",
   "execution_count": 652,
   "metadata": {
    "jupyter": {
     "source_hidden": true
    }
   },
   "outputs": [],
   "source": [
    "class TrieNode:\n",
    "    def __init__(self, value = 0):\n",
    "        self.children = {}\n",
    "        self.val = value\n",
    "class FileSystem:\n",
    "\n",
    "    def __init__(self):\n",
    "        self.root = TrieNode()\n",
    "\n",
    "    def createPath(self, path: str, value: int) -> bool:\n",
    "        if not path or path == '/':\n",
    "            return False\n",
    "        \n",
    "        cur = self.root\n",
    "        paths = path.split('/')[1:]\n",
    "        for i, p in enumerate(paths):\n",
    "            if p not in cur.children:\n",
    "                if i != len(paths) - 1:\n",
    "                    return False\n",
    "                cur.children[p] = TrieNode(value)\n",
    "                return True\n",
    "            cur = cur.children[p]\n",
    "        return False\n",
    "            \n",
    "    def get(self, path: str) -> int:\n",
    "        cur = self.root\n",
    "        paths = path.split('/')\n",
    "        for p in paths[1:]:\n",
    "            if p not in cur.children:\n",
    "                return -1\n",
    "            cur = cur.children[p]\n",
    "        return cur.val"
   ]
  },
  {
   "cell_type": "code",
   "execution_count": 653,
   "metadata": {},
   "outputs": [],
   "source": [
    "# 981. Time Based Key-Value Store\n",
    "# Design a time-based key-value data structure that can store multiple values \n",
    "# for the same key at different time stamps and \n",
    "# retrieve the key's value at a certain timestamp.\n",
    "\n",
    "# Implement the TimeMap class:\n",
    "\n",
    "# TimeMap() Initializes the object of the data structure.\n",
    "# void set(String key, String value, int timestamp) Stores the key key with the value value at the given time timestamp.\n",
    "# String get(String key, int timestamp) Returns a value such that set was called previously, with timestamp_prev <= timestamp. \n",
    "# If there are multiple such values, it returns the value associated with the largest timestamp_prev. \n",
    "# If there are no values, it returns \"\".\n",
    " "
   ]
  },
  {
   "cell_type": "code",
   "execution_count": null,
   "metadata": {},
   "outputs": [],
   "source": [
    "import heapq\n",
    "from collections import defaultdict\n",
    "class TimeMap:\n",
    "\n",
    "    def __init__(self):\n",
    "        self.d = defaultdict(list)\n",
    "\n",
    "    def set(self, key: str, value: str, timestamp: int) -> None:\n",
    "        heapq.heappush(self.d[key],(timestamp, value))\n",
    "    \n",
    "    def _binary_search(self, values, timestamp):\n",
    "        l, r = 0, len(values) - 1\n",
    "        res = 0\n",
    "        while l <= r:\n",
    "            m = (l + r) // 2\n",
    "            if values[m][0] <= timestamp:\n",
    "                res = max(res, m)\n",
    "                l = m + 1\n",
    "            else:\n",
    "                r = m - 1\n",
    "        return res\n",
    "        \n",
    "    def get(self, key: str, timestamp: int) -> str:\n",
    "        if key not in self.d:\n",
    "            return ''\n",
    "        i = self._binary_search(self.d[key], timestamp)\n",
    "        return self.d[key][i][1]"
   ]
  },
  {
   "cell_type": "code",
   "execution_count": 656,
   "metadata": {},
   "outputs": [],
   "source": [
    "# 1151. Minimum Swaps to Group All 1's Together\n",
    "# Given a binary array data, \n",
    "# return the minimum number of swaps required to group all 1’s present \n",
    "# in the array together in any place in the array.\n"
   ]
  },
  {
   "cell_type": "code",
   "execution_count": 669,
   "metadata": {},
   "outputs": [],
   "source": [
    "data = [1,0,1,0,1]\n",
    "data = [1,0,1,0,1,0,0,1,1,0,1]\n",
    "data = [1,0,0,1,1,1]"
   ]
  },
  {
   "cell_type": "code",
   "execution_count": 671,
   "metadata": {},
   "outputs": [
    {
     "name": "stdout",
     "output_type": "stream",
     "text": [
      "2\n",
      "3\n"
     ]
    },
    {
     "data": {
      "text/plain": [
       "1"
      ]
     },
     "execution_count": 671,
     "metadata": {},
     "output_type": "execute_result"
    }
   ],
   "source": [
    "cnt1 = sum(data)\n",
    "res = cur = sum(data[:cnt1])\n",
    "for i in range(1, len(data) - cnt1 + 1):\n",
    "    cur = cur - data[i - 1] + data[i - 1 + cnt1]\n",
    "    print(cur)\n",
    "    res = max(res, cur)\n",
    "cnt1 - res"
   ]
  },
  {
   "cell_type": "code",
   "execution_count": 672,
   "metadata": {},
   "outputs": [],
   "source": [
    "# 556. Next Greater Element III\n",
    "# Given a positive integer n, find the smallest integer \n",
    "# which has exactly the same digits existing in the integer n \n",
    "# and is greater in value than n. If no such positive integer exists, return -1.\n",
    "\n",
    "# Note that the returned integer should fit in 32-bit integer, \n",
    "# if there is a valid answer but it does not fit in 32-bit integer, return -1."
   ]
  },
  {
   "cell_type": "code",
   "execution_count": 779,
   "metadata": {},
   "outputs": [],
   "source": [
    "n = 1234\n",
    "n = 2147483476\n",
    "# 1432\n",
    "# 2431\n",
    "# 2134\n",
    "# n = 4132\n",
    "#     4213\n",
    "# # out -1"
   ]
  },
  {
   "cell_type": "code",
   "execution_count": 780,
   "metadata": {},
   "outputs": [
    {
     "data": {
      "text/plain": [
       "2147483647"
      ]
     },
     "execution_count": 780,
     "metadata": {},
     "output_type": "execute_result"
    }
   ],
   "source": [
    "digit = len(str(n))\n",
    "nums = []\n",
    "minH = []\n",
    "for i in range(digit - 1, -1, -1):\n",
    "    m, n = divmod(n, 10 ** i)\n",
    "    nums.append(m)\n",
    "i = j = digit - 1\n",
    "while i > 0 and nums[i - 1] >= nums[i]:\n",
    "    i -= 1\n",
    "# if i == 0:\n",
    "#     return -1\n",
    "k = i - 1\n",
    "while nums[k] >= nums[j]:\n",
    "    j -= 1\n",
    "nums[k], nums[j] = nums[j], nums[k]\n",
    "l, r = k + 1, digit -1\n",
    "while l < r:\n",
    "    nums[l], nums[r] = nums[r], nums[l]\n",
    "    l += 1\n",
    "    r -= 1\n",
    "res = ''\n",
    "for n in nums:\n",
    "    res += str(n)\n",
    "int(res)"
   ]
  },
  {
   "cell_type": "code",
   "execution_count": 776,
   "metadata": {},
   "outputs": [
    {
     "data": {
      "text/plain": [
       "[0]"
      ]
     },
     "execution_count": 776,
     "metadata": {},
     "output_type": "execute_result"
    }
   ],
   "source": [
    "nums"
   ]
  },
  {
   "cell_type": "code",
   "execution_count": 702,
   "metadata": {},
   "outputs": [],
   "source": [
    "# 31. Next Permutation\n",
    "# A permutation of an array of integers is an arrangement of its members into a sequence or linear order.\n",
    "\n",
    "# For example, for arr = [1,2,3], the following are all the permutations of arr: [1,2,3], [1,3,2], [2, 1, 3], [2, 3, 1], [3,1,2], [3,2,1].\n",
    "# The next permutation of an array of integers is the next lexicographically greater permutation of its integer. \n",
    "# More formally, if all the permutations of the array are sorted in one container according to their lexicographical order, \n",
    "# then the next permutation of that array is the permutation that follows it in the sorted container. \n",
    "# If such arrangement is not possible, the array must be rearranged as the lowest possible order (i.e., sorted in ascending order).\n",
    "\n",
    "# For example, the next permutation of arr = [1,2,3] is [1,3,2].\n",
    "# Similarly, the next permutation of arr = [2,3,1] is [3,1,2].\n",
    "# While the next permutation of arr = [3,2,1] is [1,2,3] \n",
    "# because [3,2,1] does not have a lexicographical larger rearrangement.\n",
    "# Given an array of integers nums, find the next permutation of nums.\n",
    "\n",
    "# The replacement must be in place and use only constant extra memory."
   ]
  },
  {
   "cell_type": "code",
   "execution_count": 744,
   "metadata": {},
   "outputs": [],
   "source": [
    "nums = [1,2,3]\n",
    "def nextPermutation(self, nums):\n",
    "    i = j = len(nums)-1\n",
    "    while i > 0 and nums[i-1] >= nums[i]:\n",
    "        i -= 1\n",
    "    if i == 0:   # nums are in descending order\n",
    "        nums.reverse()\n",
    "        return \n",
    "    k = i - 1    # find the last \"ascending\" position\n",
    "    while nums[j] <= nums[k]:\n",
    "        j -= 1\n",
    "    nums[k], nums[j] = nums[j], nums[k]  \n",
    "    l, r = k+1, len(nums)-1  # reverse the second part\n",
    "    while l < r:\n",
    "        nums[l], nums[r] = nums[r], nums[l]\n",
    "        l +=1 ; r -= 1"
   ]
  },
  {
   "cell_type": "code",
   "execution_count": 781,
   "metadata": {},
   "outputs": [],
   "source": [
    "# 979. Distribute Coins in Binary Tree\n",
    "# You are given the root of a binary tree with n nodes where each node in the tree has node.val coins. \n",
    "# There are n coins in total throughout the whole tree.\n",
    "\n",
    "# In one move, we may choose two adjacent nodes and move one coin from one node to another. \n",
    "# A move may be from parent to child, or from child to parent.\n",
    "\n",
    "# Return the minimum number of moves required to make every node have exactly one coin."
   ]
  },
  {
   "cell_type": "code",
   "execution_count": 783,
   "metadata": {},
   "outputs": [],
   "source": [
    "class Solution(object):\n",
    "    def distributeCoins(self, root):\n",
    "        self.ans = 0\n",
    "\n",
    "        def dfs(node):\n",
    "            if not node: return 0\n",
    "            L, R = dfs(node.left), dfs(node.right)\n",
    "            self.ans += abs(L) + abs(R)\n",
    "            return node.val + L + R - 1\n",
    "\n",
    "        dfs(root)\n",
    "        return self.ans"
   ]
  },
  {
   "cell_type": "code",
   "execution_count": 784,
   "metadata": {},
   "outputs": [],
   "source": [
    "# 1209. Remove All Adjacent Duplicates in String II\n",
    "# You are given a string s and an integer k, a k duplicate removal consists of choosing k adjacent \n",
    "# and equal letters from s and removing them, causing the left \n",
    "# and the right side of the deleted substring to concatenate together.\n",
    "\n",
    "# We repeatedly make k duplicate removals on s until we no longer can.\n",
    "\n",
    "# Return the final string after all such duplicate removals have been made. \n",
    "# It is guaranteed that the answer is unique."
   ]
  },
  {
   "cell_type": "code",
   "execution_count": 820,
   "metadata": {},
   "outputs": [],
   "source": [
    "s = \"deeedbbcccbdaa\"\n",
    "k = 3\n",
    "# Output: \"aa\""
   ]
  },
  {
   "cell_type": "code",
   "execution_count": 822,
   "metadata": {},
   "outputs": [
    {
     "data": {
      "text/plain": [
       "'aa'"
      ]
     },
     "execution_count": 822,
     "metadata": {},
     "output_type": "execute_result"
    }
   ],
   "source": [
    "stack = []\n",
    "for c in s:\n",
    "    if not stack or stack[-1][0] != c:\n",
    "        stack.append([c, 1])\n",
    "    elif stack[-1][0] == c:\n",
    "        stack[-1][1] += 1\n",
    "        if stack[-1][1] == k:\n",
    "            stack.pop()\n",
    "res = ''\n",
    "for c, count in stack:\n",
    "    res += c*count\n",
    "res"
   ]
  },
  {
   "cell_type": "code",
   "execution_count": 823,
   "metadata": {},
   "outputs": [],
   "source": [
    "# 688. Knight Probability in Chessboard\n",
    "# On an n x n chessboard, a knight starts at the cell (row, column) and attempts to make exactly k moves. \n",
    "# The rows and columns are 0-indexed, so the top-left cell is (0, 0), and the bottom-right cell is (n - 1, n - 1).\n",
    "\n",
    "# A chess knight has eight possible moves it can make, as illustrated below. \n",
    "# Each move is two cells in a cardinal direction, then one cell in an orthogonal direction.\n",
    "\n",
    "# Each time the knight is to move, it chooses one of eight possible moves uniformly at random \n",
    "# (even if the piece would go off the chessboard) and moves there.\n",
    "\n",
    "# The knight continues moving until it has made exactly k moves or has moved off the chessboard.\n",
    "\n",
    "# Return the probability that the knight remains on the board after it has stopped moving."
   ]
  },
  {
   "cell_type": "code",
   "execution_count": 827,
   "metadata": {},
   "outputs": [
    {
     "data": {
      "text/plain": [
       "0.0625"
      ]
     },
     "execution_count": 827,
     "metadata": {},
     "output_type": "execute_result"
    }
   ],
   "source": [
    "n = 3\n",
    "k = 2\n",
    "row = 0\n",
    "column = 0\n",
    "\n",
    "log = {}\n",
    "directions = [(1, 2), (-1, 2), (1, -2), (-1, -2), (2, 1), (-2, 1), (2, -1), (-2, -1)]\n",
    "\n",
    "def dfs(r, c, k):\n",
    "    if k < 0:\n",
    "        return 1\n",
    "    if min(r, c) < 0 or r >= n or c >= n:\n",
    "        return 0\n",
    "    cum = 0\n",
    "    for dr, dc in directions:\n",
    "        row, col = r + dr, c + dc\n",
    "        if (row, col, k - 1) not in log:\n",
    "            log[(row, col, k - 1)] = dfs(row, col, k - 1) / 8\n",
    "        cum += log[(row, col, k - 1)]\n",
    "    return float(cum)\n",
    "dfs(row, column, k)"
   ]
  },
  {
   "cell_type": "code",
   "execution_count": 828,
   "metadata": {},
   "outputs": [],
   "source": [
    "# 1167. Minimum Cost to Connect Sticks\n",
    "# You have some number of sticks with positive integer lengths. \n",
    "# These lengths are given as an array sticks, where sticks[i] is the length of the ith stick.\n",
    "\n",
    "# You can connect any two sticks of lengths x and y into one stick by paying a cost of x + y. \n",
    "# You must connect all the sticks until there is only one stick remaining.\n",
    "\n",
    "# Return the minimum cost of connecting all the given sticks into one stick in this way."
   ]
  },
  {
   "cell_type": "code",
   "execution_count": 829,
   "metadata": {},
   "outputs": [],
   "source": [
    "sticks = [2,4,3]\n",
    "# Output: 14"
   ]
  },
  {
   "cell_type": "code",
   "execution_count": null,
   "metadata": {},
   "outputs": [],
   "source": []
  }
 ],
 "metadata": {
  "kernelspec": {
   "display_name": "Python 3",
   "language": "python",
   "name": "python3"
  },
  "language_info": {
   "codemirror_mode": {
    "name": "ipython",
    "version": 3
   },
   "file_extension": ".py",
   "mimetype": "text/x-python",
   "name": "python",
   "nbconvert_exporter": "python",
   "pygments_lexer": "ipython3",
   "version": "3.7.4"
  }
 },
 "nbformat": 4,
 "nbformat_minor": 4
}
