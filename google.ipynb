{
 "cells": [
  {
   "cell_type": "code",
   "execution_count": 1,
   "id": "931a1526-04f7-47a5-a5e0-532491875bf4",
   "metadata": {},
   "outputs": [],
   "source": [
    "# 407. Trapping Rain Water II\n",
    "# Given an m x n integer matrix heightMap representing the height of each unit cell in a 2D elevation map, \n",
    "# return the volume of water it can trap after raining.\n",
    "\n",
    "heightMap = [[1,4,3,1,3,2],[3,2,1,3,2,4],[2,3,3,2,3,1]]"
   ]
  },
  {
   "cell_type": "code",
   "execution_count": null,
   "id": "fef5942d-9f86-4351-b656-e0dc2111ec38",
   "metadata": {},
   "outputs": [],
   "source": []
  }
 ],
 "metadata": {
  "kernelspec": {
   "display_name": "Python 3 (ipykernel)",
   "language": "python",
   "name": "python3"
  },
  "language_info": {
   "codemirror_mode": {
    "name": "ipython",
    "version": 3
   },
   "file_extension": ".py",
   "mimetype": "text/x-python",
   "name": "python",
   "nbconvert_exporter": "python",
   "pygments_lexer": "ipython3",
   "version": "3.9.6"
  }
 },
 "nbformat": 4,
 "nbformat_minor": 5
}
