{
 "cells": [
  {
   "cell_type": "markdown",
   "metadata": {},
   "source": [
    "# Array and Hashing"
   ]
  },
  {
   "cell_type": "code",
   "execution_count": 4,
   "metadata": {},
   "outputs": [
    {
     "name": "stdout",
     "output_type": "stream",
     "text": [
      "True\n",
      "defaultdict(<class 'int'>, {'a': 1, 'b': 1, 'c': 1, 'd': 2}) defaultdict(<class 'int'>, {'b': 1, 'a': 1, 'c': 1, 'd': 2})\n"
     ]
    }
   ],
   "source": [
    "from collections import Counter, defaultdict\n",
    "s='abcdd'\n",
    "t='bacdd'\n",
    "S, T = defaultdict(int), defaultdict(int)\n",
    "print(Counter(s)== Counter(t))\n",
    "for i in range(len(s)):\n",
    "    S[s[i]] += 1\n",
    "    T[t[i]] += 1\n",
    "print(S,T)"
   ]
  },
  {
   "cell_type": "code",
   "execution_count": 267,
   "metadata": {},
   "outputs": [],
   "source": [
    "# 217. Cotain duplicate\n",
    "# Given an integer array nums, return true if any value appears at least twice in the array, and return false if every element is distinct.\n",
    "nums = [1,2,3,1]\n",
    "def solution(nums):\n",
    "    s = set()\n",
    "    for n in nums:\n",
    "        if n in s:\n",
    "            return True\n",
    "        s.add(n)\n",
    "    return False\n",
    "solution(nums)"
   ]
  },
  {
   "cell_type": "code",
   "execution_count": 273,
   "metadata": {},
   "outputs": [
    {
     "data": {
      "text/plain": [
       "True"
      ]
     },
     "execution_count": 273,
     "metadata": {},
     "output_type": "execute_result"
    }
   ],
   "source": [
    "# 242. Valid anagram\n",
    "# Given two strings s and t, return true if t is an anagram of s, and false otherwise.\n",
    "# An Anagram is a word or phrase formed by rearranging the letters of a different word or phrase, typically using all the original letters exactly once.\n",
    "s = \"anagram\"\n",
    "t = \"nagaram\"\n",
    "\n",
    "def solution(s, t):\n",
    "    if len(s) != len(t):\n",
    "        return False\n",
    "    count_s = [0] * 26\n",
    "    count_t = [0] * 26\n",
    "    for i in range(len(s)):\n",
    "        count_s[ord(s[i]) - ord('a')] += 1\n",
    "        count_t[ord(t[i]) - ord('a')] += 1\n",
    "    return count_s == count_t\n",
    "solution(s, t)"
   ]
  },
  {
   "cell_type": "code",
   "execution_count": 293,
   "metadata": {},
   "outputs": [],
   "source": [
    "# 1. Two Sum\n",
    "# Given an array of integers nums and an integer target, return indices of the two numbers such that they add up to target.\n",
    "# You may assume that each input would have exactly one solution, and you may not use the same element twice.\n",
    "# You can return the answer in any order.\n",
    "\n",
    "nums = [2,7,11,15]\n",
    "target = 9\n",
    "def solution(nums, target):\n",
    "    d = {}\n",
    "    for i, n in enumerate(nums):\n",
    "        diff = target - n\n",
    "        if diff in d:\n",
    "            return [d[diff], i]\n",
    "        d[n] = i"
   ]
  },
  {
   "cell_type": "code",
   "execution_count": 296,
   "metadata": {},
   "outputs": [
    {
     "data": {
      "text/plain": [
       "dict_values([['eat', 'tea', 'ate'], ['tan', 'nat'], ['bat']])"
      ]
     },
     "execution_count": 296,
     "metadata": {},
     "output_type": "execute_result"
    }
   ],
   "source": [
    "# 49. Group Anagrams\n",
    "# Given an array of strings strs, group the anagrams together. You can return the answer in any order.\n",
    "# An Anagram is a word or phrase formed by rearranging the letters of a different word or phrase, typically using all the original letters exactly once.\n",
    "\n",
    "strs = [\"eat\",\"tea\",\"tan\",\"ate\",\"nat\",\"bat\"]\n"
   ]
  },
  {
   "cell_type": "code",
   "execution_count": null,
   "metadata": {},
   "outputs": [],
   "source": [
    "import collections\n",
    "def solution(strs):\n",
    "    d = collections.defaultdict(list)\n",
    "    for s in strs:\n",
    "        count = [0] * 26\n",
    "        for c in s:\n",
    "            count[ord(c) - ord('a')] += 1\n",
    "        d[tuple(count)].append(s)\n",
    "    return d.values()\n",
    "solution(strs)"
   ]
  },
  {
   "cell_type": "code",
   "execution_count": 259,
   "metadata": {},
   "outputs": [],
   "source": [
    "# 347. Top K Frequent Elements\n",
    "# Given an integer array nums and an integer k, return the k most frequent elements. You may return the answer in any order.\n",
    "\n",
    "nums = [1,1,2,2,2,3]\n",
    "k = 2\n"
   ]
  },
  {
   "cell_type": "code",
   "execution_count": 262,
   "metadata": {},
   "outputs": [
    {
     "data": {
      "text/plain": [
       "[[], [3], [1], [2], [], []]"
      ]
     },
     "execution_count": 262,
     "metadata": {},
     "output_type": "execute_result"
    }
   ],
   "source": [
    "freq"
   ]
  },
  {
   "cell_type": "code",
   "execution_count": 264,
   "metadata": {},
   "outputs": [
    {
     "name": "stdout",
     "output_type": "stream",
     "text": [
      "[2, 1]\n"
     ]
    }
   ],
   "source": [
    "from collections import Counter\n",
    "count = Counter(nums)\n",
    "freq = [[] for _ in range(len(nums))]\n",
    "res = []\n",
    "for key, value in count.items():\n",
    "    freq[value].append(key)\n",
    "for i in range(len(freq) - 1, -1, -1):\n",
    "    for j in freq[i]:\n",
    "        res.append(j)\n",
    "        k -= 1\n",
    "        if k == 0:\n",
    "            print(res)"
   ]
  },
  {
   "cell_type": "code",
   "execution_count": null,
   "metadata": {
    "jupyter": {
     "source_hidden": true
    }
   },
   "outputs": [],
   "source": [
    "import collections\n",
    "def solution1(nums, k):\n",
    "    d = collections.defaultdict(int)\n",
    "    for n in nums:\n",
    "        d[n] += 1\n",
    "    freq = [[] for i in range(len(nums) + 1)]\n",
    "    for n, c in d.items():\n",
    "        freq[c].append(n)\n",
    "    res = []\n",
    "    for i in range(len(freq)-1, 0, -1):\n",
    "        for n in freq[i]:\n",
    "            res.append(n)\n",
    "            if len(res) == k:\n",
    "                return res\n",
    "import collections, heapq\n",
    "def solution2(nums, k):\n",
    "    d = collections.Counter(nums)\n",
    "    h = [(-val, key) for key, val in d.items()]\n",
    "    heapq.heapify(h)\n",
    "    res = []\n",
    "    for i in range(k):\n",
    "        res.append(heapq.heappop(h)[1])\n",
    "    return res"
   ]
  },
  {
   "cell_type": "code",
   "execution_count": 330,
   "metadata": {},
   "outputs": [
    {
     "data": {
      "text/plain": [
       "[24, 12, 8, 6]"
      ]
     },
     "execution_count": 330,
     "metadata": {},
     "output_type": "execute_result"
    }
   ],
   "source": [
    "# 238. Product of Array Except Self\n",
    "# Given an integer array nums, return an array answer such that answer[i] is equal to the product of all the elements of nums except nums[i].\n",
    "# The product of any prefix or suffix of nums is guaranteed to fit in a 32-bit integer.\n",
    "# You must write an algorithm that runs in O(n) time and without using the division operation.\n",
    "\n",
    "nums = [1,2,3,4]\n",
    "res = [1] * len(nums)\n",
    "temp = 1\n",
    "for i in range(len(nums)):\n",
    "    res[i] *= temp\n",
    "    temp *= nums[i]\n",
    "temp = 1\n",
    "for i in range(len(nums) - 1, -1, -1):\n",
    "    res[i] *= temp\n",
    "    temp *= nums[i]\n",
    "res"
   ]
  },
  {
   "cell_type": "code",
   "execution_count": 242,
   "metadata": {},
   "outputs": [],
   "source": [
    "# 36. Valid Sudoku\n",
    "# Determine if a 9 x 9 Sudoku board is valid. Only the filled cells need to be validated according to the following rules:\n",
    "\n",
    "# Each row must contain the digits 1-9 without repetition.\n",
    "# Each column must contain the digits 1-9 without repetition.\n",
    "# Each of the nine 3 x 3 sub-boxes of the grid must contain the digits 1-9 without repetition.\n",
    "# Note:\n",
    "\n",
    "# A Sudoku board (partially filled) could be valid but is not necessarily solvable.\n",
    "# Only the filled cells need to be validated according to the mentioned rules.\n",
    "\n",
    "board = [[\"5\",\"3\",\".\",\".\",\"7\",\".\",\".\",\".\",\".\"]\n",
    ",[\"6\",\".\",\".\",\"1\",\"9\",\"5\",\".\",\".\",\".\"]\n",
    ",[\".\",\"9\",\"8\",\".\",\".\",\".\",\".\",\"6\",\".\"]\n",
    ",[\"8\",\".\",\".\",\".\",\"6\",\".\",\".\",\".\",\"3\"]\n",
    ",[\"4\",\".\",\".\",\"8\",\".\",\"3\",\".\",\".\",\"1\"]\n",
    ",[\"7\",\".\",\".\",\".\",\"2\",\".\",\".\",\".\",\"6\"]\n",
    ",[\".\",\"6\",\".\",\".\",\".\",\".\",\"2\",\"8\",\".\"]\n",
    ",[\".\",\".\",\".\",\"4\",\"1\",\"9\",\".\",\".\",\"5\"]\n",
    ",[\".\",\".\",\".\",\".\",\"8\",\".\",\".\",\"7\",\"9\"]]"
   ]
  },
  {
   "cell_type": "code",
   "execution_count": 244,
   "metadata": {
    "jupyter": {
     "source_hidden": true
    }
   },
   "outputs": [
    {
     "data": {
      "text/plain": [
       "False"
      ]
     },
     "execution_count": 244,
     "metadata": {},
     "output_type": "execute_result"
    }
   ],
   "source": [
    "def isValidSudoku(board):\n",
    "    rows = len(board)\n",
    "    cols = len(board[0])\n",
    "    row_set = defaultdict(set)\n",
    "    col_set = defaultdict(set)\n",
    "    box_set = defaultdict(set)\n",
    "    for r in range(rows):\n",
    "        for c in range(cols):\n",
    "            n = board[r][c]\n",
    "            if n != '.':\n",
    "                if (n in row_set[r] or\n",
    "                    n in col_set[c] or\n",
    "                    n in box_set[(r//3, c//3)]):\n",
    "                    return False\n",
    "                else:\n",
    "                    row_set[r].add(n)\n",
    "                    col_set[c].add(n)\n",
    "                    box_set[(r//3, c//3)].add(n)\n",
    "            else:\n",
    "                continue\n",
    "    return True\n",
    "isValidSudoku(board)"
   ]
  },
  {
   "cell_type": "code",
   "execution_count": 334,
   "metadata": {},
   "outputs": [],
   "source": [
    "# Encode and Decode Strings\n",
    "# Design an algorithm to encode a list of strings to a string. The encoded string is then sent over the network and is decoded back to the original list of strings.\n",
    "\n",
    "strs = [\"lint\",\"code\",\"love\",\"you\"]\n",
    "def encode(strs):\n",
    "    out = ''\n",
    "    for s in strs:\n",
    "        out += str(len(s)) + '#' + s\n",
    "    return out\n",
    "\n",
    "def decode(s):\n",
    "    i = 0\n",
    "    res = []\n",
    "    while i < len(s):\n",
    "        for j in range(i, len(s)):\n",
    "            if s[j] == '#':\n",
    "                length = int(s[i:j])\n",
    "                word = s[j + 1 : j + 1 + length]\n",
    "                res.append(word)\n",
    "                i = j + 1 + length\n",
    "                break\n",
    "    return res"
   ]
  },
  {
   "cell_type": "code",
   "execution_count": 340,
   "metadata": {},
   "outputs": [],
   "source": [
    "# 128. Longest Consecutive Sequence\n",
    "# Given an unsorted array of integers nums, return the length of the longest consecutive elements sequence.\n",
    "# You must write an algorithm that runs in O(n) time.\n",
    "\n",
    "nums = [100,4,200,1,3,2]\n",
    "num_set = set(nums)\n",
    "longest = 0\n",
    "for n in nums:\n",
    "    if (n - 1) not in num_set:\n",
    "        length = 1\n",
    "        while (n + length) in num_set:\n",
    "            length += 1\n",
    "        longest = max(length, longest)"
   ]
  },
  {
   "cell_type": "markdown",
   "metadata": {},
   "source": [
    "# Two pointers"
   ]
  },
  {
   "cell_type": "code",
   "execution_count": 349,
   "metadata": {},
   "outputs": [],
   "source": [
    "# 125. Valid Palindrome\n",
    "# A phrase is a palindrome if, after converting all uppercase letters into lowercase letters and removing all non-alphanumeric characters, it reads the same forward and backward. Alphanumeric characters include letters and numbers.\n",
    "\n",
    "s = \"A man, a plan, a canal: Panama\""
   ]
  },
  {
   "cell_type": "code",
   "execution_count": null,
   "metadata": {},
   "outputs": [],
   "source": [
    "def alphanum(c):\n",
    "    return (ord('a') <= ord(c) <= ord('z') or\n",
    "            ord('A') <= ord(c) <= ord('Z') or\n",
    "            ord('0') <= ord(c) <= ord('9'))\n",
    "l, r = 0, len(s) - 1\n",
    "while l < r:\n",
    "    while l < r and not alphanum(s[l]):\n",
    "        l += 1\n",
    "    while l < r and not alphanum(s[r]):\n",
    "        r -= 1\n",
    "    if s[l].lower() != s[r].lower():\n",
    "        return False\n",
    "    l += 1\n",
    "    r -= 1"
   ]
  },
  {
   "cell_type": "code",
   "execution_count": null,
   "metadata": {
    "jupyter": {
     "source_hidden": true
    }
   },
   "outputs": [],
   "source": [
    "def is_alphanum(c):\n",
    "    return (ord('a') <= ord(c) <= ord('z') or\n",
    "            ord('A') <= ord(c) <= ord('Z') or\n",
    "            ord('0') <= ord(c) <= ord('9'))\n",
    "def solution(s):\n",
    "    l, r = 0, len(s) - 1\n",
    "    while l < r:\n",
    "        while l < r and not is_alphanum(s[l]):\n",
    "            l += 1\n",
    "        while l < r and not is_alphanum(s[r]):\n",
    "            r -= 1\n",
    "        if s[l].lower() != s[r].lower():\n",
    "            return False\n",
    "        l += 1\n",
    "        r -= 1\n",
    "    return True"
   ]
  },
  {
   "cell_type": "code",
   "execution_count": 251,
   "metadata": {},
   "outputs": [],
   "source": [
    "# 167. Two Sum II - Input Array Is Sorted\n",
    "# Given a 1-indexed array of integers numbers that is already sorted in non-decreasing order, find two numbers such that they add up to a specific target number. Let these two numbers be numbers[index1] and numbers[index2] where 1 <= index1 < index2 <= numbers.length.\n",
    "\n",
    "# Return the indices of the two numbers, index1 and index2, added by one as an integer array [index1, index2] of length 2.\n",
    "\n",
    "# The tests are generated such that there is exactly one solution. You may not use the same element twice.\n",
    "\n",
    "# Your solution must use only constant extra space.\n",
    "\n",
    "numbers = [2,7,11,15]\n",
    "target = 9"
   ]
  },
  {
   "cell_type": "code",
   "execution_count": null,
   "metadata": {
    "jupyter": {
     "source_hidden": true
    }
   },
   "outputs": [],
   "source": [
    "l, r = 0, len(numbers) - 1\n",
    "while l < r:\n",
    "    curSum = numbers[l] + numbers[r]\n",
    "    if curSum > target:\n",
    "        r -= 1\n",
    "    elif curSum < target:\n",
    "        l += 1\n",
    "    else:\n",
    "        return [l + 1, r + 1]"
   ]
  },
  {
   "cell_type": "code",
   "execution_count": 536,
   "metadata": {},
   "outputs": [],
   "source": [
    "# 15. 3Sum\n",
    "# Given an integer array nums, return all the triplets [nums[i], nums[j], nums[k]] such that i != j, i != k, and j != k, and nums[i] + nums[j] + nums[k] == 0.\n",
    "# Notice that the solution set must not contain duplicate triplets.\n",
    "\n",
    "nums = [-1,0,1,2,-1,-4]\n",
    "nums = [-4, -1, -1, 0, 1, 2]\n"
   ]
  },
  {
   "cell_type": "code",
   "execution_count": 552,
   "metadata": {
    "jupyter": {
     "source_hidden": true
    }
   },
   "outputs": [
    {
     "data": {
      "text/plain": [
       "[[-2, 1, 1]]"
      ]
     },
     "execution_count": 552,
     "metadata": {},
     "output_type": "execute_result"
    }
   ],
   "source": [
    "nums.sort()\n",
    "res = []\n",
    "for i in range(len(nums)):\n",
    "    if i > 0 and nums[i] == nums[i - 1]:\n",
    "        continue\n",
    "    l, r = i + 1, len(nums) - 1\n",
    "    while l < r:\n",
    "        three_sum = nums[i] + nums[l] + nums[r]\n",
    "        if  three_sum == 0:\n",
    "            res.append([nums[i], nums[l], nums[r]])\n",
    "            l += 1\n",
    "            r -= 1\n",
    "            while l < r and nums[l] == nums[l - 1]:\n",
    "                l += 1\n",
    "        elif three_sum > 0:\n",
    "            r -= 1\n",
    "        else:\n",
    "            l += 1\n",
    "res"
   ]
  },
  {
   "cell_type": "code",
   "execution_count": null,
   "metadata": {},
   "outputs": [],
   "source": [
    "# 11. Container With Most Water\n",
    "# You are given an integer array height of length n. There are n vertical lines drawn such that the two endpoints of the ith line are (i, 0) and (i, height[i]).\n",
    "# Find two lines that together with the x-axis form a container, such that the container contains the most water.\n",
    "# Return the maximum amount of water a container can store.\n",
    "# Notice that you may not slant the container.\n",
    "\n",
    "height = [1,8,6,2,5,4,8,3,7]\n",
    "l, r = 0, len(height) - 1\n",
    "res = 0\n",
    "\n",
    "while l < r:\n",
    "    res = max(res, (r - l) * min(height(l), height(r)))\n",
    "    if height(l) <= height(r):\n",
    "        l += 1\n",
    "    else:\n",
    "        r -= 1"
   ]
  },
  {
   "cell_type": "markdown",
   "metadata": {},
   "source": [
    "# Sliding window"
   ]
  },
  {
   "cell_type": "code",
   "execution_count": 357,
   "metadata": {},
   "outputs": [],
   "source": [
    "# 121. Best Time to Buy and Sell Stock\n",
    "# You are given an array prices where prices[i] is the price of a given stock on the ith day.\n",
    "# You want to maximize your profit by choosing a single day to buy one stock and choosing a different day in the future to sell that stock.\n",
    "# Return the maximum profit you can achieve from this transaction. If you cannot achieve any profit, return 0.\n",
    "\n",
    "prices = [7,1,5,3,6,4]\n"
   ]
  },
  {
   "cell_type": "code",
   "execution_count": null,
   "metadata": {
    "jupyter": {
     "source_hidden": true
    }
   },
   "outputs": [],
   "source": [
    "res = 0\n",
    "l = 0\n",
    "for r in range(1, len(prices)):\n",
    "    if prices[r] < prices[l]:\n",
    "        l = r\n",
    "    res = max(res, prices[r] - prices[l])\n"
   ]
  },
  {
   "cell_type": "code",
   "execution_count": 216,
   "metadata": {},
   "outputs": [],
   "source": [
    "# 3. Longest Substring Without Repeating Characters\n",
    "# Given a string s, find the length of the longest substring without repeating characters.\n",
    "\n",
    "# s = \"abcabcbb\"\n",
    "s = \"pwwkew\"\n"
   ]
  },
  {
   "cell_type": "code",
   "execution_count": null,
   "metadata": {
    "jupyter": {
     "source_hidden": true
    }
   },
   "outputs": [],
   "source": [
    "d = defaultdict(int)\n",
    "l, r = 0, 0\n",
    "res = 0\n",
    "while r < len(s):\n",
    "    while d[s[r]] > 0:\n",
    "        d[s[l]] -= 1\n",
    "        l += 1\n",
    "    d[s[r]] += 1\n",
    "    res = max(res, r - l + 1)\n",
    "    r += 1"
   ]
  },
  {
   "cell_type": "code",
   "execution_count": null,
   "metadata": {
    "jupyter": {
     "source_hidden": true
    }
   },
   "outputs": [],
   "source": [
    "strset = set()\n",
    "l = 0\n",
    "res = 0\n",
    "\n",
    "for r in range(len(s)):\n",
    "    while s[r] in strset:\n",
    "        strset.remove(s[l])\n",
    "        l += 1\n",
    "    strset.add(s[r])\n",
    "    res = max(res, r - l + 1)"
   ]
  },
  {
   "cell_type": "code",
   "execution_count": 218,
   "metadata": {},
   "outputs": [],
   "source": [
    "# 424. Longest Repeating Character Replacement\n",
    "# You are given a string s and an integer k. You can choose any character of the string and change it to any other uppercase English character. You can perform this operation at most k times.\n",
    "# Return the length of the longest substring containing the same letter you can get after performing the above operations.\n",
    "\n",
    "s = \"ABAB\"\n",
    "s = 'AABCD'\n",
    "k = 2\n"
   ]
  },
  {
   "cell_type": "code",
   "execution_count": null,
   "metadata": {
    "jupyter": {
     "source_hidden": true
    }
   },
   "outputs": [],
   "source": [
    "count = defaultdict(int)\n",
    "res = 0\n",
    "l = 0\n",
    "maxf = 0\n",
    "for r in range(len(s)):\n",
    "    count[s[r]] += 1\n",
    "    maxf = max(maxf, count[s[r]])\n",
    "    if (r - l + 1) - maxf > k:\n",
    "        count[s[l]] -= 1\n",
    "        l += 1\n",
    "    res = max(res, r - l + 1)\n",
    "    "
   ]
  },
  {
   "cell_type": "code",
   "execution_count": 252,
   "metadata": {},
   "outputs": [],
   "source": [
    "# 567. Permutation in String\n",
    "# Given two strings s1 and s2, return true if s2 contains a permutation of s1, or false otherwise.\n",
    "\n",
    "# In other words, return true if one of s1's permutations is the substring of s2.\n",
    "\n",
    "s1 = \"ab\"\n",
    "s2 = \"eidbaooo\""
   ]
  },
  {
   "cell_type": "code",
   "execution_count": 253,
   "metadata": {
    "jupyter": {
     "source_hidden": true
    }
   },
   "outputs": [],
   "source": [
    "class Solution:\n",
    "    def checkInclusion(self, s1: str, s2: str) -> bool:\n",
    "        if len(s1)> len(s2):\n",
    "            return False\n",
    "        count1 = [0] * 26\n",
    "        count2 = [0] * 26\n",
    "        for i in range(len(s1)):\n",
    "            count1[ord(s1[i]) - ord('a')] += 1\n",
    "            count2[ord(s2[i]) - ord('a')] += 1\n",
    "        for i in range(len(s1), len(s2)):\n",
    "            if count1 == count2:\n",
    "                return True\n",
    "            count2[ord(s2[i]) - ord('a')] += 1\n",
    "            count2[ord(s2[i-len(s1)]) - ord('a')] -= 1\n",
    "        return count1 == count2"
   ]
  },
  {
   "cell_type": "markdown",
   "metadata": {},
   "source": [
    "# stack"
   ]
  },
  {
   "cell_type": "code",
   "execution_count": 254,
   "metadata": {},
   "outputs": [],
   "source": [
    "# 20. Valid Parentheses\n",
    "# Given a string s containing just the characters '(', ')', '{', '}', '[' and ']', determine if the input string is valid.\n",
    "\n",
    "# An input string is valid if:\n",
    "\n",
    "# Open brackets must be closed by the same type of brackets.\n",
    "# Open brackets must be closed in the correct order.\n",
    "\n",
    "s = \"(]\"\n",
    "s = '([])' # True\n",
    "s = ']'\n",
    "s = '['"
   ]
  },
  {
   "cell_type": "code",
   "execution_count": null,
   "metadata": {
    "jupyter": {
     "source_hidden": true
    }
   },
   "outputs": [],
   "source": [
    "def solution(s):\n",
    "    d = {')':'(', '}':'{',']':'['}\n",
    "    stack = []\n",
    "    for c in s:\n",
    "        if c not in d:\n",
    "            stack.append(c)\n",
    "            continue\n",
    "        if not stack or stack[-1] == d[c]:\n",
    "            return False\n",
    "        stack.pop()\n",
    "    return not stack"
   ]
  },
  {
   "cell_type": "code",
   "execution_count": null,
   "metadata": {},
   "outputs": [],
   "source": [
    "# 155. Min Stack\n",
    "# Design a stack that supports push, pop, top, and retrieving the minimum element in constant time.\n",
    "\n",
    "# Implement the MinStack class:\n",
    "\n",
    "# MinStack() initializes the stack object.\n",
    "# void push(int val) pushes the element val onto the stack.\n",
    "# void pop() removes the element on the top of the stack.\n",
    "# int top() gets the top element of the stack.\n",
    "# int getMin() retrieves the minimum element in the stack.\n",
    "# You must implement a solution with O(1) time complexity for each function."
   ]
  },
  {
   "cell_type": "code",
   "execution_count": null,
   "metadata": {
    "jupyter": {
     "source_hidden": true
    }
   },
   "outputs": [],
   "source": [
    "class MinStack:\n",
    "    def __init__(self):\n",
    "        self.stack = []\n",
    "    def push(self, x) -> None:\n",
    "        if not self.stack:\n",
    "            self.stack.append((x, x))\n",
    "            return\n",
    "        current_min = stack.stack[-1][1]\n",
    "        self.stack.append((x, min(x, current_min)))\n",
    "    def pop(self) -> None:\n",
    "        self.stack.pop()\n",
    "    def top(self) -> int:\n",
    "        return self.stack[-1][0]\n",
    "    def getMin(self):\n",
    "        return self.stack[-1][1]"
   ]
  },
  {
   "cell_type": "code",
   "execution_count": 255,
   "metadata": {},
   "outputs": [],
   "source": [
    "# 150. Evaluate Reverse Polish Notation\n",
    "# Evaluate the value of an arithmetic expression in Reverse Polish Notation.\n",
    "\n",
    "# Valid operators are +, -, *, and /. Each operand may be an integer or another expression.\n",
    "\n",
    "# Note that division between two integers should truncate toward zero.\n",
    "\n",
    "# It is guaranteed that the given RPN expression is always valid. That means the expression would always evaluate to a result, and there will not be any division by zero operation.\n",
    "tokens = [\"2\",\"1\",\"+\",\"3\",\"*\"]"
   ]
  },
  {
   "cell_type": "code",
   "execution_count": 256,
   "metadata": {
    "collapsed": true,
    "jupyter": {
     "outputs_hidden": true,
     "source_hidden": true
    }
   },
   "outputs": [
    {
     "ename": "NameError",
     "evalue": "name 'List' is not defined",
     "output_type": "error",
     "traceback": [
      "\u001b[0;31m---------------------------------------------------------------------------\u001b[0m",
      "\u001b[0;31mNameError\u001b[0m                                 Traceback (most recent call last)",
      "\u001b[0;32m<ipython-input-256-babbf41a9b52>\u001b[0m in \u001b[0;36m<module>\u001b[0;34m\u001b[0m\n\u001b[0;32m----> 1\u001b[0;31m \u001b[0;32mdef\u001b[0m \u001b[0mevalRPN\u001b[0m\u001b[0;34m(\u001b[0m\u001b[0mself\u001b[0m\u001b[0;34m,\u001b[0m \u001b[0mtoken\u001b[0m\u001b[0;34m:\u001b[0m \u001b[0mList\u001b[0m\u001b[0;34m[\u001b[0m\u001b[0mstr\u001b[0m\u001b[0;34m]\u001b[0m\u001b[0;34m)\u001b[0m \u001b[0;34m->\u001b[0m \u001b[0mint\u001b[0m\u001b[0;34m:\u001b[0m\u001b[0;34m\u001b[0m\u001b[0;34m\u001b[0m\u001b[0m\n\u001b[0m\u001b[1;32m      2\u001b[0m     operations = {\n\u001b[1;32m      3\u001b[0m         \u001b[0;34m'+'\u001b[0m\u001b[0;34m:\u001b[0m \u001b[0;32mlambda\u001b[0m \u001b[0ma\u001b[0m\u001b[0;34m,\u001b[0m \u001b[0mb\u001b[0m\u001b[0;34m:\u001b[0m \u001b[0ma\u001b[0m \u001b[0;34m+\u001b[0m \u001b[0mb\u001b[0m\u001b[0;34m,\u001b[0m\u001b[0;34m\u001b[0m\u001b[0;34m\u001b[0m\u001b[0m\n\u001b[1;32m      4\u001b[0m         \u001b[0;34m'-'\u001b[0m\u001b[0;34m:\u001b[0m \u001b[0;32mlambda\u001b[0m \u001b[0ma\u001b[0m\u001b[0;34m,\u001b[0m \u001b[0mb\u001b[0m\u001b[0;34m:\u001b[0m \u001b[0ma\u001b[0m \u001b[0;34m-\u001b[0m \u001b[0mb\u001b[0m\u001b[0;34m,\u001b[0m\u001b[0;34m\u001b[0m\u001b[0;34m\u001b[0m\u001b[0m\n\u001b[1;32m      5\u001b[0m         \u001b[0;34m'*'\u001b[0m\u001b[0;34m:\u001b[0m \u001b[0;32mlambda\u001b[0m \u001b[0ma\u001b[0m\u001b[0;34m,\u001b[0m \u001b[0mb\u001b[0m\u001b[0;34m:\u001b[0m \u001b[0ma\u001b[0m \u001b[0;34m*\u001b[0m \u001b[0mb\u001b[0m\u001b[0;34m,\u001b[0m\u001b[0;34m\u001b[0m\u001b[0;34m\u001b[0m\u001b[0m\n",
      "\u001b[0;31mNameError\u001b[0m: name 'List' is not defined"
     ]
    }
   ],
   "source": [
    "def evalRPN(self, token: List[str]) -> int:\n",
    "    operations = {\n",
    "        '+': lambda a, b: a + b,\n",
    "        '-': lambda a, b: a - b,\n",
    "        '*': lambda a, b: a * b,\n",
    "        '/': lambda a, b: int(a/b)\n",
    "    }\n",
    "    stack = []\n",
    "    for t in tokens:\n",
    "        if t in operations:\n",
    "            n2 = stack.pop()\n",
    "            n1 = stack.pop()\n",
    "            op = operations[t]\n",
    "            stack.append(op(n1, n2))\n",
    "        else:\n",
    "            stack.append(int(t))\n",
    "    return stack.pop()"
   ]
  },
  {
   "cell_type": "code",
   "execution_count": 559,
   "metadata": {},
   "outputs": [],
   "source": [
    "# 22. Generate Parenthese\n",
    "# Given n pairs of parentheses, write a function to generate all combinations of well-formed parentheses.\n",
    "n = 3"
   ]
  },
  {
   "cell_type": "code",
   "execution_count": 258,
   "metadata": {
    "collapsed": true,
    "jupyter": {
     "outputs_hidden": true,
     "source_hidden": true
    }
   },
   "outputs": [
    {
     "data": {
      "text/plain": [
       "['((()))', '(()())', '(())()', '()(())', '()()()']"
      ]
     },
     "execution_count": 258,
     "metadata": {},
     "output_type": "execute_result"
    }
   ],
   "source": [
    "ans = []\n",
    "def backtrack(S = [], left = 0, right = 0):\n",
    "    if len(S) == 2 * n:\n",
    "        ans.append(''.join(S))\n",
    "        return\n",
    "    if left < n:\n",
    "        S.append('(')\n",
    "        backtrack(S, left + 1, right)\n",
    "        S.pop()\n",
    "    if right < left:\n",
    "        S.append(')')\n",
    "        backtrack(S, left, right + 1)\n",
    "        S.pop()\n",
    "backtrack()\n",
    "ans"
   ]
  },
  {
   "cell_type": "code",
   "execution_count": 562,
   "metadata": {},
   "outputs": [],
   "source": [
    "# 739. Daily Temperatures\n",
    "# Given an array of integers temperatures represents the daily temperatures, \n",
    "# return an array answer such that answer[i] is the number of days you have to wait after the ith day to get a warmer temperature. \n",
    "# If there is no future day for which this is possible, keep answer[i] == 0 instead.\n",
    "\n",
    "temperatures = [73,74,75,71,69,72,76,73]"
   ]
  },
  {
   "cell_type": "code",
   "execution_count": 565,
   "metadata": {
    "jupyter": {
     "source_hidden": true
    }
   },
   "outputs": [
    {
     "data": {
      "text/plain": [
       "[1, 1, 4, 2, 1, 1, 0, 0]"
      ]
     },
     "execution_count": 565,
     "metadata": {},
     "output_type": "execute_result"
    }
   ],
   "source": [
    "ans = [0] * len(temperatures)\n",
    "stack = []\n",
    "for d, t in enumerate(temperatures):\n",
    "    while stack and temperatures[stack[-1]] < t:\n",
    "        prev = stack.pop()\n",
    "        ans[prev] = d - prev\n",
    "    stack.append(d)\n",
    "ans"
   ]
  },
  {
   "cell_type": "code",
   "execution_count": 275,
   "metadata": {},
   "outputs": [],
   "source": [
    "# 853. Car Fleet\n",
    "# There are n cars going to the same destination along a one-lane road. The destination is target miles away.\n",
    "# You are given two integer array position and speed, both of length n, where position[i] is the position of the ith car and speed[i] is the speed of the ith car (in miles per hour).\n",
    "# A car can never pass another car ahead of it, but it can catch up to it and drive bumper to bumper at the same speed. \n",
    "# The faster car will slow down to match the slower car's speed. The distance between these two cars is ignored (i.e., they are assumed to have the same position).\n",
    "# A car fleet is some non-empty set of cars driving at the same position and same speed. Note that a single car is also a car fleet.\n",
    "# If a car catches up to a car fleet right at the destination point, it will still be considered as one car fleet.\n",
    "# Return the number of car fleets that will arrive at the destination."
   ]
  },
  {
   "cell_type": "code",
   "execution_count": 569,
   "metadata": {},
   "outputs": [],
   "source": [
    "target = 12\n",
    "position = [10,8,0,5,3]\n",
    "speed = [2,4,1,1,3]"
   ]
  },
  {
   "cell_type": "code",
   "execution_count": 570,
   "metadata": {
    "jupyter": {
     "source_hidden": true
    }
   },
   "outputs": [
    {
     "data": {
      "text/plain": [
       "[1.0, 7.0, 12.0]"
      ]
     },
     "execution_count": 570,
     "metadata": {},
     "output_type": "execute_result"
    }
   ],
   "source": [
    "pair = [(p, s) for p, s in zip(position, speed)]\n",
    "pair.sort(reverse = True)\n",
    "for p, s in pair:\n",
    "    stack.append((target - p) / s)\n",
    "    if len(stack) >=2 and stack[-1] <= stack[-2]:\n",
    "        stack.pop()\n",
    "len(stack)\n",
    "stack"
   ]
  },
  {
   "cell_type": "markdown",
   "metadata": {},
   "source": [
    "# binary search"
   ]
  },
  {
   "cell_type": "code",
   "execution_count": 288,
   "metadata": {},
   "outputs": [],
   "source": [
    "# 704. Binary Search\n",
    "# Given an array of integers nums which is sorted in ascending order, and an integer target, write a function to search target in nums. \n",
    "# If target exists, then return its index. Otherwise, return -1.\n",
    "# You must write an algorithm with O(log n) runtime complexity.\n",
    "\n",
    "nums = [-1,0,3,5,9,12]\n",
    "target = 9\n"
   ]
  },
  {
   "cell_type": "code",
   "execution_count": 290,
   "metadata": {
    "jupyter": {
     "source_hidden": true
    }
   },
   "outputs": [
    {
     "data": {
      "text/plain": [
       "4"
      ]
     },
     "execution_count": 290,
     "metadata": {},
     "output_type": "execute_result"
    }
   ],
   "source": [
    "\n",
    "def binarySearch(nums, target):\n",
    "    if len(nums) == 1:\n",
    "        if nums[0]==target:\n",
    "            return 0\n",
    "        else:\n",
    "            return -1\n",
    "    \n",
    "    l, r = 0, len(nums) - 1\n",
    "    while l <= r:\n",
    "        m = (l + r) // 2\n",
    "        if nums[m] == target:\n",
    "            return m\n",
    "        if nums[l] <= target < nums[m]:\n",
    "            r = m - 1\n",
    "        else:\n",
    "            l = m + 1\n",
    "    return -1\n",
    "binarySearch(nums, target)"
   ]
  },
  {
   "cell_type": "code",
   "execution_count": 272,
   "metadata": {},
   "outputs": [],
   "source": [
    "# 74. Search a 2D Matrix\n",
    "# Write an efficient algorithm that searches for a value target in an m x n integer matrix matrix. This matrix has the following properties:\n",
    "\n",
    "# Integers in each row are sorted from left to right.\n",
    "# The first integer of each row is greater than the last integer of the previous row.\n",
    "matrix = [[1,3,5,7],[10,11,16,20],[23,30,34,60]]\n",
    "target = 3"
   ]
  },
  {
   "cell_type": "code",
   "execution_count": null,
   "metadata": {
    "jupyter": {
     "source_hidden": true
    }
   },
   "outputs": [],
   "source": [
    "class Solution:\n",
    "    def searchMatrix(self, matrix: List[List[int]], target: int) -> bool:\n",
    "        ROWS, COLS = len(matrix), len(matrix[0])\n",
    "\n",
    "        top, bot = 0, ROWS - 1\n",
    "        while top <= bot:\n",
    "            row = (top + bot) // 2\n",
    "            if target > matrix[row][-1]:\n",
    "                top = row + 1\n",
    "            elif target < matrix[row][0]:\n",
    "                bot = row - 1\n",
    "            else:\n",
    "                break\n",
    "\n",
    "        if not (top <= bot):\n",
    "            return False\n",
    "        row = (top + bot) // 2\n",
    "        l, r = 0, COLS - 1\n",
    "        while l <= r:\n",
    "            m = (l + r) // 2\n",
    "            if target > matrix[row][m]:\n",
    "                l = m + 1\n",
    "            elif target < matrix[row][m]:\n",
    "                r = m - 1\n",
    "            else:\n",
    "                return True\n",
    "        return False"
   ]
  },
  {
   "cell_type": "code",
   "execution_count": 574,
   "metadata": {},
   "outputs": [],
   "source": [
    "# 875. Koko Eating Bananas\n",
    "# Koko loves to eat bananas. There are n piles of bananas, the ith pile has piles[i] bananas. The guards have gone and will come back in h hours.\n",
    "\n",
    "# Koko can decide her bananas-per-hour eating speed of k. Each hour, she chooses some pile of bananas and eats k bananas from that pile. \n",
    "# If the pile has less than k bananas, she eats all of them instead and will not eat any more bananas during this hour.\n",
    "\n",
    "# Koko likes to eat slowly but still wants to finish eating all the bananas before the guards return.\n",
    "\n",
    "# Return the minimum integer k such that she can eat all the bananas within h hours.\n",
    "piles = [3,6,7,11]\n",
    "h = 8\n",
    "# piles = [30,11,23,4,20]\n",
    "# h = 5"
   ]
  },
  {
   "cell_type": "code",
   "execution_count": null,
   "metadata": {
    "jupyter": {
     "source_hidden": true
    }
   },
   "outputs": [],
   "source": [
    "def minEatingSpeed(piles, h):\n",
    "    l, r = 1, max(piles)\n",
    "    k = 0\n",
    "    while l <= r:\n",
    "        m = (l + r) // 2\n",
    "        totalTime = 0\n",
    "        for p in piles:\n",
    "            totalTime += ((p - 1) // m) + 1\n",
    "        if totalTime <= h:\n",
    "            k = m\n",
    "            r = m - 1\n",
    "        else:\n",
    "            l = m + 1\n",
    "    return k"
   ]
  },
  {
   "cell_type": "code",
   "execution_count": 231,
   "metadata": {},
   "outputs": [],
   "source": [
    "# 33. Search in Rotated Sorted Array\n",
    "# There is an integer array nums sorted in ascending order (with distinct values).\n",
    "\n",
    "# Prior to being passed to your function, nums is possibly rotated at an unknown pivot index k (1 <= k < nums.length) such that the resulting array is [nums[k], nums[k+1], ..., nums[n-1], nums[0], nums[1], ..., nums[k-1]] (0-indexed). For example, [0,1,2,4,5,6,7] might be rotated at pivot index 3 and become [4,5,6,7,0,1,2].\n",
    "\n",
    "# Given the array nums after the possible rotation and an integer target, return the index of target if it is in nums, or -1 if it is not in nums.\n",
    "\n",
    "# You must write an algorithm with O(log n) runtime complexity.\n",
    "\n",
    "nums = [4,5,6,7,0,1,2]\n",
    "target = 0"
   ]
  },
  {
   "cell_type": "code",
   "execution_count": 232,
   "metadata": {
    "jupyter": {
     "source_hidden": true
    }
   },
   "outputs": [],
   "source": [
    "\n",
    "def solution(nums, target):\n",
    "    l = 0\n",
    "    r = len(nums) - 1\n",
    "    while l <= r:\n",
    "        m = (l + r) // 2\n",
    "        if nums[m] == target:\n",
    "            return m\n",
    "        if nums[l] <= nums[m]:\n",
    "            if nums[l] <= target <= nums[m]:\n",
    "                r = m - 1\n",
    "            else:\n",
    "                l = m + 1\n",
    "        else:\n",
    "            if nums[m] <= target <= nums[r]:\n",
    "                l = m + 1\n",
    "            else:\n",
    "                r = m - 1\n",
    "    return -1"
   ]
  },
  {
   "cell_type": "code",
   "execution_count": null,
   "metadata": {},
   "outputs": [],
   "source": [
    "# 153. Find Minimum in Rotated Sorted Array\n",
    "# Suppose an array of length n sorted in ascending order is rotated between 1 and n times. For example, the array nums = [0,1,2,4,5,6,7] might become:\n",
    "\n",
    "# [4,5,6,7,0,1,2] if it was rotated 4 times.\n",
    "# [0,1,2,4,5,6,7] if it was rotated 7 times.\n",
    "# Notice that rotating an array [a[0], a[1], a[2], ..., a[n-1]] 1 time results in the array [a[n-1], a[0], a[1], a[2], ..., a[n-2]].\n",
    "\n",
    "# Given the sorted rotated array nums of unique elements, return the minimum element of this array.\n",
    "\n",
    "# You must write an algorithm that runs in O(log n) time.\n",
    "\n",
    "nums = [4,5,6,7,0,1,2]\n"
   ]
  },
  {
   "cell_type": "code",
   "execution_count": 235,
   "metadata": {
    "jupyter": {
     "source_hidden": true
    }
   },
   "outputs": [
    {
     "data": {
      "text/plain": [
       "0"
      ]
     },
     "execution_count": 235,
     "metadata": {},
     "output_type": "execute_result"
    }
   ],
   "source": [
    "def solution(nums):\n",
    "    l, r = 0, len(nums) - 1\n",
    "    res = nums[0]\n",
    "    while l <= r:\n",
    "        m = (l + r) // 2\n",
    "        if nums[l] <= nums[r]:\n",
    "            res = min(res, nums[l])\n",
    "            break\n",
    "        res = min(res, nums[m])\n",
    "        if nums[l] <= nums[m]:\n",
    "            l = m + 1\n",
    "        else:\n",
    "            r = m - 1\n",
    "    return res\n",
    "solution(nums)"
   ]
  },
  {
   "cell_type": "code",
   "execution_count": 294,
   "metadata": {},
   "outputs": [],
   "source": [
    "# 981. Time Based Key-Value Store\n",
    "# Design a time-based key-value data structure that can store multiple values \n",
    "# for the same key at different time stamps and retrieve the key's value at a certain timestamp.\n",
    "\n",
    "# Implement the TimeMap class:\n",
    "\n",
    "# TimeMap() Initializes the object of the data structure.\n",
    "# void set(String key, String value, int timestamp) Stores the key key with the value value at the given time timestamp.\n",
    "# String get(String key, int timestamp) Returns a value such that set was called previously, with timestamp_prev <= timestamp. \n",
    "# If there are multiple such values, it returns the value associated with the largest timestamp_prev. If there are no values, it returns \"\".\n",
    "\n"
   ]
  },
  {
   "cell_type": "code",
   "execution_count": null,
   "metadata": {
    "jupyter": {
     "source_hidden": true
    }
   },
   "outputs": [],
   "source": [
    "import collections.defacultdict\n",
    "class TimeMap:\n",
    "    def __init__(self):\n",
    "        self.keyStore = defaultdict(list) # key : list of [val, timestamp]\n",
    "    def set(self, key:str, value:str, timestamp:int) -> None:\n",
    "        self.keyStore[key].append([value, timestamp])\n",
    "        \n",
    "    def get(self, key:str, timestamp:int) -> str:\n",
    "        res, values = '', self.keyStore[key]\n",
    "        l, r = 0, len(values) - 1\n",
    "        while l <= r:\n",
    "            m = (l + r) // 2\n",
    "            if values[m][1] <= timestamp:\n",
    "                res = values[m][0]\n",
    "                l = m + 1\n",
    "            else:\n",
    "                r = m - 1\n",
    "        return res"
   ]
  },
  {
   "cell_type": "markdown",
   "metadata": {},
   "source": [
    "# linked list"
   ]
  },
  {
   "cell_type": "code",
   "execution_count": null,
   "metadata": {},
   "outputs": [],
   "source": [
    "# 206. Reverse Linked List\n",
    "# Given the head of a singly linked list, reverse the list, and return the reversed list.\n",
    "\n",
    "class ListNode:\n",
    "    def __init__(self, val=0, next = None):\n",
    "        self.val= val\n",
    "        self.next = next\n"
   ]
  },
  {
   "cell_type": "code",
   "execution_count": null,
   "metadata": {
    "jupyter": {
     "source_hidden": true
    }
   },
   "outputs": [],
   "source": [
    "\n",
    "# n0-n1-n2\n",
    "class solution:\n",
    "    def reverse(self, head):\n",
    "        prev, curr = None, head\n",
    "        while curr:\n",
    "            temp = curr.next\n",
    "            curr.next = prev\n",
    "            prev = curr\n",
    "            curr = temp\n",
    "        return prev"
   ]
  },
  {
   "cell_type": "code",
   "execution_count": null,
   "metadata": {},
   "outputs": [],
   "source": [
    "# 21. Merge Two Sorted Lists\n",
    "# You are given the heads of two sorted linked lists list1 and list2.\n",
    "\n",
    "# Merge the two lists in a one sorted list. The list should be made by splicing together the nodes of the first two lists.\n",
    "\n",
    "# Return the head of the merged linked list.\n"
   ]
  },
  {
   "cell_type": "code",
   "execution_count": null,
   "metadata": {
    "jupyter": {
     "source_hidden": true
    }
   },
   "outputs": [],
   "source": [
    "# list1, list2\n",
    "dummy = ListNode()\n",
    "cur = dummy\n",
    "while node1 and node2:\n",
    "    if node1.val < node2.val:\n",
    "        cur.next = node1\n",
    "        node1 = node1.next\n",
    "    else:\n",
    "        cur.next = node2\n",
    "        node2 = node2.next\n",
    "    cur = cur.next\n",
    "    \n",
    "if node1:\n",
    "    cur.next = node1\n",
    "if node2:\n",
    "    cur.next = node2\n",
    "return dummy.next"
   ]
  },
  {
   "cell_type": "code",
   "execution_count": null,
   "metadata": {},
   "outputs": [],
   "source": [
    "# 143. Reorder List\n",
    "# You are given the head of a singly linked-list. The list can be represented as:\n",
    "\n",
    "# L0 → L1 → … → Ln - 1 → Ln\n",
    "# Reorder the list to be on the following form:\n",
    "\n",
    "# L0 → Ln → L1 → Ln - 1 → L2 → Ln - 2 → …\n",
    "# You may not modify the values in the list's nodes. Only nodes themselves may be changed.\n",
    "# Input: head = [1,2,3,4]\n",
    "# Output: [1,4,2,3]\n"
   ]
  },
  {
   "cell_type": "code",
   "execution_count": null,
   "metadata": {
    "jupyter": {
     "source_hidden": true
    }
   },
   "outputs": [],
   "source": [
    "class Solution:\n",
    "    def reorderList(self, head: Optional[ListNode]) -> None:\n",
    "        \"\"\"\n",
    "        Do not return anything, modify head in-place instead.\n",
    "        \"\"\"\n",
    "        second = self.find_middle(head)\n",
    "        second = self.reverse(second)\n",
    "        self.merge_lists(head, second)\n",
    "        \n",
    "    def find_middle(self, head):\n",
    "        slow, fast = head, head.next\n",
    "        while fast and fast.next:\n",
    "            slow = slow.next\n",
    "            fast = fast.next.next\n",
    "        second_head = slow.next\n",
    "        slow.next = None\n",
    "        return second_head\n",
    "    \n",
    "    # reverse 2nd half\n",
    "    def reverse(self, head):\n",
    "        prev, curr = None, head\n",
    "        while curr:\n",
    "            temp = curr.next\n",
    "            curr.next = prev\n",
    "            prev = curr\n",
    "            curr = temp\n",
    "        return prev\n",
    "\n",
    "    # merge 1st and 2nd halfs\n",
    "    def merge_lists(self, head, second):\n",
    "        list1 = head\n",
    "        list2 = second\n",
    "\n",
    "        while list1 and list2:\n",
    "            temp1 = list1.next \n",
    "            temp2 = list2.next\n",
    "            list1.next = list2\n",
    "            list2.next = temp1\n",
    "            list1 = temp1\n",
    "            list2 = temp2\n"
   ]
  },
  {
   "cell_type": "code",
   "execution_count": null,
   "metadata": {},
   "outputs": [],
   "source": [
    "# 19. Remove Nth Node From End of List\n",
    "# Given the head of a linked list, remove the nth node from the end of the list and return its head.\n",
    "# Input: head = [1,2,3,4,5], n = 2\n",
    "# Output: [1,2,3,5]\n",
    "\n"
   ]
  },
  {
   "cell_type": "code",
   "execution_count": null,
   "metadata": {
    "jupyter": {
     "source_hidden": true
    }
   },
   "outputs": [],
   "source": [
    "class Solution:\n",
    "    def removeNthFromEnd(self, head: Optional[ListNode], n: int) -> Optional[ListNode]:\n",
    "        curr = head\n",
    "        while n > 0:\n",
    "            curr = curr.next\n",
    "            n -= 1\n",
    "        dummy = ListNode(0, head)\n",
    "        curr2 = dummy\n",
    "        while curr:\n",
    "            curr = curr.next\n",
    "            curr2 = curr2.next\n",
    "        curr2.next = curr2.next.next\n",
    "        return dummy.next"
   ]
  },
  {
   "cell_type": "code",
   "execution_count": null,
   "metadata": {},
   "outputs": [],
   "source": [
    "# 138. Copy List with Random Pointer\n",
    "# A linked list of length n is given such that each node contains an additional random pointer, which could point to any node in the list, or null.\n",
    "\n",
    "# Construct a deep copy of the list. The deep copy should consist of exactly n brand new nodes, where each new node has its value set to the value of its corresponding original node. Both the next and random pointer of the new nodes should point to new nodes in the copied list such that the pointers in the original list and copied list represent the same list state. None of the pointers in the new list should point to nodes in the original list.\n",
    "\n",
    "# For example, if there are two nodes X and Y in the original list, where X.random --> Y, then for the corresponding two nodes x and y in the copied list, x.random --> y.\n",
    "\n",
    "# Return the head of the copied linked list.\n",
    "\n",
    "# The linked list is represented in the input/output as a list of n nodes. Each node is represented as a pair of [val, random_index] where:\n",
    "\n",
    "# val: an integer representing Node.val\n",
    "# random_index: the index of the node (range from 0 to n-1) that the random pointer points to, or null if it does not point to any node.\n",
    "# Your code will only be given the head of the original linked list.\n",
    "\n"
   ]
  },
  {
   "cell_type": "code",
   "execution_count": null,
   "metadata": {
    "jupyter": {
     "source_hidden": true
    }
   },
   "outputs": [],
   "source": [
    "oldToNew= {}\n",
    "node = head\n",
    "\n",
    "while node:\n",
    "    oldToNew[node] = Node(node.val)\n",
    "    node = node.next\n",
    "node = head\n",
    "while node:\n",
    "    copy = oldToNew[node]\n",
    "    copy.next = oldToNew[node.next]\n",
    "    copy.random = oldToNew[node.random]\n",
    "    node = node.next"
   ]
  },
  {
   "cell_type": "code",
   "execution_count": null,
   "metadata": {},
   "outputs": [],
   "source": [
    "# 2. Add Two Numbers\n",
    "# You are given two non-empty linked lists representing two non-negative integers. The digits are stored in reverse order, and each of their nodes contains a single digit. Add the two numbers and return the sum as a linked list.\n",
    "\n",
    "# You may assume the two numbers do not contain any leading zero, except the number 0 itself.\n",
    "\n"
   ]
  },
  {
   "cell_type": "code",
   "execution_count": null,
   "metadata": {
    "jupyter": {
     "source_hidden": true
    }
   },
   "outputs": [],
   "source": [
    "# l1, l2\n",
    "dummy = ListNode()\n",
    "cur = dummy\n",
    "val = 0\n",
    "while l1 or l2:\n",
    "    val = (l1.val if l1) + (l2.val if l2) + val //10\n",
    "    cur.next = ListNode(val % 10)\n",
    "    cur = cur.next\n",
    "    l1 = l1.next\n",
    "    l2 = l2.next\n",
    "if val >= 10:\n",
    "    cur.next = ListNode(val % 10)\n",
    "\n",
    "    "
   ]
  },
  {
   "cell_type": "code",
   "execution_count": null,
   "metadata": {},
   "outputs": [],
   "source": [
    "# 141. Linked List Cycle\n",
    "# Given head, the head of a linked list, determine if the linked list has a cycle in it.\n",
    "\n",
    "# There is a cycle in a linked list if there is some node in the list that can be reached again by continuously following the next pointer. Internally, pos is used to denote the index of the node that tail's next pointer is connected to. Note that pos is not passed as a parameter.\n",
    "\n",
    "# Return true if there is a cycle in the linked list. Otherwise, return false.\n",
    "\n"
   ]
  },
  {
   "cell_type": "code",
   "execution_count": null,
   "metadata": {
    "jupyter": {
     "source_hidden": true
    }
   },
   "outputs": [],
   "source": [
    "class Solution:\n",
    "    def hasCycle(self, head: Optional[ListNode]) -> bool:\n",
    "        if not head:\n",
    "            return False\n",
    "        slow, fast = head, head.next\n",
    "        while fast and fast.next:\n",
    "            if slow == fast:\n",
    "                return True\n",
    "            slow = slow.next\n",
    "            fast = fast.next.next\n",
    "        return False"
   ]
  },
  {
   "cell_type": "code",
   "execution_count": 578,
   "metadata": {},
   "outputs": [],
   "source": [
    "# 287. Find the Duplicate Number\n",
    "# Given an array of integers nums containing n + 1 integers where each integer is in the range [1, n] inclusive.\n",
    "\n",
    "# There is only one repeated number in nums, return this repeated number.\n",
    "\n",
    "# You must solve the problem without modifying the array nums and uses only constant extra space.\n",
    "\n",
    "nums = [1,3,4,2,2]\n"
   ]
  },
  {
   "cell_type": "code",
   "execution_count": null,
   "metadata": {
    "jupyter": {
     "source_hidden": true
    }
   },
   "outputs": [],
   "source": [
    "slow, fast = 0, 0\n",
    "while True:\n",
    "    slow = nums[slow]\n",
    "    fast = nums[nums[fast]]\n",
    "    if slow == fast:\n",
    "        break\n",
    "slow2 = 0\n",
    "while True:\n",
    "    slow = nums[slow]\n",
    "    slow2 = nums[slow2]\n",
    "    if slow == slow2:\n",
    "        return slow"
   ]
  },
  {
   "cell_type": "code",
   "execution_count": 586,
   "metadata": {},
   "outputs": [],
   "source": [
    "# 146. LRU Cache\n",
    "# Design a data structure that follows the constraints of a Least Recently Used (LRU) cache.\n",
    "\n",
    "# Implement the LRUCache class:\n",
    "\n",
    "# LRUCache(int capacity) Initialize the LRU cache with positive size capacity.\n",
    "# int get(int key) Return the value of the key if the key exists, otherwise return -1.\n",
    "# void put(int key, int value) Update the value of the key if the key exists. \n",
    "# Otherwise, add the key-value pair to the cache. \n",
    "# If the number of keys exceeds the capacity from this operation, evict the least recently used key.\n",
    "# The functions get and put must each run in O(1) average time complexity.\n",
    "\n"
   ]
  },
  {
   "cell_type": "code",
   "execution_count": null,
   "metadata": {
    "jupyter": {
     "source_hidden": true
    }
   },
   "outputs": [],
   "source": [
    "class DLinkedNode():\n",
    "    def __init__(self):\n",
    "        self.key = 0\n",
    "        self.value = 0\n",
    "        self.prev = None\n",
    "        self.next = None\n",
    "class LRUCache():\n",
    "    def __init__(self, capacity):\n",
    "        self.cache = {}\n",
    "        self.size = 0\n",
    "        self.capacity = capacity\n",
    "        self.head, self.tail = DLinkedNode(), DLinkedNode()\n",
    "        \n",
    "        self.head.next = self.tail\n",
    "        self.tail.prev = self.head\n",
    "        \n",
    "    def _add_node(self, node):\n",
    "        node.prev = self.head\n",
    "        node.next = self.head.next\n",
    "        self.head.next.prev = node\n",
    "        self.head.next = node\n",
    "    \n",
    "    def _remove_node(self, node):\n",
    "        prev = node.prev\n",
    "        new = node.next\n",
    "        prev.next = new\n",
    "        new.prev = prev\n",
    "    \n",
    "    def _move_to_head(self, node):\n",
    "        self._remove_node(node)\n",
    "        self._add_node(node)\n",
    "        \n",
    "    def _pop_tail(self):\n",
    "        res = self.tail.prev\n",
    "        self._remove_node(res)\n",
    "        return res\n",
    "    \n"
   ]
  },
  {
   "cell_type": "code",
   "execution_count": null,
   "metadata": {
    "jupyter": {
     "source_hidden": true
    }
   },
   "outputs": [],
   "source": [
    "    def get(self, key):\n",
    "        node = self.cache.get(key, None)\n",
    "        if not node:\n",
    "            return -1\n",
    "        self._move_to_head(node)\n",
    "        return node.value\n",
    "    \n",
    "    def put(self, key, value):\n",
    "        node = self.cache.get(key, None)\n",
    "        if not node:\n",
    "            newNode = DLinkedNode()\n",
    "            newNode.key = key\n",
    "            newNode.value = value\n",
    "            self.cache[key] = newNode\n",
    "            self._add_node(newNode)\n",
    "            self.size += 1\n",
    "            if self.size > self.capacity:\n",
    "                tail = self._pop_tail()\n",
    "                del self.cache[tail.key]\n",
    "                self.size -= 1\n",
    "        else:\n",
    "            node.value = value\n",
    "            self._move_to_head(node)"
   ]
  },
  {
   "cell_type": "markdown",
   "metadata": {},
   "source": [
    "# Binary Tree"
   ]
  },
  {
   "cell_type": "code",
   "execution_count": null,
   "metadata": {},
   "outputs": [],
   "source": [
    "# pre-order\n",
    "class Solution_rec:\n",
    "    def __init__(self):\n",
    "        self.ans = []\n",
    "    def inorderTraversal(self, root: TreeNode) -> List[int]:\n",
    "        self.dfs(root)\n",
    "        return self.ans\n",
    "    def dfs(self, root: TreeNode) -> List[int]:\n",
    "        if root is None: return\n",
    "        self.dfs(root.left)\n",
    "        self.ans.append(root.val)\n",
    "        self.dfs(root.right)\n",
    "class Solution:\n",
    "    def inorderTraversal(self, root: TreeNode) -> List[int]:\n",
    "        stack, order = [], []\n",
    "        curr = root\n",
    "        while curr or len(stack) > 0:\n",
    "            if curr:\n",
    "                stack.append(curr)\n",
    "                curr = curr.left\n",
    "            else:\n",
    "                curr = stack.pop()\n",
    "                order.append(curr.val) # inorder\n",
    "                curr = curr.right\n",
    "        return order"
   ]
  },
  {
   "cell_type": "code",
   "execution_count": 237,
   "metadata": {},
   "outputs": [],
   "source": [
    "# 226. Invert Binary Tree\n",
    "# Given the root of a binary tree, invert the tree, and return its root.\n",
    "# root = [4,2,7,1,3,6,9]\n",
    "class TreeNode:\n",
    "    def __init__(self, val=0, left=None, right=None):\n",
    "        self.val = val\n",
    "        self.left = left\n",
    "        self.right = right"
   ]
  },
  {
   "cell_type": "code",
   "execution_count": null,
   "metadata": {
    "jupyter": {
     "source_hidden": true
    }
   },
   "outputs": [],
   "source": [
    "def invert_tree(root):\n",
    "    def dfs(root):\n",
    "        if not root:\n",
    "            return\n",
    "        temp = root.left\n",
    "        root.left = root.right\n",
    "        root.right = temp\n",
    "        dfs(root.left)\n",
    "        dfs(root.right)\n",
    "        return root\n",
    "    return dfs(root)"
   ]
  },
  {
   "cell_type": "code",
   "execution_count": 5,
   "metadata": {},
   "outputs": [],
   "source": [
    "# 104. Maximum Depth of Binary Tree\n",
    "# Given the root of a binary tree, return its maximum depth.\n",
    "# A binary tree's maximum depth is the number of nodes along the longest path from the root node down to the farthest leaf node.\n"
   ]
  },
  {
   "cell_type": "code",
   "execution_count": null,
   "metadata": {
    "jupyter": {
     "source_hidden": true
    }
   },
   "outputs": [],
   "source": [
    "def maxDepth(root):\n",
    "    def dfs(root, depth):\n",
    "        if not root:\n",
    "            return depth\n",
    "        return max(dfs(root.left, depth + 1), dfs(root.right, depth + 1))\n",
    "    return dfs(root, 0)"
   ]
  },
  {
   "cell_type": "code",
   "execution_count": 604,
   "metadata": {},
   "outputs": [],
   "source": [
    "# 543. Diameter of Binary Tree\n",
    "# Given the root of a binary tree, return the length of the diameter of the tree.\n",
    "# The diameter of a binary tree is the length of the longest path between any two nodes in a tree. \n",
    "# This path may or may not pass through the root.\n",
    "# The length of a path between two nodes is represented by the number of edges between them."
   ]
  },
  {
   "cell_type": "code",
   "execution_count": null,
   "metadata": {
    "jupyter": {
     "source_hidden": true
    }
   },
   "outputs": [],
   "source": [
    "res = 0\n",
    "def dfs(root):\n",
    "    nonlocal res\n",
    "    if not root:\n",
    "        return 0\n",
    "    left = dfs(root.left)\n",
    "    right = dfs(root.right)\n",
    "    res = max(res, left + right)\n",
    "    return 1 + max(left, right)\n",
    "dfs(root)\n",
    "res"
   ]
  },
  {
   "cell_type": "code",
   "execution_count": 605,
   "metadata": {},
   "outputs": [],
   "source": [
    "# 110. Balanced Binary Tree\n",
    "# Given a binary tree, determine if it is height-balanced.\n",
    "\n",
    "# For this problem, a height-balanced binary tree is defined as:\n",
    "\n",
    "# a binary tree in which the left and right subtrees of every node differ in height by no more than 1.\n"
   ]
  },
  {
   "cell_type": "code",
   "execution_count": null,
   "metadata": {
    "jupyter": {
     "source_hidden": true
    }
   },
   "outputs": [],
   "source": [
    "\n",
    "def dfs(root):\n",
    "    if not root:\n",
    "        return [True, 0]\n",
    "    left, right = dfs(root.left), dfs(root.right)\n",
    "    balanced = left[0] and right[0] and abs(left[1] - right[1]) <= 1\n",
    "    return [balanced, 1 + max(left[1], right[1])]\n",
    "dfs(root)[0]"
   ]
  },
  {
   "cell_type": "code",
   "execution_count": 7,
   "metadata": {},
   "outputs": [],
   "source": [
    "# 100. Same Tree\n",
    "# Given the roots of two binary trees p and q, write a function to check if they are the same or not.\n",
    "# Two binary trees are considered the same if they are structurally identical, and the nodes have the same value."
   ]
  },
  {
   "cell_type": "code",
   "execution_count": null,
   "metadata": {
    "jupyter": {
     "source_hidden": true
    }
   },
   "outputs": [],
   "source": [
    "def isSameTree(p, q):\n",
    "    def dfs(p, q):\n",
    "        if not p and q:\n",
    "            return False\n",
    "        elif p and not q:\n",
    "            return False\n",
    "        elif p and q and p.val != q.val:\n",
    "            return False\n",
    "        if not p and not q:\n",
    "            return True\n",
    "        return dfs(p.left, q.left) and dfs(p.right, q.right)\n",
    "    return dfs(p, q)"
   ]
  },
  {
   "cell_type": "code",
   "execution_count": null,
   "metadata": {},
   "outputs": [],
   "source": [
    "# 572. Subtree of Another Tree\n",
    "# Given the roots of two binary trees root and subRoot, return true if there is a subtree of root with the same structure and node values of subRoot and false otherwise.\n",
    "# A subtree of a binary tree tree is a tree that consists of a node in tree and all of this node's descendants. The tree tree could also be considered as a subtree of itself.\n"
   ]
  },
  {
   "cell_type": "code",
   "execution_count": null,
   "metadata": {
    "jupyter": {
     "source_hidden": true
    }
   },
   "outputs": [],
   "source": [
    "def isSameTree(p, q):\n",
    "    def dfs(p, q):\n",
    "        if p and q and p.val != q.val:\n",
    "            return False\n",
    "        elif not p and q:\n",
    "            return False\n",
    "        elif not q and p:\n",
    "            return False\n",
    "        elif:\n",
    "            not p and not q:\n",
    "                return True\n",
    "        else:\n",
    "            return dfs(p.left, q.left) and dfs(p.right, q.right)\n",
    "def isSubTree(root, subRoot):\n",
    "    def dfs(root, subRoot):\n",
    "        if not root:\n",
    "            return False\n",
    "        if self.isSameTree(root, subRoot):\n",
    "            return True\n",
    "        else:\n",
    "            return dfs(root.left, subRoot) or dfs(root.right, subRoot)\n",
    "    return dfs(root, subRoot)"
   ]
  },
  {
   "cell_type": "code",
   "execution_count": null,
   "metadata": {
    "jupyter": {
     "source_hidden": true
    }
   },
   "outputs": [],
   "source": [
    "def sameTree(node1, node2):\n",
    "    if not node1 and node2:\n",
    "        return True\n",
    "    if node1 and node2 and node1.val and node2.val:\n",
    "        return dfs(node1.left, node2.left) and dfs(node1.right, node2.right)\n",
    "    else:\n",
    "        return False\n",
    "\n",
    "def dfs(node1, node2):\n",
    "    if not node2:\n",
    "        return True\n",
    "    if not node1:\n",
    "        return False\n",
    "    if sameTree(node1, node2):\n",
    "        return True\n",
    "    else:\n",
    "        return dfs(node1.left, node2) or dfs(node1.right, node2)"
   ]
  },
  {
   "cell_type": "code",
   "execution_count": null,
   "metadata": {},
   "outputs": [],
   "source": [
    "# 235. Lowest Common Ancestor of a Binary Search Tree\n",
    "# Given a binary search tree (BST), find the lowest common ancestor (LCA) node of two given nodes in the BST.\n",
    "# According to the definition of LCA on Wikipedia: “The lowest common ancestor is defined between two nodes p and q as the lowest node in T that has both p and q as descendants (where we allow a node to be a descendant of itself).”\n"
   ]
  },
  {
   "cell_type": "code",
   "execution_count": 238,
   "metadata": {
    "jupyter": {
     "source_hidden": true
    }
   },
   "outputs": [],
   "source": [
    "# time O(N), space O(N)\n",
    "def LCA(root, p, q):\n",
    "    def dfs(root, p, q):\n",
    "        if p.val < root.val  and q.val < root.val:\n",
    "            return dfs(root.left, p, q)\n",
    "        elif p.val > root.val  and q.val > root.val:\n",
    "            return dfs(root.right, p, q)\n",
    "        else:\n",
    "            return root"
   ]
  },
  {
   "cell_type": "code",
   "execution_count": 240,
   "metadata": {
    "jupyter": {
     "source_hidden": true
    }
   },
   "outputs": [],
   "source": [
    "def LCA(root, p, q):\n",
    "    while root:\n",
    "        if p.val < root.val  and q.val < root.val:\n",
    "            root = root.left\n",
    "        elif p.val > root.val  and q.val > root.val:\n",
    "            root = root.right\n",
    "        else:\n",
    "            return root"
   ]
  },
  {
   "cell_type": "code",
   "execution_count": 10,
   "metadata": {},
   "outputs": [],
   "source": [
    "# 102. Binary Tree Level Order Traversal\n",
    "# Given the root of a binary tree, return the level order traversal of its nodes' values. (i.e., from left to right, level by level).\n"
   ]
  },
  {
   "cell_type": "code",
   "execution_count": null,
   "metadata": {
    "jupyter": {
     "source_hidden": true
    }
   },
   "outputs": [],
   "source": [
    "\n",
    "class Solution:\n",
    "    def levelOrder(self, root):\n",
    "        \"\"\"\n",
    "        :type root: TreeNode\n",
    "        :rtype: List[List[int]]\n",
    "        \"\"\"\n",
    "        levels = []\n",
    "        if not root:\n",
    "            return levels\n",
    "        \n",
    "        def helper(node, level):\n",
    "            # start the current level\n",
    "            if len(levels) == level:\n",
    "                levels.append([])\n",
    "\n",
    "            # append the current node value\n",
    "            levels[level].append(node.val)\n",
    "\n",
    "            # process child nodes for the next level\n",
    "            if node.left:\n",
    "                helper(node.left, level + 1)\n",
    "            if node.right:\n",
    "                helper(node.right, level + 1)\n",
    "            \n",
    "        helper(root, 0)\n",
    "        return levels"
   ]
  },
  {
   "cell_type": "code",
   "execution_count": null,
   "metadata": {},
   "outputs": [],
   "source": [
    "# 199. Binary Tree Right Side View\n",
    "# Given the root of a binary tree, imagine yourself standing on the right side of it, return the values of the nodes you can see ordered from top to bottom.\n"
   ]
  },
  {
   "cell_type": "code",
   "execution_count": 19,
   "metadata": {
    "jupyter": {
     "source_hidden": true
    }
   },
   "outputs": [],
   "source": [
    "# bfs\n",
    "from collections import deque\n",
    "if not root: return []\n",
    "res = []\n",
    "next_q = deque([root, ])\n",
    "while next_q:\n",
    "    cur_q = next_q\n",
    "    next_q = deque([])\n",
    "    while cur_q:\n",
    "        node = cur_q.popleft()\n",
    "        if node.left:\n",
    "            next_q.append(node.left)\n",
    "        if node.right:\n",
    "            next_q.append(node.right)\n",
    "    res.append(node.val)"
   ]
  },
  {
   "cell_type": "code",
   "execution_count": null,
   "metadata": {
    "jupyter": {
     "source_hidden": true
    }
   },
   "outputs": [],
   "source": [
    "# dfs\n",
    "res = []\n",
    "def dfs(node, depth):\n",
    "    if not node:\n",
    "        return\n",
    "    if len(res) == depth:\n",
    "        res.append(0)\n",
    "    res[depth] = node.val\n",
    "    dfs(node.left, depth + 1)\n",
    "    dfs(node.right, depth + 1)\n",
    "    "
   ]
  },
  {
   "cell_type": "code",
   "execution_count": null,
   "metadata": {},
   "outputs": [],
   "source": [
    "# 1448. Count Good Nodes in Binary Tree\n",
    "# Given a binary tree root, a node X in the tree is named good if in the path from root to X there are no nodes with a value greater than X.\n",
    "\n",
    "# Return the number of good nodes in the binary tree.\n",
    "\n",
    "res = 0\n",
    "\n"
   ]
  },
  {
   "cell_type": "code",
   "execution_count": null,
   "metadata": {
    "jupyter": {
     "source_hidden": true
    }
   },
   "outputs": [],
   "source": [
    "def dfs(root, max_so_far):\n",
    "    nonlocal res\n",
    "    if not root:\n",
    "        return\n",
    "    if node.val >= max_so_far:\n",
    "        res += 1\n",
    "        max_so_far = node.val\n",
    "    dfs(root.left, max_so_far)\n",
    "    dfs(root.righ, max_so_far)\n",
    "dfs(root, root.val)"
   ]
  },
  {
   "cell_type": "code",
   "execution_count": 9,
   "metadata": {},
   "outputs": [
    {
     "data": {
      "text/plain": [
       "1"
      ]
     },
     "execution_count": 9,
     "metadata": {},
     "output_type": "execute_result"
    }
   ],
   "source": [
    "# 98. Validate Binary Search Tree\n",
    "# Given the root of a binary tree, determine if it is a valid binary search tree (BST).\n",
    "# A valid BST is defined as follows:\n",
    "# The left subtree of a node contains only nodes with keys less than the node's key.\n",
    "# The right subtree of a node contains only nodes with keys greater than the node's key.\n",
    "# Both the left and right subtrees must also be binary search trees."
   ]
  },
  {
   "cell_type": "code",
   "execution_count": null,
   "metadata": {
    "jupyter": {
     "source_hidden": true
    }
   },
   "outputs": [],
   "source": [
    "def isValidBST(self, root):\n",
    "    def valid(root, left, right):\n",
    "        if not root:\n",
    "            return True\n",
    "        if not (root.val < right and root.val > left):\n",
    "            return False\n",
    "        return (valid(root.left, left, root.val) and\n",
    "                valid(root.right, root.val, right))\n",
    "    return valid(root, float('-inf'), float('inf'))"
   ]
  },
  {
   "cell_type": "code",
   "execution_count": null,
   "metadata": {
    "jupyter": {
     "source_hidden": true
    }
   },
   "outputs": [],
   "source": [
    "class Solution:\n",
    "    def isValidBST(self, root: TreeNode) -> bool:\n",
    "        \n",
    "        def valid(node, left, right):\n",
    "            if not node:\n",
    "                return True\n",
    "            if not (node.val < right and node.val > left):\n",
    "                return False\n",
    "            \n",
    "            return (valid(node.left, left, node.val) and\n",
    "                    valid(node.right, node.val, right))\n",
    "        \n",
    "        return valid(root, float(\"-inf\"), float(\"inf\"))"
   ]
  },
  {
   "cell_type": "code",
   "execution_count": null,
   "metadata": {},
   "outputs": [],
   "source": [
    "# 230. Kth Smallest Element in a BST\n",
    "# Given the root of a binary search tree, and an integer k, return the kth smallest value (1-indexed) of all the values of the nodes in the tree."
   ]
  },
  {
   "cell_type": "code",
   "execution_count": null,
   "metadata": {
    "jupyter": {
     "source_hidden": true
    }
   },
   "outputs": [],
   "source": [
    "# O(N)\n",
    "def solution(root, k):\n",
    "    def inorder(r):\n",
    "        return inorder(r.left) + [r.val] + inorder(r.right) if r else []\n",
    "    return inorder(root)[k - 1]\n",
    "\n",
    "# O(H + k)\n",
    "stack = []\n",
    "curr = root\n",
    "while stack or curr:\n",
    "    while curr:\n",
    "        stack.append(curr)\n",
    "        curr = curr.left\n",
    "    curr = stack.pop()\n",
    "    k -= 1\n",
    "    if k == 0:\n",
    "        return curr.val\n",
    "    curr = curr.right"
   ]
  },
  {
   "cell_type": "code",
   "execution_count": null,
   "metadata": {},
   "outputs": [],
   "source": [
    "# 105. Construct Binary Tree from Preorder and Inorder Traversal\n",
    "# Given two integer arrays preorder and inorder where preorder is the preorder traversal of a binary tree and inorder is the inorder traversal of the same tree, construct and return the binary tree.\n",
    "\n",
    "preorder = [3,9,20,15,7]\n",
    "inorder = [9,3,15,20,7]\n",
    "\n"
   ]
  },
  {
   "cell_type": "markdown",
   "metadata": {},
   "source": [
    "# Trie"
   ]
  },
  {
   "cell_type": "code",
   "execution_count": 13,
   "metadata": {},
   "outputs": [],
   "source": [
    "# 208. Implement Trie (Prefix Tree)\n",
    "# A trie (pronounced as \"try\") or prefix tree is a tree data structure used to efficiently store and retrieve keys in a dataset of strings. \n",
    "# There are various applications of this data structure, such as autocomplete and spellchecker.\n",
    "# Implement the Trie class:\n",
    "# Trie() Initializes the trie object.\n",
    "# void insert(String word) Inserts the string word into the trie.\n",
    "# boolean search(String word) Returns true if the string word is in the trie (i.e., was inserted before), and false otherwise.\n",
    "# boolean startsWith(String prefix) Returns true if there is a previously inserted string word that has the prefix prefix, and false otherwise.\n"
   ]
  },
  {
   "cell_type": "code",
   "execution_count": null,
   "metadata": {
    "jupyter": {
     "source_hidden": true
    }
   },
   "outputs": [],
   "source": [
    "class TrieNode:\n",
    "    def __init__(self):\n",
    "        self.children = [None] * 26\n",
    "        self.end = False\n",
    "class Trie:\n",
    "    def __init__(self):\n",
    "        self.root = TrieNode()\n",
    "    def insert(self, word):\n",
    "        node = self.root\n",
    "        for c in word:\n",
    "            n = ord(c) - ord('a')\n",
    "            if not node.children[n]:\n",
    "                node.children[n] = TrieNode()\n",
    "            node = node.children[n]\n",
    "        node.end = True\n",
    "    def search(self, word):\n",
    "        node = self.root\n",
    "        for c in word:\n",
    "            n = ord(c) - ord('a')\n",
    "            if not node.children[n]:\n",
    "                return False\n",
    "            node= node.children[n]\n",
    "        return node.end\n",
    "    def startsWith(self, prefix):\n",
    "        node = self.root\n",
    "        for c in prefix:\n",
    "            n = ord(c) - ord('a')\n",
    "            if not node.children[n]\n",
    "                return False\n",
    "            node = node.children[n]\n",
    "        return True\n",
    "        "
   ]
  },
  {
   "cell_type": "code",
   "execution_count": null,
   "metadata": {},
   "outputs": [],
   "source": [
    "# 211. Design Add and Search Words Data Structure\n",
    "# Design a data structure that supports adding new words and finding if a string matches any previously added string.\n",
    "# Implement the WordDictionary class:\n",
    "# WordDictionary() Initializes the object.\n",
    "# void addWord(word) Adds word to the data structure, it can be matched later.\n",
    "# bool search(word) Returns true if there is any string in the data structure that matches word or false otherwise. word may contain dots '.' where dots can be matched with any letter.\n",
    "\n"
   ]
  },
  {
   "cell_type": "code",
   "execution_count": null,
   "metadata": {
    "jupyter": {
     "source_hidden": true
    }
   },
   "outputs": [],
   "source": [
    "class TrieNode:\n",
    "    def __init__(self):\n",
    "        self.children = {}\n",
    "        self.word = False\n",
    "class wordDictionary:\n",
    "    def __init__(self):\n",
    "        self.root = TrieNode()\n",
    "    def addWord(self, word):\n",
    "        curr = self.root\n",
    "        for c in word:\n",
    "            if c not in curr.children:\n",
    "                curr.children[c] = TrieNode()\n",
    "        curr.word = True\n",
    "    def search(self, word):\n",
    "        def dfs(j, root):\n",
    "            curr = root\n",
    "            for i in range(j, len(word)):\n",
    "                c = word[i]\n",
    "                if c == '.':\n",
    "                    for child in curr.children.values():\n",
    "                        if dfs(i + 1, child):\n",
    "                            return True\n",
    "                    return False\n",
    "                else:\n",
    "                    if c not in curr.children:\n",
    "                        return False\n",
    "                    curr= curr.children[c]\n",
    "            return curr.word\n",
    "        return dfs(0, self.root)"
   ]
  },
  {
   "cell_type": "code",
   "execution_count": null,
   "metadata": {
    "jupyter": {
     "source_hidden": true
    }
   },
   "outputs": [],
   "source": [
    "class TrieNode:\n",
    "    def __init__(self):\n",
    "        self.children = {}\n",
    "        self.word = False\n",
    "class Trie:\n",
    "    def __init__(self):\n",
    "        self.root = TrieNode()\n",
    "    def addWord(self, word: str) -> None:\n",
    "        cur = self.root\n",
    "        for c in word:\n",
    "            if c not in cur.children:\n",
    "                cur.children[c] = TrieNode()\n",
    "            curr = curr.children[c]\n",
    "        curr.word = True\n",
    "    def search(self, word: str) -> bool:\n",
    "        def dfs(j, root):\n",
    "            cur = root\n",
    "            for i in range(j, len(word)):\n",
    "                c = word[i]\n",
    "                if c == '.':\n",
    "                    for child in cur.children.values():\n",
    "                        if dfs(i + 1, child):\n",
    "                            return True\n",
    "                    return False\n",
    "                else:\n",
    "                    if c not in cur.children:\n",
    "                        return False\n",
    "                    cur = cur.children[c]\n",
    "            return cur.word\n",
    "        return dfs(0, self.root)"
   ]
  },
  {
   "cell_type": "markdown",
   "metadata": {},
   "source": [
    "# Heap"
   ]
  },
  {
   "cell_type": "code",
   "execution_count": null,
   "metadata": {},
   "outputs": [],
   "source": [
    "# 703. Kth Largest Element in a Stream\n",
    "# Design a class to find the kth largest element in a stream. Note that it is the kth largest element in the sorted order, not the kth distinct element.\n",
    "\n",
    "# Implement KthLargest class:\n",
    "\n",
    "# KthLargest(int k, int[] nums) Initializes the object with the integer k and the stream of integers nums.\n",
    "# int add(int val) Appends the integer val to the stream and returns the element representing the kth largest element in the stream.\n"
   ]
  },
  {
   "cell_type": "code",
   "execution_count": 99,
   "metadata": {
    "jupyter": {
     "source_hidden": true
    }
   },
   "outputs": [],
   "source": [
    "from typing import List\n",
    "import heapq\n",
    "class LthLargest:\n",
    "    def __init__(self, k: int, nums: List[int]):\n",
    "        self.k = k\n",
    "        self.minHeap = nums\n",
    "        heapq.heapify(self.minHeap)\n",
    "        while len(self.minHeap) > k:\n",
    "            heapq.heappop(self.minHeap)\n",
    "    def add(self, val: int) -> int:\n",
    "        heapq.heappush(self.minHeap, val)\n",
    "        if len(self.minHeap) > self.k:\n",
    "            heapq.heappop(self.minHeap)\n",
    "        return self.minHeap[0]"
   ]
  },
  {
   "cell_type": "code",
   "execution_count": 297,
   "metadata": {},
   "outputs": [],
   "source": [
    "# 1046. Last Stone Weight\n",
    "# You are given an array of integers stones where stones[i] is the weight of the ith stone.\n",
    "\n",
    "# We are playing a game with the stones. On each turn, we choose the heaviest two stones and smash them together. Suppose the heaviest two stones have weights x and y with x <= y. The result of this smash is:\n",
    "\n",
    "# If x == y, both stones are destroyed, and\n",
    "# If x != y, the stone of weight x is destroyed, and the stone of weight y has new weight y - x.\n",
    "# At the end of the game, there is at most one stone left.\n",
    "\n",
    "# Return the weight of the last remaining stone. If there are no stones left, return 0.\n",
    "\n",
    "stones = [2,7,4,1,8,1]"
   ]
  },
  {
   "cell_type": "code",
   "execution_count": 108,
   "metadata": {
    "jupyter": {
     "source_hidden": true
    }
   },
   "outputs": [
    {
     "data": {
      "text/plain": [
       "1"
      ]
     },
     "execution_count": 108,
     "metadata": {},
     "output_type": "execute_result"
    }
   ],
   "source": [
    "import heapq\n",
    "stones = [-x for x in stones]\n",
    "heapq.heapify(stones)\n",
    "while len(stones) > 1:\n",
    "    s1 = heapq.heappop(stones)\n",
    "    s2 = heapq.heappop(stones)\n",
    "    if s1 < s2:\n",
    "        heapq.heappush(stones, s1 - s2)\n",
    "stones.append(0)\n",
    "abs(stones[0])"
   ]
  },
  {
   "cell_type": "code",
   "execution_count": 638,
   "metadata": {},
   "outputs": [],
   "source": [
    "# 973. K Closest Points to Origin\n",
    "# Given an array of points where points[i] = [xi, yi] represents a point \n",
    "# on the X-Y plane and an integer k, return the k closest points to the origin (0, 0).\n",
    "\n",
    "# The distance between two points on the X-Y plane is the Euclidean distance (i.e., √(x1 - x2)2 + (y1 - y2)2).\n",
    "\n",
    "# You may return the answer in any order. The answer is guaranteed to be unique (except for the order that it is in).\n",
    "points = [[1,3],[-2,2]]\n",
    "k = 1"
   ]
  },
  {
   "cell_type": "code",
   "execution_count": 111,
   "metadata": {
    "jupyter": {
     "source_hidden": true
    }
   },
   "outputs": [
    {
     "data": {
      "text/plain": [
       "[[-2, 2]]"
      ]
     },
     "execution_count": 111,
     "metadata": {},
     "output_type": "execute_result"
    }
   ],
   "source": [
    "import math\n",
    "def distance(x):\n",
    "    return math.sqrt(x[0]**2 + x[1]**2)\n",
    "pts = []\n",
    "for x in points:\n",
    "    pts.append([distance(x), x[0], x[1]])\n",
    "res = []\n",
    "heapq.heapify(pts)\n",
    "for i in range(k):\n",
    "    dist, x, y = heapq.heappop(pts)\n",
    "    res.append([x, y])\n",
    "res"
   ]
  },
  {
   "cell_type": "code",
   "execution_count": 625,
   "metadata": {},
   "outputs": [
    {
     "data": {
      "text/plain": [
       "[3, 2, 1, 2, 4, 5, 6]"
      ]
     },
     "execution_count": 625,
     "metadata": {},
     "output_type": "execute_result"
    }
   ],
   "source": [
    "# 215. Kth Largest Element in an Array\n",
    "# Given an integer array nums and an integer k, return the kth largest element in the array.\n",
    "\n",
    "# Note that it is the kth largest element in the sorted order, not the kth distinct element.\n",
    "\n",
    "# You must solve it in O(n) time complexity.\n",
    "\n",
    "nums = [3,2,1,5,6,4]\n",
    "k = 2\n",
    "nums = [3,2,1,5,6,2,4]\n",
    "[3,2,1,2,4,5,6]\n",
    " 0 1 2 3 4 5 6\n"
   ]
  },
  {
   "cell_type": "code",
   "execution_count": 628,
   "metadata": {
    "jupyter": {
     "source_hidden": true
    }
   },
   "outputs": [],
   "source": [
    "\n",
    "class Solution2:\n",
    "    def partition(self, nums: List[int], left: int, right: int) -> int:\n",
    "        pivot, fill = nums[right], left\n",
    "            \n",
    "        for i in range(left, right):\n",
    "            if nums[i] <= pivot:\n",
    "                nums[fill], nums[i] = nums[i], nums[fill]\n",
    "                fill += 1\n",
    "                \n",
    "        nums[fill], nums[right] = nums[right], nums[fill]\n",
    "            \n",
    "        return fill\n",
    "    \n",
    "    def findKthLargest(self, nums: List[int], k: int) -> int:\n",
    "        k = len(nums) - k\n",
    "        left, right = 0, len(nums) - 1\n",
    "        \n",
    "        while left < right:\n",
    "            pivot = self.partition(nums, left, right)\n",
    "            \n",
    "            if pivot < k:\n",
    "                left = pivot + 1\n",
    "            elif pivot > k:\n",
    "                right = pivot - 1\n",
    "            else:\n",
    "                break\n",
    "\n",
    "        return nums[k]"
   ]
  },
  {
   "cell_type": "markdown",
   "metadata": {},
   "source": [
    "# Back tracking"
   ]
  },
  {
   "cell_type": "code",
   "execution_count": 319,
   "metadata": {},
   "outputs": [],
   "source": [
    "# 78. Subsets\n",
    "# Given an integer array nums of unique elements, return all possible subsets (the power set).\n",
    "\n",
    "# The solution set must not contain duplicate subsets. Return the solution in any order.\n",
    "nums = [1,2,3]"
   ]
  },
  {
   "cell_type": "code",
   "execution_count": 323,
   "metadata": {
    "jupyter": {
     "source_hidden": true
    }
   },
   "outputs": [
    {
     "data": {
      "text/plain": [
       "[[1, 2, 3], [1, 2], [1, 3], [1], [2, 3], [2], [3], []]"
      ]
     },
     "execution_count": 323,
     "metadata": {},
     "output_type": "execute_result"
    }
   ],
   "source": [
    "res = []\n",
    "stack = []\n",
    "def backtrack(i):\n",
    "    if i == len(nums):\n",
    "        res.append(stack.copy())\n",
    "        return\n",
    "    stack.append(nums[i])\n",
    "    backtrack(i + 1)\n",
    "    stack.pop()\n",
    "    backtrack(i + 1)\n",
    "backtrack(0)\n",
    "res"
   ]
  },
  {
   "cell_type": "code",
   "execution_count": 324,
   "metadata": {},
   "outputs": [],
   "source": [
    "# 39. Combination Sum\n",
    "# Given an array of distinct integers candidates and a target integer target, return a list of all unique combinations of candidates where the chosen numbers sum to target. \n",
    "# You may return the combinations in any order.\n",
    "# The same number may be chosen from candidates an unlimited number of times. Two combinations are unique if the frequency of at least one of the chosen numbers is different.\n",
    "# It is guaranteed that the number of unique combinations that sum up to target is less than 150 combinations for the given input.\n",
    "\n",
    "candidates = [2,3,6,7]\n",
    "target = 7\n"
   ]
  },
  {
   "cell_type": "code",
   "execution_count": 329,
   "metadata": {
    "jupyter": {
     "source_hidden": true
    }
   },
   "outputs": [
    {
     "data": {
      "text/plain": [
       "[[2, 2, 3], [7]]"
      ]
     },
     "execution_count": 329,
     "metadata": {},
     "output_type": "execute_result"
    }
   ],
   "source": [
    "res = []\n",
    "stack = []\n",
    "def backtrack(i, total):\n",
    "    if total == target:\n",
    "        res.append(stack.copy())\n",
    "        return\n",
    "    if total > target or i == len(candidates):\n",
    "        return\n",
    "    stack.append(candidates[i])\n",
    "    backtrack(i, total + candidates[i])\n",
    "    stack.pop()\n",
    "    backtrack(i + 1, total)\n",
    "backtrack(0, 0)\n",
    "res"
   ]
  },
  {
   "cell_type": "code",
   "execution_count": 330,
   "metadata": {},
   "outputs": [],
   "source": [
    "# 46. Permutations\n",
    "# Given an array nums of distinct integers, return all the possible permutations. You can return the answer in any order.\n",
    "\n",
    "nums = [1,2,3]\n"
   ]
  },
  {
   "cell_type": "code",
   "execution_count": 54,
   "metadata": {
    "collapsed": true,
    "jupyter": {
     "outputs_hidden": true,
     "source_hidden": true
    }
   },
   "outputs": [
    {
     "data": {
      "text/plain": [
       "[[1, 2, 3], [1, 3, 2], [2, 1, 3], [2, 3, 1], [3, 2, 1], [3, 1, 2]]"
      ]
     },
     "execution_count": 54,
     "metadata": {},
     "output_type": "execute_result"
    }
   ],
   "source": [
    "n = len(nums)\n",
    "res = []\n",
    "def backtrack(first = 0):\n",
    "    if first == n:\n",
    "        res.append(nums[:])\n",
    "    for i in range(first, n):\n",
    "        nums[first], nums[i] = nums[i], nums[first]\n",
    "        backtrack(first + 1)\n",
    "        nums[first], nums[i] = nums[i], nums[first]\n",
    "backtrack()\n",
    "res"
   ]
  },
  {
   "cell_type": "code",
   "execution_count": 639,
   "metadata": {},
   "outputs": [],
   "source": [
    "# 90. Subsets II\n",
    "# Given an integer array nums that may contain duplicates, return all possible subsets (the power set).\n",
    "\n",
    "# The solution set must not contain duplicate subsets. Return the solution in any order.\n",
    "\n",
    "nums = [1,2,2]\n"
   ]
  },
  {
   "cell_type": "code",
   "execution_count": 340,
   "metadata": {
    "jupyter": {
     "source_hidden": true
    }
   },
   "outputs": [
    {
     "data": {
      "text/plain": [
       "[[1, 2, 2], [1, 2], [1], [2, 2], [2], []]"
      ]
     },
     "execution_count": 340,
     "metadata": {},
     "output_type": "execute_result"
    }
   ],
   "source": [
    "res = []\n",
    "stack = []\n",
    "nums.sort()\n",
    "def dfs(i):\n",
    "    if i == len(nums):\n",
    "        res.append(stack.copy())\n",
    "        return\n",
    "    stack.append(nums[i])\n",
    "    dfs(i + 1)\n",
    "    stack.pop()\n",
    "    while i + 1 < len(nums) and nums[i] == nums[i + 1]:\n",
    "        i += 1\n",
    "    dfs(i + 1)\n",
    "dfs(0)\n",
    "res"
   ]
  },
  {
   "cell_type": "code",
   "execution_count": 641,
   "metadata": {},
   "outputs": [],
   "source": [
    "# 40. Combination Sum II\n",
    "# Given a collection of candidate numbers (candidates) and a target number (target), \n",
    "# find all unique combinations in candidates where the candidate numbers sum to target.\n",
    "\n",
    "# Each number in candidates may only be used once in the combination.\n",
    "\n",
    "# Note: The solution set must not contain duplicate combinations.\n",
    "\n",
    "# candidates = [10,1,2,7,6,1,5]\n",
    "candidates = [2,5,2,1,2]\n",
    "# target = 8\n",
    "target = 5"
   ]
  },
  {
   "cell_type": "code",
   "execution_count": 647,
   "metadata": {
    "jupyter": {
     "source_hidden": true
    }
   },
   "outputs": [
    {
     "data": {
      "text/plain": [
       "[[1, 2, 2], [5]]"
      ]
     },
     "execution_count": 647,
     "metadata": {},
     "output_type": "execute_result"
    }
   ],
   "source": [
    "candidates.sort()\n",
    "res = []\n",
    "stack = []\n",
    "\n",
    "def backtrack(i, total):\n",
    "    if total == target:\n",
    "        res.append(stack.copy())\n",
    "        return\n",
    "    if total > target or i == len(candidates):\n",
    "        return\n",
    "    stack.append(candidates[i])\n",
    "    backtrack(i + 1, total + candidates[i])\n",
    "    stack.pop()\n",
    "    while i < len(candidates) - 1 and candidates[i] == candidates[i + 1]:\n",
    "        i += 1\n",
    "    backtrack(i + 1, total)\n",
    "backtrack(0, 0)\n",
    "res"
   ]
  },
  {
   "cell_type": "code",
   "execution_count": 353,
   "metadata": {},
   "outputs": [],
   "source": [
    "# 79. Word Search\n",
    "# Given an m x n grid of characters board and a string word, return true if word exists in the grid.\n",
    "# The word can be constructed from letters of sequentially adjacent cells, \n",
    "# where adjacent cells are horizontally or vertically neighboring. The same letter cell may not be used more than once.\n",
    "\n",
    "board = [[\"A\",\"B\",\"C\",\"E\"],\n",
    "         [\"S\",\"F\",\"C\",\"S\"],\n",
    "         [\"A\",\"D\",\"E\",\"E\"]]\n",
    "word = \"ABCCED\"\n"
   ]
  },
  {
   "cell_type": "code",
   "execution_count": null,
   "metadata": {
    "jupyter": {
     "source_hidden": true
    }
   },
   "outputs": [],
   "source": [
    "path = set()\n",
    "rows = len(board)\n",
    "cols = len(board[0])\n",
    "def dfs(i, r, c):\n",
    "    if i == len(word):\n",
    "        return True\n",
    "    if (min(r, c) < 0 or\n",
    "        r >= rows or\n",
    "        c >= cols or\n",
    "        (r, c) in path or\n",
    "        word[i] != board[r][c]):\n",
    "        return False\n",
    "\n",
    "    path.add((r, c))\n",
    "    res =  (dfs(i + 1, r + 1, c) or \n",
    "            dfs(i + 1, r - 1, c) or\n",
    "            dfs(i + 1, r, c + 1) or\n",
    "            dfs(i + 1, r, c - 1))\n",
    "    path.remove((r, c))\n",
    "    return res\n",
    "for r in range(rows):\n",
    "    for c in range(cols):\n",
    "        if dfs(0, r, c):\n",
    "            return True\n",
    "return False"
   ]
  },
  {
   "cell_type": "code",
   "execution_count": null,
   "metadata": {
    "jupyter": {
     "source_hidden": true
    }
   },
   "outputs": [],
   "source": [
    "\n",
    "rows = len(board)\n",
    "cols = len(board[0])\n",
    "route = set()\n",
    "def dfs(i, r, c):\n",
    "    if i == len(word):\n",
    "        return True\n",
    "    conditions = (min(r, c) < 0 or \n",
    "                  r >= rows or \n",
    "                  c >= cols or \n",
    "                  (r, c) in route or\n",
    "                  word[i] != board[r][c])\n",
    "    if conditions:\n",
    "        return False\n",
    "    route.add((r, c))\n",
    "\n",
    "    res = (dfs(i + 1, r + 1, c) or \n",
    "           dfs(i + 1, r - 1, c) or\n",
    "           dfs(i + 1, r, c + 1) or\n",
    "           dfs(i + 1, r, c - 1))\n",
    "    route.remove((r, c))\n",
    "    return res\n",
    "for r in range(rows):\n",
    "    for c in range(cols):\n",
    "        if dfs(0, r, c):\n",
    "            print(True)"
   ]
  },
  {
   "cell_type": "code",
   "execution_count": 648,
   "metadata": {},
   "outputs": [],
   "source": [
    "# 131. Palindrome Partitioning\n",
    "# Given a string s, partition s such that every substring of the partition is a palindrome. Return all possible palindrome partitioning of s.\n",
    "\n",
    "# A palindrome string is a string that reads the same backward as forward.\n",
    "\n",
    "s = \"aab\"\n"
   ]
  },
  {
   "cell_type": "code",
   "execution_count": 79,
   "metadata": {
    "jupyter": {
     "source_hidden": true
    }
   },
   "outputs": [
    {
     "data": {
      "text/plain": [
       "[['a', 'a', 'b'], ['aa', 'b']]"
      ]
     },
     "execution_count": 79,
     "metadata": {},
     "output_type": "execute_result"
    }
   ],
   "source": [
    "def ispalindrome(s):\n",
    "    l, r = 0, len(s) - 1\n",
    "    while l < r:\n",
    "        if s[l] != s[r]:\n",
    "            return False\n",
    "        l += 1\n",
    "        r -= 1\n",
    "    return True\n",
    "stack = []\n",
    "res = []\n",
    "\n",
    "def dfs(i):\n",
    "    if i == len(s):\n",
    "        res.append(stack.copy())\n",
    "        return\n",
    "    for j in range(i, len(s)):\n",
    "        if not ispalindrome(s[i : j + 1]):\n",
    "            continue\n",
    "        else:\n",
    "            stack.append(s[i : j + 1])\n",
    "            dfs(j + 1)\n",
    "            stack.pop()\n",
    "dfs(0)\n",
    "res"
   ]
  },
  {
   "cell_type": "code",
   "execution_count": 650,
   "metadata": {},
   "outputs": [],
   "source": [
    "# 17. Letter Combinations of a Phone Number\n",
    "# Given a string containing digits from 2-9 inclusive, return all possible letter combinations that the number could represent. Return the answer in any order.\n",
    "\n",
    "# A mapping of digits to letters (just like on the telephone buttons) is given below. Note that 1 does not map to any letters.\n",
    "digits = \"234\""
   ]
  },
  {
   "cell_type": "code",
   "execution_count": 653,
   "metadata": {
    "collapsed": true,
    "jupyter": {
     "outputs_hidden": true,
     "source_hidden": true
    }
   },
   "outputs": [
    {
     "data": {
      "text/plain": [
       "['adg',\n",
       " 'adh',\n",
       " 'adi',\n",
       " 'aeg',\n",
       " 'aeh',\n",
       " 'aei',\n",
       " 'afg',\n",
       " 'afh',\n",
       " 'afi',\n",
       " 'bdg',\n",
       " 'bdh',\n",
       " 'bdi',\n",
       " 'beg',\n",
       " 'beh',\n",
       " 'bei',\n",
       " 'bfg',\n",
       " 'bfh',\n",
       " 'bfi',\n",
       " 'cdg',\n",
       " 'cdh',\n",
       " 'cdi',\n",
       " 'ceg',\n",
       " 'ceh',\n",
       " 'cei',\n",
       " 'cfg',\n",
       " 'cfh',\n",
       " 'cfi']"
      ]
     },
     "execution_count": 653,
     "metadata": {},
     "output_type": "execute_result"
    }
   ],
   "source": [
    "res = []\n",
    "digitToChar = {\n",
    "    \"2\": \"abc\",\n",
    "    \"3\": \"def\",\n",
    "    \"4\": \"ghi\",\n",
    "    \"5\": \"jkl\",\n",
    "    \"6\": \"mno\",\n",
    "    \"7\": \"qprs\",\n",
    "    \"8\": \"tuv\",\n",
    "    \"9\": \"wxyz\",\n",
    "}\n",
    "\n",
    "def dfs(i, curstr):\n",
    "    if len(curstr) == len(digits):\n",
    "        res.append(curstr)\n",
    "        return\n",
    "    for c in digitToChar[digits[i]]:\n",
    "        dfs(i + 1, curstr + c)\n",
    "if digits:\n",
    "    dfs(0, '')\n",
    "res"
   ]
  },
  {
   "cell_type": "markdown",
   "metadata": {},
   "source": [
    "# Graph"
   ]
  },
  {
   "cell_type": "code",
   "execution_count": 40,
   "metadata": {},
   "outputs": [],
   "source": [
    "# 200. Number of Islands\n",
    "# Given an m x n 2D binary grid grid which represents a map of '1's (land) and '0's (water), return the number of islands.\n",
    "# An island is surrounded by water and is formed by connecting adjacent lands horizontally or vertically. You may assume all four edges of the grid are all surrounded by water.\n",
    "\n",
    "# grid = [\n",
    "#   [\"1\",\"1\",\"1\",\"1\",\"0\"],\n",
    "#   [\"1\",\"1\",\"0\",\"1\",\"0\"],\n",
    "#   [\"1\",\"1\",\"0\",\"0\",\"0\"],\n",
    "#   [\"0\",\"0\",\"0\",\"0\",\"0\"]\n",
    "# ]\n",
    "grid = [\n",
    "  [\"1\",\"1\",\"0\",\"0\",\"0\"],\n",
    "  [\"1\",\"1\",\"0\",\"0\",\"0\"],\n",
    "  [\"0\",\"0\",\"1\",\"0\",\"0\"],\n",
    "  [\"0\",\"0\",\"0\",\"1\",\"1\"]\n",
    "]"
   ]
  },
  {
   "cell_type": "code",
   "execution_count": 48,
   "metadata": {
    "jupyter": {
     "source_hidden": true
    }
   },
   "outputs": [],
   "source": [
    "path = set()\n",
    "num_islands = 0\n",
    "rows = len(grid)\n",
    "cols = len(grid[0])\n",
    "def dfs(r, c):\n",
    "    conditions = (min(r, c) < 0 or\n",
    "                  r >= rows or\n",
    "                  c >= cols or\n",
    "                  grid[r][c] == '0' or\n",
    "                  (r, c) in path\n",
    "                 )\n",
    "    if conditions:\n",
    "        return\n",
    "    path.add((r, c))\n",
    "    dfs(r + 1, c)\n",
    "    dfs(r - 1, c)\n",
    "    dfs(r, c + 1)\n",
    "    dfs(r, c - 1)\n",
    "for r in range(rows):\n",
    "    for c in range(cols):\n",
    "        if (r, c) not in path and grid[r][c] == '1':\n",
    "            num_islands += 1\n",
    "            dfs(r, c)"
   ]
  },
  {
   "cell_type": "code",
   "execution_count": 50,
   "metadata": {},
   "outputs": [],
   "source": [
    "# 133. Clone Graph\n",
    "# Given a reference of a node in a connected undirected graph.\n",
    "\n",
    "# Return a deep copy (clone) of the graph.\n",
    "\n",
    "# Each node in the graph contains a value (int) and a list (List[Node]) of its neighbors.\n",
    "\n",
    "# class Node {\n",
    "#     public int val;\n",
    "#     public List<Node> neighbors;\n",
    "# }\n",
    " \n",
    "\n",
    "# Test case format:\n",
    "\n",
    "# For simplicity, each node's value is the same as the node's index (1-indexed). For example, the first node with val == 1, the second node with val == 2, and so on. The graph is represented in the test case using an adjacency list.\n",
    "\n",
    "# An adjacency list is a collection of unordered lists used to represent a finite graph. Each list describes the set of neighbors of a node in the graph.\n",
    "\n",
    "# The given node will always be the first node with val = 1. You must return the copy of the given node as a reference to the cloned graph.\n",
    "\n"
   ]
  },
  {
   "cell_type": "code",
   "execution_count": null,
   "metadata": {
    "jupyter": {
     "source_hidden": true
    }
   },
   "outputs": [],
   "source": [
    "class Node:\n",
    "    def __init__(self, val = 0, neighbors = None):\n",
    "        self.val = val\n",
    "        self.neighbors = neighbors if neighbors is not None else []\n",
    "\n",
    "def solution(node):\n",
    "    oldToNew = {}\n",
    "    def dfs(node):\n",
    "        if node in oldToNew:\n",
    "            return oldToNew[node]\n",
    "        copy = Node(node.val)\n",
    "        oldToNew[node] = copy\n",
    "        for nei in node.neighbors:\n",
    "            copy.neighbors.append(dfs(nei))\n",
    "        return copy\n",
    "    return dfs(node) if node else None"
   ]
  },
  {
   "cell_type": "code",
   "execution_count": 365,
   "metadata": {},
   "outputs": [],
   "source": [
    "# 695. Max Area of Island\n",
    "# You are given an m x n binary matrix grid. An island is a group of 1's (representing land) connected 4-directionally (horizontal or vertical.) You may assume all four edges of the grid are surrounded by water.\n",
    "\n",
    "# The area of an island is the number of cells with a value 1 in the island.\n",
    "\n",
    "# Return the maximum area of an island in grid. If there is no island, return 0.\n",
    "grid = [[0,0,1,0,0,0,0,1,0,0,0,0,0],\n",
    "        [0,0,0,0,0,0,0,1,1,1,0,0,0],\n",
    "        [0,1,1,0,1,0,0,0,0,0,0,0,0],\n",
    "        [0,1,0,0,1,1,0,0,1,0,1,0,0],\n",
    "        [0,1,0,0,1,1,0,0,1,1,1,0,0],\n",
    "        [0,0,0,0,0,0,0,0,0,0,1,0,0],\n",
    "        [0,0,0,0,0,0,0,1,1,1,0,0,0],\n",
    "        [0,0,0,0,0,0,0,1,1,0,0,0,0]]\n",
    "# grid = [[0,0,1,0,0,0,0,1,0,0,0,0,0],\n",
    "#         [0,0,0,0,0,0,0,1,1,1,0,0,0],\n",
    "#         [0,1,1,1,1,0,0,0,0,0,0,0,0],\n",
    "#         [0,1,0,0,1,1,0,0,1,0,1,0,0],\n",
    "#         [0,1,0,0,1,1,0,0,1,1,1,0,0],\n",
    "#         [0,0,0,0,0,0,0,0,0,0,1,0,0],\n",
    "#         [0,0,0,0,0,0,0,1,1,1,0,0,0],\n",
    "#         [0,0,0,0,0,0,0,1,1,0,0,0,0]]\n",
    "\n",
    "# grid = [[0,0,1,0,0,0,0,1,0,0,0,0,0],[0,0,0,0,0,0,0,0,0,0,0,0,0]]\n"
   ]
  },
  {
   "cell_type": "code",
   "execution_count": 364,
   "metadata": {
    "jupyter": {
     "source_hidden": true
    }
   },
   "outputs": [
    {
     "data": {
      "text/plain": [
       "7"
      ]
     },
     "execution_count": 364,
     "metadata": {},
     "output_type": "execute_result"
    }
   ],
   "source": [
    "path = set()\n",
    "rows = len(grid)\n",
    "cols = len(grid[0])\n",
    "res = 0\n",
    "def dfs(r, c):\n",
    "    if (min(r, c) < 0 or\n",
    "        r == rows or\n",
    "        c == cols or\n",
    "        (r, c) in path or\n",
    "        grid[r][c] == 0):\n",
    "        return 0\n",
    "    path.add((r, c))\n",
    "    out = 1 + dfs(r + 1, c) \\\n",
    "            + dfs(r - 1, c) \\\n",
    "            + dfs(r, c + 1) \\\n",
    "            + dfs(r, c - 1)\n",
    "#     print(r, c, area)\n",
    "    return out\n",
    "for r in range(rows):\n",
    "    for c in range(cols):\n",
    "#         print(path)\n",
    "        if (r, c) not in path:\n",
    "            res = max(res, dfs(r, c))\n",
    "#             print(r, c, res)\n",
    "res"
   ]
  },
  {
   "cell_type": "code",
   "execution_count": 51,
   "metadata": {},
   "outputs": [],
   "source": [
    "# 417. Pacific Atlantic Water Flow\n",
    "# There is an m x n rectangular island that borders both the Pacific Ocean and Atlantic Ocean. The Pacific Ocean touches the island's left and top edges, and the Atlantic Ocean touches the island's right and bottom edges.\n",
    "# The island is partitioned into a grid of square cells. You are given an m x n integer matrix heights where heights[r][c] represents the height above sea level of the cell at coordinate (r, c).\n",
    "# The island receives a lot of rain, and the rain water can flow to neighboring cells directly north, south, east, and west if the neighboring cell's height is less than or equal to the current cell's height. Water can flow from any cell adjacent to an ocean into the ocean.\n",
    "# Return a 2D list of grid coordinates result where result[i] = [ri, ci] denotes that rain water can flow from cell (ri, ci) to both the Pacific and Atlantic oceans.\n",
    "\n",
    "heights = [[1,2,2,3,5],[3,2,3,4,4],[2,4,5,3,1],[6,7,1,4,5],[5,1,1,2,4]]"
   ]
  },
  {
   "cell_type": "code",
   "execution_count": 54,
   "metadata": {
    "jupyter": {
     "source_hidden": true
    }
   },
   "outputs": [],
   "source": [
    "pacs = set()\n",
    "atls = set()\n",
    "rows = len(heights)\n",
    "cols = len(heights[0])\n",
    "\n",
    "def dfs(r, c, prevHeight, path):\n",
    "    conditions = (min(r, c) < 0 or\n",
    "                  r >= rows or\n",
    "                  c >= cols or\n",
    "                  prevHeight > heights[r][c] or\n",
    "                  (r, c) in path)\n",
    "    if conditions:\n",
    "        return\n",
    "    path.add((r, c))\n",
    "    dfs(r + 1, c, heights[r][c], path)\n",
    "    dfs(r - 1, c, heights[r][c], path)\n",
    "    dfs(r, c + 1, heights[r][c], path)\n",
    "    dfs(r, c - 1, heights[r][c], path)\n",
    "for r in range(rows):\n",
    "    dfs(r, 0, heights[r][0], pacs)\n",
    "    dfs(r, cols - 1, heights[r][cols - 1], atls)\n",
    "for c in range(cols):\n",
    "    dfs(0, c, heights[0][c], pacs)\n",
    "    dfs(rows - 1, c, heights[rows - 1][c], atls)\n",
    "res = []\n",
    "for r in range(rows):\n",
    "    for c in range(cols):\n",
    "        if (r, c) in pacs and (r, c) in atls:\n",
    "            res.append((r, c))"
   ]
  },
  {
   "cell_type": "code",
   "execution_count": 55,
   "metadata": {},
   "outputs": [
    {
     "data": {
      "text/plain": [
       "[(0, 4), (1, 3), (1, 4), (2, 2), (3, 0), (3, 1), (4, 0)]"
      ]
     },
     "execution_count": 55,
     "metadata": {},
     "output_type": "execute_result"
    }
   ],
   "source": [
    "res"
   ]
  },
  {
   "cell_type": "code",
   "execution_count": 370,
   "metadata": {},
   "outputs": [
    {
     "data": {
      "text/plain": [
       "[['X', 'X', 'X', 'X'],\n",
       " ['X', 'O', 'O', 'X'],\n",
       " ['X', 'X', 'O', 'X'],\n",
       " ['X', 'O', 'X', 'X']]"
      ]
     },
     "execution_count": 370,
     "metadata": {},
     "output_type": "execute_result"
    }
   ],
   "source": [
    "# 130. Surrounded Regions\n",
    "# Given an m x n matrix board containing 'X' and 'O', capture all regions that are 4-directionally surrounded by 'X'.\n",
    "\n",
    "# A region is captured by flipping all 'O's into 'X's in that surrounded region.\n",
    "board = [[\"X\",\"X\",\"X\",\"X\"],[\"X\",\"O\",\"O\",\"X\"],[\"X\",\"X\",\"O\",\"X\"],[\"X\",\"O\",\"X\",\"X\"]]\n",
    "board"
   ]
  },
  {
   "cell_type": "markdown",
   "metadata": {
    "jupyter": {
     "source_hidden": true
    }
   },
   "source": [
    "#### find connected Os connected with edges\n",
    "# flip Os not in the found Os.\n",
    "\n",
    "rows = len(board)\n",
    "cols = len(board[0])\n",
    "path = set()\n",
    "\n",
    "def dfs(r, c):\n",
    "    if (\n",
    "        min(r, c) < 0 or\n",
    "        r >= rows or\n",
    "        c >= cols or\n",
    "        (r, c) in path or\n",
    "        board[r][c] == 'X'\n",
    "    ):\n",
    "        return\n",
    "    path.add((r, c))\n",
    "    dfs(r + 1, c)\n",
    "    dfs(r - 1, c)\n",
    "    dfs(r, c + 1)\n",
    "    dfs(r, c - 1)\n",
    "\n",
    "for r in range(rows):\n",
    "    for c in range(cols):\n",
    "        if (r == 0 or r == rows - 1 or c == 0 or c == cols -1) and (board[r][c] == 'O'):\n",
    "            dfs(r, c)\n",
    "for r in range(rows):\n",
    "    for c in range(cols):\n",
    "        if ((r, c) not in path) and (board[r][c] == 'O'):\n",
    "            board[r][c] = 'X'\n",
    "board"
   ]
  },
  {
   "cell_type": "code",
   "execution_count": 372,
   "metadata": {},
   "outputs": [
    {
     "data": {
      "text/plain": [
       "{(3, 1)}"
      ]
     },
     "execution_count": 372,
     "metadata": {},
     "output_type": "execute_result"
    }
   ],
   "source": [
    "path"
   ]
  },
  {
   "cell_type": "code",
   "execution_count": 383,
   "metadata": {},
   "outputs": [],
   "source": [
    "# 994. Rotting Oranges\n",
    "# You are given an m x n grid where each cell can have one of three values:\n",
    "\n",
    "# 0 representing an empty cell,\n",
    "# 1 representing a fresh orange, or\n",
    "# 2 representing a rotten orange.\n",
    "# Every minute, any fresh orange that is 4-directionally adjacent to a rotten orange becomes rotten.\n",
    "\n",
    "# Return the minimum number of minutes that must elapse until no cell has a fresh orange. If this is impossible, return -1.\n",
    "\n",
    "grid = [[2,1,1],\n",
    "        [1,1,0],\n",
    "        [0,1,1]]"
   ]
  },
  {
   "cell_type": "code",
   "execution_count": null,
   "metadata": {
    "jupyter": {
     "source_hidden": true
    }
   },
   "outputs": [],
   "source": [
    "q = collections.deque()\n",
    "fresh = 0\n",
    "time = 0\n",
    "for r in range(len(grid)):\n",
    "    for c in range(len(grid[0])):\n",
    "        if grid[r][c] == 1:\n",
    "            fresh += 1\n",
    "        if grid[r][c] == 2:\n",
    "            q.append((r, c))\n",
    "directions = [[0, 1], [0, -1], [1, 0], [-1, 0]]\n",
    "while fresh > 0 and q:\n",
    "    length = len(q)\n",
    "    for i in range(length):\n",
    "        r, c = q.popleft()\n",
    "        for dr, dc in directions:\n",
    "            row, col = r + dr, c + dc\n",
    "            if (\n",
    "                row in range(len(grid)) and\n",
    "                col in range(len(grid[0])) and\n",
    "                grid[row][col] == 1\n",
    "            ):\n",
    "                grid[row][col] = 2\n",
    "                q.append((row, col))\n",
    "                fresh -= 1\n",
    "    time += 1\n",
    "return time if fresh == 0 else -1"
   ]
  },
  {
   "cell_type": "code",
   "execution_count": null,
   "metadata": {},
   "outputs": [],
   "source": []
  },
  {
   "cell_type": "code",
   "execution_count": 385,
   "metadata": {},
   "outputs": [],
   "source": [
    "# 286. Walls and Gates\n",
    "# You are given an m x n grid rooms initialized with these three possible values.\n",
    "\n",
    "# -1 A wall or an obstacle.\n",
    "# 0 A gate.\n",
    "# INF Infinity means an empty room. We use the value 231 - 1 = 2147483647 to represent INF as you may assume that the distance to a gate is less than 2147483647.\n",
    "# Fill each empty room with the distance to its nearest gate. If it is impossible to reach a gate, it should be filled with INF.\n",
    "rooms = [[2147483647,-1,0,2147483647],\n",
    "         [2147483647,2147483647,2147483647,-1],\n",
    "         [2147483647,-1,2147483647,-1],\n",
    "         [0,-1,2147483647,2147483647]]\n"
   ]
  },
  {
   "cell_type": "code",
   "execution_count": 217,
   "metadata": {
    "jupyter": {
     "source_hidden": true
    }
   },
   "outputs": [
    {
     "data": {
      "text/plain": [
       "[[3, -1, 0, 1], [2, 2, 1, -1], [1, -1, 2, -1], [0, -1, 3, 4]]"
      ]
     },
     "execution_count": 217,
     "metadata": {},
     "output_type": "execute_result"
    }
   ],
   "source": [
    "# bfs\n",
    "from collections import deque\n",
    "q = deque()\n",
    "rows = len(rooms)\n",
    "cols = len(rooms[0])\n",
    "emp = 0\n",
    "time = 0\n",
    "for r in range(rows):\n",
    "    for c in range(cols):\n",
    "        if rooms[r][c] == 0:\n",
    "            q.append((r, c))\n",
    "        if rooms[r][c] > 0:\n",
    "            emp += 1\n",
    "\n",
    "directions = [[1, 0], [-1, 0], [0, 1], [0, -1]]\n",
    "while emp > 0 and q:\n",
    "    time += 1\n",
    "    length = len(q)\n",
    "    for i in range(length):\n",
    "        r, c = q.popleft()\n",
    "        for dr, dc in directions:\n",
    "            row, col = r + dr, c + dc\n",
    "#             print(row, col)\n",
    "            if (row in range(rows) and \n",
    "                col in range(cols) and \n",
    "                rooms[row][col] == 2**31-1):\n",
    "#                 print(row, col)\n",
    "                rooms[row][col] = time\n",
    "                emp -= 1\n",
    "                q.append((row, col))\n",
    "rooms "
   ]
  },
  {
   "cell_type": "code",
   "execution_count": 391,
   "metadata": {},
   "outputs": [],
   "source": [
    "# 207. Course Schedule\n",
    "# There are a total of numCourses courses you have to take, labeled from 0 to numCourses - 1. \n",
    "# You are given an array prerequisites where prerequisites[i] = [ai, bi] indicates that \n",
    "# you must take course bi first if you want to take course ai.\n",
    "# For example, the pair [0, 1], indicates that to take course 0 you have to first take course 1.\n",
    "# Return true if you can finish all courses. Otherwise, return false.\n",
    "\n",
    "numCourses = 2\n",
    "prerequisites = [[1,0],[0,1]]"
   ]
  },
  {
   "cell_type": "code",
   "execution_count": null,
   "metadata": {
    "jupyter": {
     "source_hidden": true
    }
   },
   "outputs": [],
   "source": [
    "def solution(numCourses, prerequisites):\n",
    "    preMap = {i: [] for i in range(numCourses)}\n",
    "    for crs, pre in prerequisites:\n",
    "        preMap[crs].append(pre)\n",
    "    visiting = set()\n",
    "    def dfs(crs):\n",
    "        if crs in visiting:\n",
    "            return False\n",
    "        if preMap[crs] == []:\n",
    "            return True\n",
    "        visiting.add(crs)\n",
    "        for pre in preMap[crs]:\n",
    "            if not dfs(pre):\n",
    "                return False\n",
    "        visiting.remove(crs)\n",
    "        preMap[crs] = []\n",
    "        return True\n",
    "    for c in range(numCourses):\n",
    "        if not dfs(c):\n",
    "            return False\n",
    "    return True"
   ]
  },
  {
   "cell_type": "code",
   "execution_count": null,
   "metadata": {
    "jupyter": {
     "source_hidden": true
    }
   },
   "outputs": [],
   "source": [
    "from collections import defaultdict\n",
    "def solution(numCourses, prerequisites):\n",
    "    preMap = defaultdict(list)\n",
    "    for crs, pre in prerequisites:\n",
    "        preMap[crs].append(pre)\n",
    "    visiting = set()\n",
    "    \n",
    "    def dfs(crs):\n",
    "        if crs in visiting:\n",
    "            return False\n",
    "        if preMap[crs] == []:\n",
    "            return True\n",
    "        visiting.add(crs)\n",
    "        for pre in preMap[crs]:\n",
    "            if not dfs(pre):\n",
    "                return False\n",
    "        visiting.remove(crs)\n",
    "        preMap[crs] = []\n",
    "        return True\n",
    "    \n",
    "    for c in range(numCourses):\n",
    "        if not dfs(c):\n",
    "            return False\n",
    "    return True"
   ]
  },
  {
   "cell_type": "code",
   "execution_count": 654,
   "metadata": {},
   "outputs": [],
   "source": [
    "# 210. Course Schedule II\n",
    "# There are a total of numCourses courses you have to take, labeled from 0 to numCourses - 1. \n",
    "# You are given an array prerequisites where prerequisites[i] = [ai, bi] indicates \n",
    "# that you must take course bi first if you want to take course ai.\n",
    "# For example, the pair [0, 1], indicates that to take course 0 you have to first take course 1.\n",
    "# Return the ordering of courses you should take to finish all courses. \n",
    "# If there are many valid answers, return any of them. \n",
    "# If it is impossible to finish all courses, return an empty array.\n",
    "\n",
    "numCourses = 4\n",
    "prerequisites = [[1,0],[2,0],[3,1],[3,2]]\n"
   ]
  },
  {
   "cell_type": "code",
   "execution_count": null,
   "metadata": {
    "jupyter": {
     "source_hidden": true
    }
   },
   "outputs": [],
   "source": [
    "prereq = defaultdict(list)\n",
    "for cor, pre in prerequisites:\n",
    "    prereq[cor].append(pre)\n",
    "res = []\n",
    "visit = set()\n",
    "cycle = set()\n",
    "\n",
    "def dfs(c):\n",
    "    if c in cycle:\n",
    "        return False\n",
    "    if c in visit:\n",
    "        return True\n",
    "    \n",
    "    cycle.add(c)\n",
    "    for p in prereq[c]:\n",
    "        if not dfs(p):\n",
    "            return False\n",
    "    cycle.remove(c)\n",
    "    visit.add(c)\n",
    "    res.append(c)\n",
    "    return True\n",
    "\n",
    "for c in range(numCourses):\n",
    "    if not dfs(c):\n",
    "        return []\n",
    "return res"
   ]
  },
  {
   "cell_type": "code",
   "execution_count": 394,
   "metadata": {},
   "outputs": [],
   "source": [
    "# 684. Redundant Connection\n",
    "# In this problem, a tree is an undirected graph that is connected and has no cycles.\n",
    "# You are given a graph that started as a tree with n nodes labeled from 1 to n, with one additional edge added. \n",
    "# The added edge has two different vertices chosen from 1 to n, and was not an edge that already existed. \n",
    "# The graph is represented as an array edges of length n where edges[i] = [ai, bi] indicates that there is an edge between nodes ai and bi in the graph.\n",
    "# Return an edge that can be removed so that the resulting graph is a tree of n nodes. If there are multiple answers, return the answer that occurs last in the input.\n",
    "\n",
    "edges = [[1,2],[1,3],[2,3]]"
   ]
  },
  {
   "cell_type": "code",
   "execution_count": 220,
   "metadata": {
    "jupyter": {
     "source_hidden": true
    }
   },
   "outputs": [
    {
     "ename": "SyntaxError",
     "evalue": "'return' outside function (<ipython-input-220-7d8d7a456cce>, line 24)",
     "output_type": "error",
     "traceback": [
      "\u001b[0;36m  File \u001b[0;32m\"<ipython-input-220-7d8d7a456cce>\"\u001b[0;36m, line \u001b[0;32m24\u001b[0m\n\u001b[0;31m    return [n1, n2]\u001b[0m\n\u001b[0m    ^\u001b[0m\n\u001b[0;31mSyntaxError\u001b[0m\u001b[0;31m:\u001b[0m 'return' outside function\n"
     ]
    }
   ],
   "source": [
    "par = [i for i in range(len(edges) + 1)]\n",
    "rank = [1] * (len(edges) + 1)\n",
    "def find(n):\n",
    "    p = par[n]\n",
    "    while p != par[p]:\n",
    "        par[p] = par[par[p]]\n",
    "        p = par[p]\n",
    "    return p\n",
    "\n",
    "def union(n1, n2):\n",
    "    p1, p2 = find(n1), find(n2)\n",
    "    if p1 == p2:\n",
    "        return False\n",
    "    if rank[p1] > rank[p2]:\n",
    "        par[p2] = p1\n",
    "        rank[p1] += rank[p2]\n",
    "    else:\n",
    "        par[p1] = p2\n",
    "        rank[p2] += rank[p1]\n",
    "    return True\n",
    "\n",
    "for n1, n2 in edges:\n",
    "    if not union(n1, n2):\n",
    "        return [n1, n2]"
   ]
  },
  {
   "cell_type": "code",
   "execution_count": 64,
   "metadata": {},
   "outputs": [],
   "source": [
    "# 323. Number of Connected Components in an Undirected Graph\n",
    "# You have a graph of n nodes. You are given an integer n and an array edges where edges[i] = [ai, bi] indicates that there is an edge between ai and bi in the graph.\n",
    "# Return the number of connected components in the graph.\n",
    "\n",
    "n = 5\n",
    "# edges = [[0,1],[1,2],[3,4]]\n",
    "edges = [[0,1],[1,2],[2,3],[3,4]]\n"
   ]
  },
  {
   "cell_type": "code",
   "execution_count": null,
   "metadata": {
    "jupyter": {
     "source_hidden": true
    }
   },
   "outputs": [],
   "source": [
    "neis = defaultdict(list)\n",
    "for i, j in edges:\n",
    "    neis[i].append(j)\n",
    "    neis[j].append(i)\n",
    "\n",
    "path = set()\n",
    "def dfs(i):\n",
    "    if i in path:\n",
    "        return\n",
    "    path.add(i)\n",
    "    for nei in neis[i]:\n",
    "        dfs(nei)\n",
    "res = 0\n",
    "for i in range(n):\n",
    "    if i not in path:\n",
    "        res += 1\n",
    "        dfs(i)"
   ]
  },
  {
   "cell_type": "code",
   "execution_count": 655,
   "metadata": {},
   "outputs": [],
   "source": [
    "# 261. Graph Valid Tree\n",
    "# You have a graph of n nodes labeled from 0 to n - 1. \n",
    "# You are given an integer n and a list of edges where edges[i] = [ai, bi] indicates \n",
    "# that there is an undirected edge between nodes ai and bi in the graph.\n",
    "# Return true if the edges of the given graph make up a valid tree, and false otherwise.\n",
    "\n",
    "n = 5\n",
    "edges = [[0,1],[0,2],[0,3],[1,4]]\n"
   ]
  },
  {
   "cell_type": "code",
   "execution_count": null,
   "metadata": {
    "jupyter": {
     "source_hidden": true
    }
   },
   "outputs": [],
   "source": [
    "visit = set()\n",
    "adj = defaultdict(list)\n",
    "for i, j in edges:\n",
    "    adj[i].append(j)\n",
    "    adj[j].append(i)\n",
    "def dfs(i, prev):\n",
    "    if i in visit:\n",
    "        return False\n",
    "    visit.add(i)\n",
    "    for a in adj[i]:\n",
    "        if a == prev:\n",
    "            continue\n",
    "        if not dfs(a, i):\n",
    "            return False\n",
    "    return True\n",
    "return dfs(0, -1) and len(visit) == n"
   ]
  },
  {
   "cell_type": "code",
   "execution_count": null,
   "metadata": {
    "jupyter": {
     "source_hidden": true
    }
   },
   "outputs": [],
   "source": [
    "def solution(n, edges):\n",
    "    adj = defaultdict(list)\n",
    "    for i, j in edges:\n",
    "        adj[i].append(j)\n",
    "        adj[j].append(i)\n",
    "    visit = set()\n",
    "    def dfs(i, prev):\n",
    "        if i in visit:\n",
    "            return False\n",
    "        visit.add(i)\n",
    "        for j in adj[i]:\n",
    "            if j == prev:\n",
    "                continue\n",
    "            if not dfs(j, i):\n",
    "                return False\n",
    "        return True\n",
    "    return dfs(0, -1) and n == len(visit)"
   ]
  },
  {
   "cell_type": "markdown",
   "metadata": {},
   "source": [
    "# Advanced graph"
   ]
  },
  {
   "cell_type": "code",
   "execution_count": 734,
   "metadata": {},
   "outputs": [],
   "source": [
    "# 1584. Min Cost to Connect All Points\n",
    "# You are given an array points representing integer coordinates of \n",
    "# some points on a 2D-plane, where points[i] = [xi, yi].\n",
    "\n",
    "# The cost of connecting two points [xi, yi] and [xj, yj] is the manhattan distance \n",
    "# between them: |xi - xj| + |yi - yj|, where |val| denotes the absolute value of val.\n",
    "\n",
    "# Return the minimum cost to make all points connected. All points are connected \n",
    "# if there is exactly one simple path between any two points.\n",
    "\n",
    "points = [[0,0],[2,2],[3,10],[5,2],[7,0]]"
   ]
  },
  {
   "cell_type": "code",
   "execution_count": 737,
   "metadata": {
    "jupyter": {
     "source_hidden": true
    }
   },
   "outputs": [],
   "source": [
    "class Solution:\n",
    "    def minCostConnectPoints(self, points: List[List[int]]) -> int:\n",
    "        N = len(points)\n",
    "        adj = {i: [] for i in range(N)}  # i : list of [cost, node]\n",
    "        for i in range(N):\n",
    "            x1, y1 = points[i]\n",
    "            for j in range(i + 1, N):\n",
    "                x2, y2 = points[j]\n",
    "                dist = abs(x1 - x2) + abs(y1 - y2)\n",
    "                adj[i].append([dist, j])\n",
    "                adj[j].append([dist, i])\n",
    "\n",
    "        # Prim's\n",
    "        res = 0\n",
    "        visit = set()\n",
    "        minH = [[0, 0]]  # [cost, point]\n",
    "        while len(visit) < N:\n",
    "            cost, i = heapq.heappop(minH)\n",
    "            if i in visit:\n",
    "                continue\n",
    "            res += cost\n",
    "            visit.add(i)\n",
    "            for neiCost, nei in adj[i]:\n",
    "                if nei not in visit:\n",
    "                    heapq.heappush(minH, [neiCost, nei])\n",
    "        return res"
   ]
  },
  {
   "cell_type": "code",
   "execution_count": 740,
   "metadata": {},
   "outputs": [],
   "source": [
    "# 743. Network Delay Time\n",
    "# You are given a network of n nodes, labeled from 1 to n. \n",
    "# You are also given times, a list of travel times as directed edges times[i] = (ui, vi, wi), \n",
    "# where ui is the source node, vi is the target node, \n",
    "# and wi is the time it takes for a signal to travel from source to target.\n",
    "# We will send a signal from a given node k. \n",
    "# Return the minimum time it takes for all the n nodes to receive the signal. \n",
    "# If it is impossible for all the n nodes to receive the signal, return -1.\n",
    "\n",
    "times = [[2,1,1],[2,3,1],[3,4,1]]\n",
    "n = 4\n",
    "k = 2"
   ]
  },
  {
   "cell_type": "code",
   "execution_count": null,
   "metadata": {
    "jupyter": {
     "source_hidden": true
    }
   },
   "outputs": [],
   "source": [
    "class Solution:\n",
    "    def networkDelayTime(self, times: List[List[int]], n: int, k: int) -> int:\n",
    "        edges = collections.defaultdict(list)\n",
    "        for u, v, w in times:\n",
    "            edges[u].append((v, w))\n",
    "\n",
    "        minHeap = [(0, k)]\n",
    "        visit = set()\n",
    "        t = 0\n",
    "        while minHeap:\n",
    "            w1, n1 = heapq.heappop(minHeap)\n",
    "            if n1 in visit:\n",
    "                continue\n",
    "            visit.add(n1)\n",
    "            t = max(t, w1)\n",
    "\n",
    "            for n2, w2 in edges[n1]:\n",
    "                if n2 not in visit:\n",
    "                    heapq.heappush(minHeap, (w1 + w2, n2))\n",
    "        return t if len(visit) == n else -1"
   ]
  },
  {
   "cell_type": "code",
   "execution_count": 743,
   "metadata": {},
   "outputs": [],
   "source": [
    "# 787. Cheapest Flights Within K Stops\n",
    "# There are n cities connected by some number of flights. \n",
    "# You are given an array flights where flights[i] = [fromi, toi, pricei] indicates that \n",
    "# there is a flight from city fromi to city toi with cost pricei.\n",
    "\n",
    "# You are also given three integers src, dst, and k, \n",
    "# return the cheapest price from src to dst with at most k stops. \n",
    "# If there is no such route, return -1.\n",
    "\n",
    "n = 4\n",
    "flights = [[0,1,100],[1,2,100],[2,0,100],[1,3,600],[2,3,200]]\n",
    "src = 0\n",
    "dst = 3\n",
    "k = 1"
   ]
  },
  {
   "cell_type": "code",
   "execution_count": null,
   "metadata": {
    "jupyter": {
     "source_hidden": true
    }
   },
   "outputs": [],
   "source": [
    "class Solution:\n",
    "    def findCheapestPrice(\n",
    "        self, n: int, flights: List[List[int]], src: int, dst: int, k: int\n",
    "    ) -> int:\n",
    "        prices = [float(\"inf\")] * n\n",
    "        prices[src] = 0\n",
    "\n",
    "        for i in range(k + 1):\n",
    "            tmpPrices = prices.copy()\n",
    "\n",
    "            for s, d, p in flights:  # s=source, d=dest, p=price\n",
    "                if prices[s] == float(\"inf\"):\n",
    "                    continue\n",
    "                if prices[s] + p < tmpPrices[d]:\n",
    "                    tmpPrices[d] = prices[s] + p\n",
    "            prices = tmpPrices\n",
    "        return -1 if prices[dst] == float(\"inf\") else prices[dst]"
   ]
  },
  {
   "cell_type": "code",
   "execution_count": null,
   "metadata": {},
   "outputs": [],
   "source": []
  },
  {
   "cell_type": "markdown",
   "metadata": {},
   "source": [
    "# 1-D dynamic programming"
   ]
  },
  {
   "cell_type": "code",
   "execution_count": 80,
   "metadata": {},
   "outputs": [
    {
     "data": {
      "text/plain": [
       "5"
      ]
     },
     "execution_count": 80,
     "metadata": {},
     "output_type": "execute_result"
    }
   ],
   "source": [
    "# 70. Climbing Stairs\n",
    "# You are climbing a staircase. It takes n steps to reach the top.\n",
    "# Each time you can either climb 1 or 2 steps. In how many distinct ways can you climb to the top?\n"
   ]
  },
  {
   "cell_type": "code",
   "execution_count": null,
   "metadata": {
    "jupyter": {
     "source_hidden": true
    }
   },
   "outputs": [],
   "source": [
    "# f(n) = f(n - 1) + f(n - 2)\n",
    "def solution(n):\n",
    "    if n <= 2:\n",
    "        return n\n",
    "    n1 = 1\n",
    "    n2 = 2\n",
    "    for i in range(3, n + 1):\n",
    "        temp = n2\n",
    "        n2 = n1 + n2\n",
    "        n1 = temp\n",
    "    return n2\n",
    "\n",
    "solution(4)"
   ]
  },
  {
   "cell_type": "code",
   "execution_count": 227,
   "metadata": {},
   "outputs": [
    {
     "data": {
      "text/plain": [
       "6"
      ]
     },
     "execution_count": 227,
     "metadata": {},
     "output_type": "execute_result"
    }
   ],
   "source": [
    "# 746. Min Cost Climbing Stairs\n",
    "# You are given an integer array cost where cost[i] is the cost of ith step on a staircase. Once you pay the cost, you can either climb one or two steps.\n",
    "\n",
    "# You can either start from the step with index 0, or the step with index 1.\n",
    "\n",
    "# Return the minimum cost to reach the top of the floor.\n",
    "# cost = [10,15,20]\n",
    "cost = [1,100,1,1,1,100,1,1,100,1]\n"
   ]
  },
  {
   "cell_type": "code",
   "execution_count": null,
   "metadata": {
    "jupyter": {
     "source_hidden": true
    }
   },
   "outputs": [],
   "source": [
    "# f(n) = const[n] + min(f(n - 1) + f(n - 2))\n",
    "c1 = 0\n",
    "c2 = cost[0]\n",
    "i = 1\n",
    "while i < len(cost) + 1:\n",
    "    temp = c2\n",
    "    c2 = (cost[i] if i < len(cost) else 0) + min(c2 , c1)\n",
    "    c1 = temp\n",
    "    i += 1\n",
    "c2"
   ]
  },
  {
   "cell_type": "code",
   "execution_count": 82,
   "metadata": {},
   "outputs": [
    {
     "data": {
      "text/plain": [
       "12"
      ]
     },
     "execution_count": 82,
     "metadata": {},
     "output_type": "execute_result"
    }
   ],
   "source": [
    "# 198. House Robber\n",
    "# You are a professional robber planning to rob houses along a street. Each house has a certain amount of money stashed, the only constraint stopping you from robbing each of them is that adjacent houses have security systems connected and it will automatically contact the police if two adjacent houses were broken into on the same night.\n",
    "# Given an integer array nums representing the amount of money of each house, return the maximum amount of money you can rob tonight without alerting the police.\n",
    "\n",
    "nums = [2,7,9,3,1]\n"
   ]
  },
  {
   "cell_type": "code",
   "execution_count": null,
   "metadata": {
    "jupyter": {
     "source_hidden": true
    }
   },
   "outputs": [],
   "source": [
    "# f(n) = max(f(n-1), f(n-2) + nums[n])\n",
    "\n",
    "def solution(nums):\n",
    "    if len(nums)==1:\n",
    "        return nums[0]\n",
    "    n1 = nums[0]\n",
    "    n2 = max(nums[0], nums[1])\n",
    "    for i in range(2, len(nums)):\n",
    "        temp = max(n2, n1 + nums[i])\n",
    "        n1 = n2\n",
    "        n2 = temp\n",
    "    return temp\n",
    "solution(nums)"
   ]
  },
  {
   "cell_type": "code",
   "execution_count": null,
   "metadata": {},
   "outputs": [],
   "source": [
    "# 213. House Robber II\n",
    "# You are a professional robber planning to rob houses along a street. Each house has a certain amount of money stashed. All houses at this place are arranged in a circle. That means the first house is the neighbor of the last one. Meanwhile, adjacent houses have a security system connected, and it will automatically contact the police if two adjacent houses were broken into on the same night.\n",
    "# Given an integer array nums representing the amount of money of each house, return the maximum amount of money you can rob tonight without alerting the police.\n",
    "\n"
   ]
  },
  {
   "cell_type": "code",
   "execution_count": null,
   "metadata": {
    "jupyter": {
     "source_hidden": true
    }
   },
   "outputs": [],
   "source": [
    "def solution(nums):\n",
    "    if len(nums)==1:\n",
    "        return nums[0]\n",
    "    n1 = nums[0]\n",
    "    n2 = max(nums[0], nums[1])\n",
    "    for i in range(2, len(nums)):\n",
    "        temp = max(n2, n1 + nums[i])\n",
    "        n1 = n2\n",
    "        n2 = temp\n",
    "    return temp\n",
    "\n",
    "def solution2(nums):\n",
    "    return max(solution(nums[:-1]), solution(nums[1:]))"
   ]
  },
  {
   "cell_type": "code",
   "execution_count": 97,
   "metadata": {},
   "outputs": [],
   "source": [
    "# 5. Longest Palindromic Substring\n",
    "# Given a string s, return the longest palindromic substring in s.\n",
    "\n",
    "s = \"babad\"\n"
   ]
  },
  {
   "cell_type": "code",
   "execution_count": null,
   "metadata": {
    "jupyter": {
     "source_hidden": true
    }
   },
   "outputs": [],
   "source": [
    "res = s[0]\n",
    "for i in range(len(s)):\n",
    "    l = i - 1\n",
    "    r = i + 1\n",
    "    while l>=0 and r <len(s) and s[l]==s[r]:\n",
    "        if len(res) < r - l +1:\n",
    "            res = s[l:r+1]\n",
    "        l -= 1\n",
    "        r += 1\n",
    "        \n",
    "    l = i\n",
    "    r = i + 1\n",
    "    while l>=0 and r <len(s) and s[l]==s[r]:\n",
    "        if len(res) < r - l +1:\n",
    "            res = s[l:r+1]\n",
    "        l -= 1\n",
    "        r += 1"
   ]
  },
  {
   "cell_type": "code",
   "execution_count": 100,
   "metadata": {},
   "outputs": [],
   "source": [
    "# 647. Palindromic Substrings\n",
    "# Given a string s, return the number of palindromic substrings in it.\n",
    "# A string is a palindrome when it reads the same backward as forward.\n",
    "# A substring is a contiguous sequence of characters within the string.\n",
    "\n",
    "s = \"aaa\"\n"
   ]
  },
  {
   "cell_type": "code",
   "execution_count": null,
   "metadata": {
    "jupyter": {
     "source_hidden": true
    }
   },
   "outputs": [],
   "source": [
    "num_p = 0\n",
    "for i in range(len(s)):\n",
    "    l = i\n",
    "    r = i\n",
    "    while l >= 0 and r < len(s) and s[l] == s[r]:\n",
    "        num_p += 1\n",
    "        l -= 1\n",
    "        r += 1\n",
    "\n",
    "    l = i\n",
    "    r = i+1\n",
    "    while l >= 0 and r < len(s) and s[l] == s[r]:\n",
    "        num_p += 1\n",
    "        l -= 1\n",
    "        r += 1"
   ]
  },
  {
   "cell_type": "code",
   "execution_count": 117,
   "metadata": {},
   "outputs": [],
   "source": [
    "# 91. Decode Ways\n",
    "# A message containing letters from A-Z can be encoded into numbers using the following mapping:\n",
    "\n",
    "# 'A' -> \"1\"\n",
    "# 'B' -> \"2\"\n",
    "# ...\n",
    "# 'Z' -> \"26\"\n",
    "# To decode an encoded message, all the digits must be grouped then mapped back into letters using the reverse of the mapping above (there may be multiple ways). For example, \"11106\" can be mapped into:\n",
    "\n",
    "# \"AAJF\" with the grouping (1 1 10 6)\n",
    "# \"KJF\" with the grouping (11 10 6)\n",
    "# Note that the grouping (1 11 06) is invalid because \"06\" cannot be mapped into 'F' since \"6\" is different from \"06\".\n",
    "\n",
    "# Given a string s containing only digits, return the number of ways to decode it.\n",
    "\n",
    "# The test cases are generated so that the answer fits in a 32-bit integer.\n",
    "\n",
    "s = \"106\"\n"
   ]
  },
  {
   "cell_type": "code",
   "execution_count": null,
   "metadata": {
    "jupyter": {
     "source_hidden": true
    }
   },
   "outputs": [],
   "source": [
    "# f(n) = f(n - 1) + (f(n - 2) if int(s[n-1:n+1])<=26 else 0)\n",
    "\n",
    "def solution(s):\n",
    "    if s[0]=='0':\n",
    "        return 0\n",
    "    n0 = 1\n",
    "    n1 = 1\n",
    "    for i in range(1, len(s)):\n",
    "        temp = (n1 if s[i]!='0' else 0) + (n0 if 10<=int(s[i-1:i+1])<=26 else 0)\n",
    "        n0 = n1\n",
    "        n1 = temp\n",
    "    return n1"
   ]
  },
  {
   "cell_type": "code",
   "execution_count": 119,
   "metadata": {},
   "outputs": [],
   "source": [
    "# 322. Coin Change\n",
    "# You are given an integer array coins representing coins of different denominations and an integer amount representing a total amount of money.\n",
    "\n",
    "# Return the fewest number of coins that you need to make up that amount. If that amount of money cannot be made up by any combination of the coins, return -1.\n",
    "\n",
    "# You may assume that you have an infinite number of each kind of coin.\n",
    "\n",
    "coins = [1,2,5]\n",
    "amount = 11\n",
    "\n"
   ]
  },
  {
   "cell_type": "code",
   "execution_count": null,
   "metadata": {
    "jupyter": {
     "source_hidden": true
    }
   },
   "outputs": [],
   "source": [
    "dp = [amount + 1] * (amount + 1)\n",
    "dp[0] = 0\n",
    "\n",
    "for a in (1, amount + 1):\n",
    "    for c in coins:\n",
    "        if a - c >= 0:\n",
    "            dp[a] = min(dp[a], dp[a - c] + 1)\n",
    "        return dp[amount] if (dp[amount] != amount + 1) else -1"
   ]
  },
  {
   "cell_type": "code",
   "execution_count": 415,
   "metadata": {},
   "outputs": [],
   "source": [
    "# 152. Maximum Product Subarray\n",
    "# Given an integer array nums, find a contiguous non-empty subarray \n",
    "# within the array that has the largest product, and return the product.\n",
    "# The test cases are generated so that the answer will fit in a 32-bit integer.\n",
    "# A subarray is a contiguous subsequence of the array.\n",
    "\n",
    "nums = [2,3,-2,4]\n",
    "#        [2,6,-2,4]\n",
    "#        [2,3,-12,-48]\n",
    "nums = [-2,0,-1]\n",
    "#         [-2,0,0]\n",
    "#         [-2,0,-1]"
   ]
  },
  {
   "cell_type": "code",
   "execution_count": 417,
   "metadata": {
    "collapsed": true,
    "jupyter": {
     "outputs_hidden": true,
     "source_hidden": true
    }
   },
   "outputs": [
    {
     "data": {
      "text/plain": [
       "0"
      ]
     },
     "execution_count": 417,
     "metadata": {},
     "output_type": "execute_result"
    }
   ],
   "source": [
    "cur_max = cur_min = res = nums[0]\n",
    "# f_max(n) = max(f_max(n - 1) * nums[n], f_min(n - 1) * nums[n], nums[n])\n",
    "# f_min(n) = min(f_man(n - 1) * nums[n], f_min(n - 1) * nums[n], nums[n])\n",
    "# res = nums[0]\n",
    "for i in range(1, len(nums)):\n",
    "    cur_max, cur_min = max(cur_max * nums[i], cur_min * nums[i], nums[i]), min(cur_max * nums[i], cur_min * nums[i], nums[i])\n",
    "    res = max(res, cur_max)\n",
    "res"
   ]
  },
  {
   "cell_type": "code",
   "execution_count": null,
   "metadata": {
    "jupyter": {
     "source_hidden": true
    }
   },
   "outputs": [],
   "source": [
    "\n",
    "mi = nums[0]\n",
    "ma = nums[0]\n",
    "res = nums[0]\n",
    "for n in nums[1:]:\n",
    "    temp_mi = min(n, n*mi, n*ma)\n",
    "    temp_ma = max(n, n*mi, n*ma)\n",
    "    mi = temp_mi\n",
    "    ma = temp_ma\n",
    "    res = max(res, ma)\n",
    "#     print(mi, ma)"
   ]
  },
  {
   "cell_type": "code",
   "execution_count": 137,
   "metadata": {},
   "outputs": [
    {
     "data": {
      "text/plain": [
       "True"
      ]
     },
     "execution_count": 137,
     "metadata": {},
     "output_type": "execute_result"
    }
   ],
   "source": [
    "# 139. Word Break\n",
    "# Given a string s and a dictionary of strings wordDict, return true if s can be segmented into a space-separated sequence of one or more dictionary words.\n",
    "# Note that the same word in the dictionary may be reused multiple times in the segmentation.\n",
    "\n",
    "s = \"applepenapple\"\n",
    "wordDict = [\"apple\",\"pen\"]\n",
    "\n",
    "# Time limit exceeded\n",
    "# def dfs(s):\n",
    "#     if len(s)== 0:\n",
    "#         return True\n",
    "#     for w in wordDict:\n",
    "#         if s[:len(w)] == w:\n",
    "#             if len(s) == len(w):\n",
    "#                 return True\n",
    "#             else: \n",
    "#                 if dfs(s[len(w):]):\n",
    "#                     return True\n",
    "#     return False\n",
    "# dfs(s)\n",
    "\n"
   ]
  },
  {
   "cell_type": "code",
   "execution_count": null,
   "metadata": {
    "jupyter": {
     "source_hidden": true
    }
   },
   "outputs": [],
   "source": [
    "word_set = set(wordDict)\n",
    "dp = [False] * (len(s) + 1)\n",
    "dp[0] = True\n",
    "for i in range(1, len(s) + 1):\n",
    "    for j in range(i):\n",
    "        if dp[j] and s[j:i] in word_set:\n",
    "            dp[i] = True\n",
    "            break\n",
    "dp[len(s)]"
   ]
  },
  {
   "cell_type": "code",
   "execution_count": 661,
   "metadata": {},
   "outputs": [],
   "source": [
    "# 300. Longest Increasing Subsequence\n",
    "# Given an integer array nums, return the length of the longest strictly increasing subsequence.\n",
    "# A subsequence is a sequence that can be derived from an array by deleting some \n",
    "# or no elements without changing the order of the remaining elements. \n",
    "# For example, [3,6,2,7] is a subsequence of the array [0,3,1,6,2,2,7].\n",
    "\n",
    "nums = [10,9,2,5,3,7,101,18]"
   ]
  },
  {
   "cell_type": "code",
   "execution_count": 660,
   "metadata": {
    "jupyter": {
     "source_hidden": true
    }
   },
   "outputs": [
    {
     "data": {
      "text/plain": [
       "[1, 1, 1, 2, 2, 3, 4, 4]"
      ]
     },
     "execution_count": 660,
     "metadata": {},
     "output_type": "execute_result"
    }
   ],
   "source": [
    "n = len(nums)\n",
    "dp = [1] * n\n",
    "for i in range(n):\n",
    "    for j in range(i):\n",
    "        if nums[i] > nums[j]:\n",
    "            dp[i] = max(dp[i], dp[j] + 1)\n",
    "dp"
   ]
  },
  {
   "cell_type": "code",
   "execution_count": 673,
   "metadata": {},
   "outputs": [],
   "source": [
    "# 416. Partition Equal Subset Sum\n",
    "# Given a non-empty array nums containing only positive integers, \n",
    "# find if the array can be partitioned into two subsets \n",
    "# such that the sum of elements in both subsets is equal.\n",
    "\n",
    "nums = [1,5,11,5]"
   ]
  },
  {
   "cell_type": "code",
   "execution_count": null,
   "metadata": {
    "jupyter": {
     "source_hidden": true
    }
   },
   "outputs": [],
   "source": [
    "class Solution:\n",
    "    def canPartition(self, nums: List[int]) -> bool:\n",
    "        if sum(nums) % 2:\n",
    "            return False\n",
    "\n",
    "        dp = set()\n",
    "        dp.add(0)\n",
    "        target = sum(nums) // 2\n",
    "\n",
    "        for i in range(len(nums) - 1, -1, -1):\n",
    "            nextDP = set()\n",
    "            for t in dp:\n",
    "                if (t + nums[i]) == target:\n",
    "                    return True\n",
    "                nextDP.add(t + nums[i])\n",
    "                nextDP.add(t)\n",
    "            dp = nextDP\n",
    "        return False"
   ]
  },
  {
   "cell_type": "code",
   "execution_count": 670,
   "metadata": {
    "jupyter": {
     "source_hidden": true
    }
   },
   "outputs": [],
   "source": [
    "total_sum = sum(nums)\n",
    "if total_sum % 2 != 0:\n",
    "    return False\n",
    "subset_sum = total_sum // 2\n",
    "n = len(nums)\n",
    "dp = [[False] * (subset_sum + 1) for _ in range(n + 1)]\n",
    "dp[0][0] = True\n",
    "for i in range(1, n + 1):\n",
    "    curr = nums[i - 1]\n",
    "    for j in range(subset_sum + 1):\n",
    "        if j < curr:\n",
    "            dp[i][j] = dp[i - 1][j]\n",
    "        else:\n",
    "            dp[i][j] = dp[i - 1][j] or dp[i - 1][j - curr]\n",
    "# return dp[n][subset_sum]"
   ]
  },
  {
   "cell_type": "markdown",
   "metadata": {},
   "source": [
    "# Greedy"
   ]
  },
  {
   "cell_type": "code",
   "execution_count": 676,
   "metadata": {},
   "outputs": [],
   "source": [
    "# 53. Maximum Subarray\n",
    "# Given an integer array nums, \n",
    "# find the contiguous subarray (containing at least one number) \n",
    "# which has the largest sum and return its sum.\n",
    "# A subarray is a contiguous part of an array.\n",
    "\n",
    "nums = [-2,1,-3,4,-1,2,1,-5,4]"
   ]
  },
  {
   "cell_type": "code",
   "execution_count": 436,
   "metadata": {
    "jupyter": {
     "source_hidden": true
    }
   },
   "outputs": [
    {
     "data": {
      "text/plain": [
       "6"
      ]
     },
     "execution_count": 436,
     "metadata": {},
     "output_type": "execute_result"
    }
   ],
   "source": [
    "# f(n) = max(f(n - 1) + nums[n], nums[n])\n",
    "cur = nums[0]\n",
    "res = nums[0]\n",
    "for n in nums[1:]:\n",
    "    cur = max(cur + n, n)\n",
    "    res = max(res, cur)\n",
    "res"
   ]
  },
  {
   "cell_type": "code",
   "execution_count": 440,
   "metadata": {},
   "outputs": [],
   "source": [
    "# 55. Jump Game\n",
    "# You are given an integer array nums. You are initially positioned at the array's first index, \n",
    "# and each element in the array represents your maximum jump length at that position.\n",
    "# Return true if you can reach the last index, or false otherwise.\n",
    "nums = [2,3,1,1,4]"
   ]
  },
  {
   "cell_type": "code",
   "execution_count": 244,
   "metadata": {
    "jupyter": {
     "source_hidden": true
    }
   },
   "outputs": [
    {
     "data": {
      "text/plain": [
       "0"
      ]
     },
     "execution_count": 244,
     "metadata": {},
     "output_type": "execute_result"
    }
   ],
   "source": [
    "\n",
    "goal = len(nums) - 1\n",
    "for i in range(len(nums) - 2, -1, -1):\n",
    "    if i + nums[i] >= goal:\n",
    "        goal = i\n",
    "goal"
   ]
  },
  {
   "cell_type": "code",
   "execution_count": 679,
   "metadata": {},
   "outputs": [],
   "source": [
    "# 45. Jump Game II\n",
    "# Given an array of non-negative integers nums, you are initially positioned at the first index of the array.\n",
    "# Each element in the array represents your maximum jump length at that position.\n",
    "# Your goal is to reach the last index in the minimum number of jumps.\n",
    "# You can assume that you can always reach the last index.\n",
    "nums = [2,3,1,1,4]\n",
    "nums = [2,3,0,1,4]"
   ]
  },
  {
   "cell_type": "code",
   "execution_count": 445,
   "metadata": {
    "collapsed": true,
    "jupyter": {
     "outputs_hidden": true,
     "source_hidden": true
    }
   },
   "outputs": [
    {
     "ename": "NameError",
     "evalue": "name 'jump' is not defined",
     "output_type": "error",
     "traceback": [
      "\u001b[0;31m---------------------------------------------------------------------------\u001b[0m",
      "\u001b[0;31mNameError\u001b[0m                                 Traceback (most recent call last)",
      "\u001b[0;32m<ipython-input-445-3e1f75732b7a>\u001b[0m in \u001b[0;36m<module>\u001b[0;34m\u001b[0m\n\u001b[1;32m      5\u001b[0m     \u001b[0mfarthest\u001b[0m \u001b[0;34m=\u001b[0m \u001b[0mmax\u001b[0m\u001b[0;34m(\u001b[0m\u001b[0mfarthest\u001b[0m\u001b[0;34m,\u001b[0m \u001b[0mi\u001b[0m \u001b[0;34m+\u001b[0m \u001b[0mnums\u001b[0m\u001b[0;34m[\u001b[0m\u001b[0mi\u001b[0m\u001b[0;34m]\u001b[0m\u001b[0;34m)\u001b[0m\u001b[0;34m\u001b[0m\u001b[0;34m\u001b[0m\u001b[0m\n\u001b[1;32m      6\u001b[0m     \u001b[0;32mif\u001b[0m \u001b[0mi\u001b[0m \u001b[0;34m==\u001b[0m \u001b[0mcurrent_jump_end\u001b[0m\u001b[0;34m:\u001b[0m\u001b[0;34m\u001b[0m\u001b[0;34m\u001b[0m\u001b[0m\n\u001b[0;32m----> 7\u001b[0;31m         \u001b[0mjump\u001b[0m \u001b[0;34m+=\u001b[0m \u001b[0;36m1\u001b[0m\u001b[0;34m\u001b[0m\u001b[0;34m\u001b[0m\u001b[0m\n\u001b[0m\u001b[1;32m      8\u001b[0m         \u001b[0mcurrent_jump_end\u001b[0m \u001b[0;34m=\u001b[0m \u001b[0mfarthest\u001b[0m\u001b[0;34m\u001b[0m\u001b[0;34m\u001b[0m\u001b[0m\n",
      "\u001b[0;31mNameError\u001b[0m: name 'jump' is not defined"
     ]
    }
   ],
   "source": [
    "jumps = 0\n",
    "current_jump_end= 0\n",
    "farthest = 0\n",
    "for i in range(len(nums) - 1):\n",
    "    farthest = max(farthest, i + nums[i])\n",
    "    if i == current_jump_end:\n",
    "        jump += 1\n",
    "        current_jump_end = farthest"
   ]
  },
  {
   "cell_type": "code",
   "execution_count": 457,
   "metadata": {},
   "outputs": [],
   "source": [
    "# 134. Gas Station\n",
    "# There are n gas stations along a circular route, where the amount of gas at the ith station is gas[i].\n",
    "\n",
    "# You have a car with an unlimited gas tank and it costs cost[i] of gas to travel from the ith station to its next (i + 1)th station. \n",
    "# You begin the journey with an empty tank at one of the gas stations.\n",
    "\n",
    "# Given two integer arrays gas and cost, return the starting gas station's index \n",
    "# if you can travel around the circuit once in the clockwise direction, otherwise return -1. \n",
    "# If there exists a solution, it is guaranteed to be unique\n",
    "gas = [1,2,3,4,5]\n",
    "cost = [3,4,5,1,2]"
   ]
  },
  {
   "cell_type": "code",
   "execution_count": 468,
   "metadata": {
    "jupyter": {
     "source_hidden": true
    }
   },
   "outputs": [
    {
     "data": {
      "text/plain": [
       "3"
      ]
     },
     "execution_count": 468,
     "metadata": {},
     "output_type": "execute_result"
    }
   ],
   "source": [
    "n = len(gas)\n",
    "total = 0\n",
    "cur = 0\n",
    "start = 0\n",
    "for i in range(n):\n",
    "    total += gas[i] - cost[i]\n",
    "    cur += gas[i] - cost[i]\n",
    "    if cur < 0:\n",
    "        cur = 0\n",
    "        start = i + 1\n",
    "start if total >=0 else -1"
   ]
  },
  {
   "cell_type": "code",
   "execution_count": 464,
   "metadata": {
    "jupyter": {
     "source_hidden": true
    }
   },
   "outputs": [
    {
     "data": {
      "text/plain": [
       "3"
      ]
     },
     "execution_count": 464,
     "metadata": {},
     "output_type": "execute_result"
    }
   ],
   "source": [
    "if sum(gas) < sum(cost):\n",
    "    return -1\n",
    "n = len(gas)\n",
    "i = 0\n",
    "while True:\n",
    "    res = 0\n",
    "    j = 0\n",
    "    while res >= 0 and j < n:\n",
    "        k = (i + j) % n\n",
    "        res += gas[k] - cost[k]\n",
    "        j += 1\n",
    "        if res < 0:\n",
    "            break\n",
    "    if j == n:\n",
    "        return i\n",
    "    else:\n",
    "        i = (i + j) % n\n",
    "i"
   ]
  },
  {
   "cell_type": "code",
   "execution_count": 682,
   "metadata": {},
   "outputs": [],
   "source": [
    "# 846. Hand of Straights\n",
    "# Alice has some number of cards and she wants to rearrange the cards into groups \n",
    "# so that each group is of size groupSize, and consists of groupSize consecutive cards.\n",
    "# Given an integer array hand where hand[i] is the value written on the ith card and an integer groupSize, \n",
    "# return true if she can rearrange the cards, or false otherwise.\n",
    "\n",
    "hand = [1,2,3,6,2,3,4,7,8]\n",
    "# key = [1,2,3,4,6,7,8]\n",
    "# val = [1,2,2,1,1,1,1]\n",
    "groupSize = 3"
   ]
  },
  {
   "cell_type": "code",
   "execution_count": 707,
   "metadata": {},
   "outputs": [],
   "source": [
    "hand = [1,1,2,2,3,3]\n",
    "groupSize = 3"
   ]
  },
  {
   "cell_type": "code",
   "execution_count": 252,
   "metadata": {
    "collapsed": true,
    "jupyter": {
     "outputs_hidden": true,
     "source_hidden": true
    }
   },
   "outputs": [
    {
     "data": {
      "text/plain": [
       "Counter({1: 1, 2: 2, 3: 2, 6: 1, 4: 1, 7: 1, 8: 1})"
      ]
     },
     "execution_count": 252,
     "metadata": {},
     "output_type": "execute_result"
    }
   ],
   "source": [
    "from collections import Counter\n",
    "count = Counter(hand)\n",
    "if len(hand) % groupsize != 0:\n",
    "    return False\n",
    "minH = list(count.keys())\n",
    "heapq.heapify(minH)\n",
    "while minH:\n",
    "    first = minH[0]\n",
    "    for i in range(first, first + groupSize):\n",
    "        if i not in count:\n",
    "            return False\n",
    "        count[i] -= 1\n",
    "        if count[i] == 0:\n",
    "            if i != minH[0]:\n",
    "                return False\n",
    "            heapq.heappop(minH)"
   ]
  },
  {
   "cell_type": "code",
   "execution_count": null,
   "metadata": {},
   "outputs": [],
   "source": []
  },
  {
   "cell_type": "code",
   "execution_count": 475,
   "metadata": {},
   "outputs": [],
   "source": [
    "# 763. Partition Labels\n",
    "# You are given a string s. \n",
    "# We want to partition the string into as many parts as possible \n",
    "# so that each letter appears in at most one part.\n",
    "\n",
    "# Note that the partition is done \n",
    "# so that after concatenating all the parts in order, \n",
    "# the resultant string should be s.\n",
    "\n",
    "# Return a list of integers representing the size of these parts.\n",
    "\n",
    "s = \"ababcbacadefegdehijhklij\"\n"
   ]
  },
  {
   "cell_type": "code",
   "execution_count": 256,
   "metadata": {
    "jupyter": {
     "source_hidden": true
    }
   },
   "outputs": [],
   "source": [
    "last = {c:i for i, c in enumerate(s)}\n",
    "ans = []\n",
    "j = anchor = 0\n",
    "for i, c in enumerate(s):\n",
    "    j = max(j, last[c])\n",
    "    if j == i:\n",
    "        ans.append(i - anchor + 1)\n",
    "        anchor = i + 1"
   ]
  },
  {
   "cell_type": "code",
   "execution_count": 257,
   "metadata": {
    "collapsed": true,
    "jupyter": {
     "outputs_hidden": true,
     "source_hidden": true
    }
   },
   "outputs": [
    {
     "data": {
      "text/plain": [
       "[9, 7, 8]"
      ]
     },
     "execution_count": 257,
     "metadata": {},
     "output_type": "execute_result"
    }
   ],
   "source": [
    "ans"
   ]
  },
  {
   "cell_type": "code",
   "execution_count": 481,
   "metadata": {},
   "outputs": [],
   "source": [
    "# 678. Valid Parenthesis String\n",
    "# Given a string s containing only three types of characters: '(', ')' and '*', return true if s is valid\n",
    "# The following rules define a valid string:\n",
    "# Any left parenthesis '(' must have a corresponding right parenthesis ')'.\n",
    "# Any right parenthesis ')' must have a corresponding left parenthesis '('.\n",
    "# Left parenthesis '(' must go before the corresponding right parenthesis ')'.\n",
    "# '*' could be treated as a single right parenthesis ')' or a single left parenthesis '(' or an empty string \"\".\n",
    "s = \"(*)\""
   ]
  },
  {
   "cell_type": "code",
   "execution_count": null,
   "metadata": {},
   "outputs": [],
   "source": [
    "lo, hi = 0, 0\n",
    "for c in s:\n",
    "    lo += 1 if c == '(' else lo -= 1\n",
    "    hi += 1 if c != ')' else hi -= 1\n",
    "    if hi < 0:\n",
    "        return False\n",
    "    if lo < 0:\n",
    "        lo = 0\n",
    "return lo == 0"
   ]
  },
  {
   "cell_type": "markdown",
   "metadata": {},
   "source": [
    "# interval"
   ]
  },
  {
   "cell_type": "code",
   "execution_count": 501,
   "metadata": {},
   "outputs": [],
   "source": [
    "# 57. Insert Interval\n",
    "# You are given an array of non-overlapping intervals intervals \n",
    "# where intervals[i] = [starti, endi] represent the start and the end of the ith interval and \n",
    "# intervals is sorted in ascending order by starti. \n",
    "# You are also given an interval newInterval = [start, end] that \n",
    "# represents the start and end of another interval.\n",
    "# Insert newInterval into intervals such that intervals is still sorted in ascending order by starti \n",
    "# and intervals still does not have any overlapping intervals (merge overlapping intervals if necessary).\n",
    "# Return intervals after the insertion.\n",
    "\n",
    "# intervals = [[1,3],[6,9]]\n",
    "# newInterval = [2,5]\n",
    "intervals = [[1,5]]\n",
    "newInterval = [2,3]"
   ]
  },
  {
   "cell_type": "code",
   "execution_count": null,
   "metadata": {
    "jupyter": {
     "source_hidden": true
    }
   },
   "outputs": [],
   "source": [
    "res = []\n",
    "\n",
    "for i in range(len(intervals)):\n",
    "    if newInterval[1] < intervals[i][0]:\n",
    "        res.append(newInterval)\n",
    "        return res + intervals[i:]\n",
    "    elif newInterval[0] > intervals[i][1]:\n",
    "        res.append(intervals[i])\n",
    "    else:\n",
    "        newInterval = [\n",
    "            min(newInterval[0], intervals[i][0]),\n",
    "            max(newInterval[1], intervals[i][1]),\n",
    "        ]\n",
    "res.append(newInterval)"
   ]
  },
  {
   "cell_type": "code",
   "execution_count": 503,
   "metadata": {},
   "outputs": [],
   "source": [
    "# 56. Merge Intervals\n",
    "# Given an array of intervals where intervals[i] = [starti, endi], \n",
    "# merge all overlapping intervals, \n",
    "# and return an array of the non-overlapping intervals \n",
    "# that cover all the intervals in the input.\n",
    "\n",
    "intervals = [[1,3],[2,6],[8,10],[15,18]]"
   ]
  },
  {
   "cell_type": "code",
   "execution_count": 504,
   "metadata": {
    "jupyter": {
     "source_hidden": true
    }
   },
   "outputs": [
    {
     "data": {
      "text/plain": [
       "[[1, 6], [8, 10], [15, 18]]"
      ]
     },
     "execution_count": 504,
     "metadata": {},
     "output_type": "execute_result"
    }
   ],
   "source": [
    "intervals.sort()\n",
    "res = []\n",
    "temp = intervals[0]\n",
    "for interval in intervals[1:]:\n",
    "    if temp[1] >= interval[0]:\n",
    "        temp = [temp[0], max(temp[1], interval[1])]\n",
    "    else:\n",
    "        res.append(temp)\n",
    "        temp = interval.copy()\n",
    "res.append(temp)\n",
    "res"
   ]
  },
  {
   "cell_type": "code",
   "execution_count": 711,
   "metadata": {},
   "outputs": [],
   "source": [
    "# 435. Non-overlapping Intervals\n",
    "# Given an array of intervals intervals where intervals[i] = [starti, endi], \n",
    "# return the minimum number of intervals you need to remove \n",
    "# to make the rest of the intervals non-overlapping.\n",
    "\n",
    "# intervals = [[1,2],[2,3],[3,4],[1,3]]\n",
    "intervals = [[-52,31],[-73,-26],[82,97],[-65,-11],[-62,-49],[95,99],[58,95],[-31,49],[66,98],[-63,2],[30,47],[-40,-26]]"
   ]
  },
  {
   "cell_type": "code",
   "execution_count": 712,
   "metadata": {
    "jupyter": {
     "source_hidden": true
    }
   },
   "outputs": [
    {
     "data": {
      "text/plain": [
       "10"
      ]
     },
     "execution_count": 712,
     "metadata": {},
     "output_type": "execute_result"
    }
   ],
   "source": [
    "intervals.sort()\n",
    "cur_end = intervals[0][1]\n",
    "res = 0\n",
    "for i in intervals[1:]:\n",
    "    if cur_end > i[0]:\n",
    "        res += 1\n",
    "        cur_end = min(cur_end, i[1])\n",
    "    else:\n",
    "        cur_end = i[1]\n",
    "res"
   ]
  },
  {
   "cell_type": "code",
   "execution_count": 523,
   "metadata": {},
   "outputs": [],
   "source": [
    "# 252. Meeting Rooms\n",
    "# Given an array of meeting time intervals where intervals[i] = [starti, endi], \n",
    "# determine if a person could attend all meetings.\n",
    "\n",
    "intervals = [[0,30],[5,10],[15,20]]"
   ]
  },
  {
   "cell_type": "code",
   "execution_count": null,
   "metadata": {
    "jupyter": {
     "source_hidden": true
    }
   },
   "outputs": [],
   "source": [
    "if not intervals:\n",
    "    return True\n",
    "intervals.sort()\n",
    "end = interval[0][1]\n",
    "for interval in intervals[1:]:\n",
    "    if end > interval[0]:\n",
    "        return False\n",
    "    else:\n",
    "        end = interval[1]\n",
    "return True"
   ]
  },
  {
   "cell_type": "code",
   "execution_count": 531,
   "metadata": {},
   "outputs": [],
   "source": [
    "# 253. Meeting Rooms II\n",
    "# Given an array of meeting time intervals intervals \n",
    "# where intervals[i] = [starti, endi], \n",
    "# return the minimum number of conference rooms required.\n",
    "\n",
    "intervals = [[0,30],[5,10],[15,20]]"
   ]
  },
  {
   "cell_type": "code",
   "execution_count": 719,
   "metadata": {},
   "outputs": [],
   "source": [
    "starts, ends = [], []\n",
    "for s, e in intervals:\n",
    "    starts.append(s)\n",
    "    ends.append(e)\n",
    "heapq.heapify(starts)\n",
    "heapq.heapify(ends)\n",
    "res = 0\n",
    "room = 0\n",
    "while starts:\n",
    "    print(starts, ends)\n",
    "    s = starts[0]\n",
    "    e = ends[0]\n",
    "    if s < e:\n",
    "        room += 1\n",
    "        heapq.heappop(starts)\n",
    "    elif s > e:\n",
    "        room -= 1\n",
    "        heapq.heappop(ends)\n",
    "    else:\n",
    "        heapq.heappop(starts)\n",
    "        heapq.heappop(ends)\n",
    "    res = max(room, res)\n",
    "res"
   ]
  },
  {
   "cell_type": "code",
   "execution_count": 720,
   "metadata": {},
   "outputs": [
    {
     "name": "stdout",
     "output_type": "stream",
     "text": [
      "[-73, -65, -63, -62, -52, -40, -31, 30, 58, 66, 82, 95] [-49, -26, -26, -11, 31, 2, 49, 47, 95, 98, 97, 99]\n",
      "[-65, -62, -63, 30, -52, -40, -31, 95, 58, 66, 82] [-49, -26, -26, -11, 31, 2, 49, 47, 95, 98, 97, 99]\n",
      "[-63, -62, -40, 30, -52, 82, -31, 95, 58, 66] [-49, -26, -26, -11, 31, 2, 49, 47, 95, 98, 97, 99]\n",
      "[-62, -52, -40, 30, 66, 82, -31, 95, 58] [-49, -26, -26, -11, 31, 2, 49, 47, 95, 98, 97, 99]\n",
      "[-52, 30, -40, 58, 66, 82, -31, 95] [-49, -26, -26, -11, 31, 2, 49, 47, 95, 98, 97, 99]\n",
      "[-40, 30, -31, 58, 66, 82, 95] [-49, -26, -26, -11, 31, 2, 49, 47, 95, 98, 97, 99]\n",
      "[-40, 30, -31, 58, 66, 82, 95] [-26, -26, 2, -11, 31, 99, 49, 47, 95, 98, 97]\n",
      "[-31, 30, 82, 58, 66, 95] [-26, -26, 2, -11, 31, 99, 49, 47, 95, 98, 97]\n",
      "[30, 58, 82, 95, 66] [-26, -26, 2, -11, 31, 99, 49, 47, 95, 98, 97]\n",
      "[30, 58, 82, 95, 66] [-26, -11, 2, 47, 31, 99, 49, 97, 95, 98]\n",
      "[30, 58, 82, 95, 66] [-11, 31, 2, 47, 98, 99, 49, 97, 95]\n",
      "[30, 58, 82, 95, 66] [2, 31, 49, 47, 98, 99, 95, 97]\n",
      "[30, 58, 82, 95, 66] [31, 47, 49, 97, 98, 99, 95]\n",
      "[58, 66, 82, 95] [31, 47, 49, 97, 98, 99, 95]\n",
      "[58, 66, 82, 95] [47, 95, 49, 97, 98, 99]\n",
      "[58, 66, 82, 95] [49, 95, 99, 97, 98]\n",
      "[58, 66, 82, 95] [95, 97, 99, 98]\n",
      "[66, 95, 82] [95, 97, 99, 98]\n",
      "[82, 95] [95, 97, 99, 98]\n",
      "[95] [95, 97, 99, 98]\n"
     ]
    },
    {
     "data": {
      "text/plain": [
       "6"
      ]
     },
     "execution_count": 720,
     "metadata": {},
     "output_type": "execute_result"
    }
   ],
   "source": []
  },
  {
   "cell_type": "code",
   "execution_count": 721,
   "metadata": {},
   "outputs": [
    {
     "data": {
      "text/plain": [
       "6"
      ]
     },
     "execution_count": 721,
     "metadata": {},
     "output_type": "execute_result"
    }
   ],
   "source": [
    "starts = sorted([i[0] for i in intervals])\n",
    "ends = sorted([i[1] for i in intervals])\n",
    "\n",
    "s, e = 0, 0\n",
    "res = 0\n",
    "count = 0\n",
    "\n",
    "while s < len(intervals):\n",
    "    if starts[s] < ends[e]:\n",
    "        s += 1\n",
    "        count += 1\n",
    "    else:\n",
    "        e += 1\n",
    "        count -= 1\n",
    "    res = max(res, count)\n",
    "res"
   ]
  },
  {
   "cell_type": "code",
   "execution_count": 533,
   "metadata": {
    "jupyter": {
     "source_hidden": true
    }
   },
   "outputs": [],
   "source": [
    "class Solution:\n",
    "    \"\"\"\n",
    "    @param intervals: an array of meeting time intervals\n",
    "    @return: the minimum number of conference rooms required\n",
    "    \"\"\"\n",
    "\n",
    "    def minMeetingRooms(self, intervals):\n",
    "        start = sorted([i[0] for i in intervals])\n",
    "        end = sorted([i[1] for i in intervals])\n",
    "\n",
    "        res, count = 0, 0\n",
    "        s, e = 0, 0\n",
    "        while s < len(intervals):\n",
    "            if start[s] < end[e]:\n",
    "                s += 1\n",
    "                count += 1\n",
    "            else:\n",
    "                e += 1\n",
    "                count -= 1\n",
    "            res = max(res, count)\n",
    "        return res"
   ]
  },
  {
   "cell_type": "code",
   "execution_count": 534,
   "metadata": {},
   "outputs": [
    {
     "data": {
      "text/plain": [
       "2"
      ]
     },
     "execution_count": 534,
     "metadata": {},
     "output_type": "execute_result"
    }
   ],
   "source": [
    "Solution().minMeetingRooms(intervals)"
   ]
  },
  {
   "cell_type": "code",
   "execution_count": null,
   "metadata": {},
   "outputs": [],
   "source": []
  }
 ],
 "metadata": {
  "kernelspec": {
   "display_name": "Python 3",
   "language": "python",
   "name": "python3"
  },
  "language_info": {
   "codemirror_mode": {
    "name": "ipython",
    "version": 3
   },
   "file_extension": ".py",
   "mimetype": "text/x-python",
   "name": "python",
   "nbconvert_exporter": "python",
   "pygments_lexer": "ipython3",
   "version": "3.7.4"
  }
 },
 "nbformat": 4,
 "nbformat_minor": 4
}
